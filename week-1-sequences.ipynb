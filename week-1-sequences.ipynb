{
 "cells": [
  {
   "cell_type": "markdown",
   "metadata": {},
   "source": [
    "# Sequence objects\n",
    "\n",
    "## Instructions\n",
    "\n",
    "Read the chapter 3 of the Biopython tutorial. Pay attention to how biological sequences are represented and handled.\n",
    "\n",
    "## Objectives\n",
    "\n",
    "- create and manipulate Seq objects\n",
    "- understand how Alphabet objects work\n",
    "- understand how CodonTable objects work\n",
    "\n",
    "## Summary\n",
    "\n",
    "Sequence-related objects and functions are in the [`Bio.Seq`](https://biopython.org/DIST/docs/api/Bio.Seq.Seq-class.html) module."
   ]
  },
  {
   "cell_type": "markdown",
   "metadata": {},
   "source": [
    "#### Alphabets contain information on interpretation\n",
    "\n",
    "Alphabet objects specify how the sequence of letters should be interpreted. There are generic alphabets for DNA, RNA, and proteins but also IUPAC-compatible alphabets. In addition to the normal \"unambiguous\" alphabets, IUPAC defines \"ambiguous\" and \"extended\" alphabets.\n",
    "\n",
    "See [`Alphabet API`](https://biopython.org/DIST/docs/api/Bio.Alphabet-module.html) for details."
   ]
  },
  {
   "cell_type": "markdown",
   "metadata": {},
   "source": [
    "#### Sequences are like strings\n",
    "\n",
    "Seq objects are like Python string but aware of the used alphabet (i.e. what the letters actually mean)."
   ]
  },
  {
   "cell_type": "code",
   "execution_count": null,
   "metadata": {},
   "outputs": [],
   "source": [
    "import Bio.Alphabet as BA\n",
    "import Bio.Seq as BS\n",
    "\n",
    "# Python string\n",
    "seq = \"AAAA\"\n",
    "print(seq)\n",
    "print(repr(seq))\n",
    "print()\n",
    "\n",
    "# DNA sequence\n",
    "seq = BS.Seq(\"AAAA\", BA.generic_dna)\n",
    "print(seq)\n",
    "print(seq.alphabet)\n",
    "print(repr(seq))\n",
    "print()\n",
    "\n",
    "# RNA sequence\n",
    "seq = BS.Seq(\"AAAA\", BA.generic_rna)\n",
    "print(seq)\n",
    "print(seq.alphabet)\n",
    "print(repr(seq))\n",
    "print()\n",
    "\n",
    "# protein sequence\n",
    "seq = BS.Seq(\"AAAA\", BA.generic_protein)\n",
    "print(seq)\n",
    "print(seq.alphabet)\n",
    "print(repr(seq))\n",
    "print()\n",
    "\n",
    "# protein sequence\n",
    "seq = BS.Seq(\"AAAA\", BA.generic_protein)\n",
    "# another Python string\n",
    "seq = str(seq)\n",
    "print(seq)\n",
    "print(repr(seq))\n",
    "print()"
   ]
  },
  {
   "cell_type": "markdown",
   "metadata": {},
   "source": [
    "#### Sequences act like strings"
   ]
  },
  {
   "cell_type": "code",
   "execution_count": null,
   "metadata": {},
   "outputs": [],
   "source": [
    "import Bio.Alphabet as BA\n",
    "import Bio.Seq as BS\n",
    "\n",
    "# DNA sequence\n",
    "seq = BS.Seq(\"ACGCGGCGTG\", BA.generic_dna)\n",
    "\n",
    "# length of sequence\n",
    "print(len(seq))\n",
    "print()\n",
    "\n",
    "# access to a single element\n",
    "print(seq[4])\n",
    "print()\n",
    "\n",
    "# slicing\n",
    "print(seq[2:5])\n",
    "print()\n",
    "\n",
    "# iteration\n",
    "for e in seq:\n",
    "    print(e)\n",
    "print()"
   ]
  },
  {
   "cell_type": "markdown",
   "metadata": {},
   "source": [
    "Study the [`Bio.Seq.Seq API`](https://biopython.org/DIST/docs/api/Bio.Seq.Seq-class.html) to learn what methods it has. Some of them will be discussed below."
   ]
  },
  {
   "cell_type": "markdown",
   "metadata": {},
   "source": [
    "#### Sequences can be concatenated\n",
    "\n",
    "Seq objects can be concatenated (like Python strings). Obviously, the alphabets must be compatible."
   ]
  },
  {
   "cell_type": "code",
   "execution_count": null,
   "metadata": {},
   "outputs": [],
   "source": [
    "import Bio.Alphabet as BA\n",
    "import Bio.Seq as BS\n",
    "\n",
    "# DNA sequences\n",
    "seq1 = BS.Seq(\"ACGCGGCGTG\", BA.generic_dna)\n",
    "seq2 = BS.Seq(\"AAAGGGTAAA\", BA.generic_dna)\n",
    "\n",
    "seq = seq1+seq2\n",
    "print(seq)\n",
    "print(repr(seq))\n",
    "print()\n",
    "\n",
    "# DNA sequences\n",
    "seq1 = BS.Seq(\"ACGCGGCGTG\", BA.generic_dna)\n",
    "seq2 = BS.Seq(\"AAAGGGTAAA\", BA.generic_protein)\n",
    "\n",
    "# incompatible sequences cannot be concatenated\n",
    "try:\n",
    "    print(seq1+seq2)\n",
    "except TypeError as e:\n",
    "    print(e)"
   ]
  },
  {
   "cell_type": "markdown",
   "metadata": {},
   "source": [
    "#### Character case matters\n",
    "\n",
    "Seq objects are case-sensitive. Unless you have a good reason, it is recommended to use upper-case characters because the IUPAC alphabets expect them."
   ]
  },
  {
   "cell_type": "code",
   "execution_count": null,
   "metadata": {},
   "outputs": [],
   "source": [
    "import Bio.Alphabet as BA\n",
    "import Bio.Seq as BS\n",
    "\n",
    "# sequence with IUPAC alphabet\n",
    "seq1 = BS.Seq(\"ACGCGGCGTG\", BA.IUPAC.unambiguous_dna)\n",
    "print(seq1)\n",
    "print(repr(seq1))\n",
    "print()\n",
    "\n",
    "# lower-case version has a generic alphabet\n",
    "seq2 = seq1.lower()\n",
    "print(seq2)\n",
    "print(repr(seq2))\n",
    "print()\n",
    "\n",
    "# an upper-case substring is not found in the lower-case version\n",
    "print(\"ACGC\" in seq1)\n",
    "print(\"ACGC\" in seq2)"
   ]
  },
  {
   "cell_type": "markdown",
   "metadata": {},
   "source": [
    "#### Sequence comparison is not trivial\n",
    "\n",
    "Comparing two sequences is not trivial because the alphabet must be taken into account. Due to the challenges involved, Biopython ignores the alphabets but issues a warning if the alphabets are not compatible."
   ]
  },
  {
   "cell_type": "code",
   "execution_count": null,
   "metadata": {},
   "outputs": [],
   "source": [
    "# turn warnings into exceptions\n",
    "import warnings as W\n",
    "W.simplefilter(\"error\")\n",
    "\n",
    "import Bio as B\n",
    "import Bio.Alphabet as BA\n",
    "import Bio.Seq as BS\n",
    "\n",
    "# DNA sequences\n",
    "seq1 = BS.Seq(\"ACGCGGCGTG\", BA.IUPAC.unambiguous_dna)\n",
    "seq2 = BS.Seq(\"ACGCGGCGTG\", BA.IUPAC.ambiguous_dna)\n",
    "seq3 = BS.Seq(\"NNNCGGCGTG\", BA.IUPAC.ambiguous_dna)\n",
    "seq4 = BS.Seq(\"NNNCGGCGTG\", BA.IUPAC.ambiguous_dna)\n",
    "\n",
    "# protein sequence\n",
    "seq5 = BS.Seq(\"ACGCGGCGTG\", BA.IUPAC.protein)\n",
    "\n",
    "# compatible alphabets have no problems\n",
    "print(seq1 == seq2)\n",
    "\n",
    "# ambiguous nucleotides are compared as such (i.e. no \"intelligent\" matching)\n",
    "print(seq2 == seq4)\n",
    "print(seq3 == seq4)\n",
    "\n",
    "# incompatible alphabets are compared but with warning\n",
    "try:\n",
    "    print(seq1 == seq5)\n",
    "except B.BiopythonWarning as e:\n",
    "    print(e)"
   ]
  },
  {
   "cell_type": "markdown",
   "metadata": {},
   "source": [
    "#### Complements, transcription, and translation\n",
    "\n",
    "Seq objects have methods to create complements as well as to transcribe and translate them. The sequence alphabets are respected in these operations.\n",
    "\n",
    "Note that the transcription and translation always consider the coding strand (even though biologically the template strand is involved, too)."
   ]
  },
  {
   "cell_type": "code",
   "execution_count": null,
   "metadata": {},
   "outputs": [],
   "source": [
    "import Bio.Alphabet as BA\n",
    "import Bio.Seq as BS\n",
    "\n",
    "# DNA sequence\n",
    "seq1 = BS.Seq(\"ACGCGGCGTGAA\", BA.IUPAC.unambiguous_dna)\n",
    "print(seq1)\n",
    "print(repr(seq1))\n",
    "print()\n",
    "\n",
    "# complement and reverse complement sequences\n",
    "seq = seq1.complement()\n",
    "print(seq)\n",
    "seq = seq1.reverse_complement()\n",
    "print(seq)\n",
    "print(repr(seq))\n",
    "print()\n",
    "\n",
    "# transcribed sequence\n",
    "seq2 = seq1.transcribe()\n",
    "print(seq2)\n",
    "print(repr(seq2))\n",
    "print()\n",
    "\n",
    "# translated sequence\n",
    "seq3 = seq2.translate()\n",
    "print(seq3)\n",
    "\n",
    "# DNA can be translated directly, too\n",
    "seq3 = seq1.translate()\n",
    "print(seq3)\n",
    "print(repr(seq3))\n",
    "print()"
   ]
  },
  {
   "cell_type": "markdown",
   "metadata": {},
   "source": [
    "The translation method issues an warning if the sequence contains a partial codon at the end."
   ]
  },
  {
   "cell_type": "code",
   "execution_count": null,
   "metadata": {},
   "outputs": [],
   "source": [
    "# turn warnings into exceptions\n",
    "import warnings as W\n",
    "W.simplefilter(\"error\")\n",
    "\n",
    "import Bio as B\n",
    "import Bio.Alphabet as BA\n",
    "import Bio.Seq as BS\n",
    "\n",
    "# DNA sequence\n",
    "seq = BS.Seq(\"ACGCGGCGTGA\", BA.IUPAC.unambiguous_dna)\n",
    "try:\n",
    "    seq.translate()\n",
    "except B.BiopythonWarning as e:\n",
    "    print(e)"
   ]
  },
  {
   "cell_type": "markdown",
   "metadata": {},
   "source": [
    "The translated sequences can contain stop codons (obviously). The sequence can be translated until the first stop codon."
   ]
  },
  {
   "cell_type": "code",
   "execution_count": null,
   "metadata": {},
   "outputs": [],
   "source": [
    "import Bio.Alphabet as BA\n",
    "import Bio.Seq as BS\n",
    "\n",
    "# DNA sequence with two stop codons\n",
    "seq = BS.Seq(\"ACGAGGGCGTAGGTGCCTCGATAG\", BA.IUPAC.unambiguous_dna)\n",
    "seq = seq.translate()\n",
    "print(seq)\n",
    "print(repr(seq))\n",
    "print()\n",
    "\n",
    "# translate until the first stop codon\n",
    "seq = BS.Seq(\"ACGAGGGCGTAGGTGCCTCGATAG\", BA.IUPAC.unambiguous_dna)\n",
    "seq = seq.translate(to_stop=True)\n",
    "print(seq)\n",
    "print(repr(seq))\n",
    "print()"
   ]
  },
  {
   "cell_type": "markdown",
   "metadata": {},
   "source": [
    "The translation method can be given a specific codon table. Biopython uses the codon information provided by NCBI. See [`CodonTable API`](https://biopython.org/DIST/docs/api/Bio.Data.CodonTable-module.html) for details."
   ]
  },
  {
   "cell_type": "code",
   "execution_count": null,
   "metadata": {},
   "outputs": [],
   "source": [
    "import Bio.Alphabet as BA\n",
    "import Bio.Seq as BS\n",
    "\n",
    "# DNA sequence\n",
    "seq1 = BS.Seq(\"ACGAGGGCGTAGGTGCCTCGATAG\", BA.IUPAC.unambiguous_dna)\n",
    "\n",
    "# translation using the default codon table\n",
    "seq2 = seq1.translate(table=\"Standard\")\n",
    "print(seq2)\n",
    "print(repr(seq2))\n",
    "print()\n",
    "\n",
    "# translation using a mitochondrial codon table\n",
    "seq2 = seq1.translate(table=\"Vertebrate Mitochondrial\")\n",
    "print(seq2)\n",
    "print(repr(seq2))\n",
    "print()\n"
   ]
  },
  {
   "cell_type": "markdown",
   "metadata": {},
   "source": [
    "The codon tables are accessible via various dictionaries in the CodonTable module."
   ]
  },
  {
   "cell_type": "code",
   "execution_count": null,
   "metadata": {},
   "outputs": [],
   "source": [
    "import Bio.Data.CodonTable as BDCT\n",
    "\n",
    "# iterate over table names\n",
    "for name in BDCT.generic_by_name.keys():\n",
    "    print(name)\n",
    "print()\n",
    "\n",
    "# access a specific table\n",
    "table = BDCT.generic_by_name[\"Vertebrate Mitochondrial\"]\n",
    "print(table)\n",
    "print()\n",
    "\n",
    "# start and stop codons\n",
    "print(table.start_codons)\n",
    "print()\n",
    "print(table.stop_codons)\n",
    "print()"
   ]
  }
 ],
 "metadata": {
  "kernelspec": {
   "display_name": "Python 3",
   "language": "python",
   "name": "python3"
  },
  "language_info": {
   "codemirror_mode": {
    "name": "ipython",
    "version": 3
   },
   "file_extension": ".py",
   "mimetype": "text/x-python",
   "name": "python",
   "nbconvert_exporter": "python",
   "pygments_lexer": "ipython3",
   "version": "3.6.7"
  }
 },
 "nbformat": 4,
 "nbformat_minor": 2
}
