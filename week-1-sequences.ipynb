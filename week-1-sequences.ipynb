{
 "cells": [
  {
   "cell_type": "markdown",
   "metadata": {},
   "source": [
    "# Sequence objects\n",
    "\n",
    "## Instructions\n",
    "\n",
    "Read the chapter 3 of the Biopython tutorial. Pay attention to how biological sequences are represented and handled.\n",
    "\n",
    "## Objectives\n",
    "\n",
    "- create and manipulate Seq objects\n",
    "- understand how Alphabet objects work\n",
    "- understand how CodonTable objects work\n",
    "\n",
    "## Summary\n",
    "\n",
    "Biological sequences are modelled by the `Seq` class in the [`Bio.Seq`](https://biopython.org/DIST/docs/api/Bio.Seq-module.html) module."
   ]
  },
  {
   "cell_type": "code",
   "execution_count": null,
   "metadata": {},
   "outputs": [],
   "source": [
    "import Bio.Seq as BS"
   ]
  },
  {
   "cell_type": "markdown",
   "metadata": {},
   "source": [
    "#### Alphabets contain information on interpretation\n",
    "\n",
    "Alphabet objects specify how the sequence of letters should be interpreted. There are generic alphabets for DNA, RNA, and proteins but also IUPAC-compatible alphabets. In addition to the normal \"unambiguous\" alphabets, IUPAC defines \"ambiguous\" and \"extended\" alphabets.\n",
    "\n",
    "See the [`Bio.Alphabet`](https://biopython.org/DIST/docs/api/Bio.Alphabet-module.html) module for details."
   ]
  },
  {
   "cell_type": "code",
   "execution_count": null,
   "metadata": {},
   "outputs": [],
   "source": [
    "import Bio.Alphabet as BA"
   ]
  },
  {
   "cell_type": "markdown",
   "metadata": {},
   "source": [
    "#### Sequences are like strings\n",
    "\n",
    "Seq objects are like Python string but aware of the used alphabet (i.e. what the letters actually mean)."
   ]
  },
  {
   "cell_type": "code",
   "execution_count": null,
   "metadata": {},
   "outputs": [],
   "source": [
    "# Python string\n",
    "seq = \"AAAA\"\n",
    "print(seq)\n",
    "print(repr(seq))"
   ]
  },
  {
   "cell_type": "code",
   "execution_count": null,
   "metadata": {},
   "outputs": [],
   "source": [
    "# DNA sequence\n",
    "seq = BS.Seq(\"AAAA\", BA.generic_dna)\n",
    "print(seq)\n",
    "print(repr(seq))"
   ]
  },
  {
   "cell_type": "code",
   "execution_count": null,
   "metadata": {},
   "outputs": [],
   "source": [
    "# RNA sequence\n",
    "seq = BS.Seq(\"AAAA\", BA.generic_rna)\n",
    "print(seq)\n",
    "print(repr(seq))"
   ]
  },
  {
   "cell_type": "code",
   "execution_count": null,
   "metadata": {},
   "outputs": [],
   "source": [
    "# protein sequence\n",
    "seq = BS.Seq(\"AAAA\", BA.generic_protein)\n",
    "print(seq)\n",
    "print(repr(seq))"
   ]
  },
  {
   "cell_type": "code",
   "execution_count": null,
   "metadata": {},
   "outputs": [],
   "source": [
    "# protein sequence\n",
    "seq = BS.Seq(\"AAAA\", BA.generic_protein)\n",
    "# back to Python string\n",
    "seq = str(seq)\n",
    "print(seq)\n",
    "print(repr(seq))"
   ]
  },
  {
   "cell_type": "markdown",
   "metadata": {},
   "source": [
    "The alphabet can also be accessed if needed."
   ]
  },
  {
   "cell_type": "code",
   "execution_count": null,
   "metadata": {},
   "outputs": [],
   "source": [
    "# protein sequence\n",
    "seq = BS.Seq(\"AAAA\", BA.generic_protein)\n",
    "print(seq.alphabet)"
   ]
  },
  {
   "cell_type": "markdown",
   "metadata": {},
   "source": [
    "#### Sequences act like strings"
   ]
  },
  {
   "cell_type": "code",
   "execution_count": null,
   "metadata": {},
   "outputs": [],
   "source": [
    "# DNA sequence\n",
    "seq = BS.Seq(\"ACGCGGCGTG\", BA.generic_dna)"
   ]
  },
  {
   "cell_type": "code",
   "execution_count": null,
   "metadata": {},
   "outputs": [],
   "source": [
    "# length of sequence\n",
    "print(len(seq))"
   ]
  },
  {
   "cell_type": "code",
   "execution_count": null,
   "metadata": {},
   "outputs": [],
   "source": [
    "# access to a single element\n",
    "print(seq[4])"
   ]
  },
  {
   "cell_type": "code",
   "execution_count": null,
   "metadata": {},
   "outputs": [],
   "source": [
    "# slicing\n",
    "print(seq[2:5])"
   ]
  },
  {
   "cell_type": "code",
   "execution_count": null,
   "metadata": {},
   "outputs": [],
   "source": [
    "# iteration\n",
    "for e in seq:\n",
    "    print(e)"
   ]
  },
  {
   "cell_type": "markdown",
   "metadata": {},
   "source": [
    "Study the [`Seq`](https://biopython.org/DIST/docs/api/Bio.Seq.Seq-class.html) class API to learn what methods it has. Some of them will be discussed below."
   ]
  },
  {
   "cell_type": "markdown",
   "metadata": {},
   "source": [
    "#### Sequences can be concatenated\n",
    "\n",
    "Seq objects can be concatenated (like Python strings). Obviously, the alphabets must be compatible."
   ]
  },
  {
   "cell_type": "code",
   "execution_count": null,
   "metadata": {},
   "outputs": [],
   "source": [
    "# DNA sequences\n",
    "seq1 = BS.Seq(\"ACGCGGCGTG\", BA.generic_dna)\n",
    "seq2 = BS.Seq(\"AAAGGGTAAA\", BA.generic_dna)\n",
    "\n",
    "seq = seq1+seq2\n",
    "print(repr(seq))"
   ]
  },
  {
   "cell_type": "code",
   "execution_count": null,
   "metadata": {},
   "outputs": [],
   "source": [
    "# DNA sequences\n",
    "seq1 = BS.Seq(\"ACGCGGCGTG\", BA.generic_dna)\n",
    "seq2 = BS.Seq(\"AAAGGGTAAA\", BA.generic_protein)\n",
    "\n",
    "# incompatible sequences cannot be concatenated\n",
    "try:\n",
    "    seq = seq1+seq2\n",
    "    print(repr(seq))\n",
    "except TypeError as e:\n",
    "    print(e)"
   ]
  },
  {
   "cell_type": "markdown",
   "metadata": {},
   "source": [
    "#### Character case matters\n",
    "\n",
    "Seq objects are case-sensitive. Unless you have a good reason, it is recommended to use upper-case characters because the IUPAC alphabets expect them."
   ]
  },
  {
   "cell_type": "code",
   "execution_count": null,
   "metadata": {},
   "outputs": [],
   "source": [
    "# sequence with IUPAC alphabet\n",
    "seq1 = BS.Seq(\"ACGCGGCGTG\", BA.IUPAC.unambiguous_dna)\n",
    "print(repr(seq1))"
   ]
  },
  {
   "cell_type": "code",
   "execution_count": null,
   "metadata": {},
   "outputs": [],
   "source": [
    "# lower-case version has a generic alphabet\n",
    "seq2 = seq1.lower()\n",
    "print(repr(seq2))"
   ]
  },
  {
   "cell_type": "code",
   "execution_count": null,
   "metadata": {},
   "outputs": [],
   "source": [
    "# an upper-case substring is not found in the lower-case version\n",
    "print(\"ACGC\" in seq1)\n",
    "print(\"ACGC\" in seq2)"
   ]
  },
  {
   "cell_type": "markdown",
   "metadata": {},
   "source": [
    "#### Sequence comparison is not trivial\n",
    "\n",
    "Comparing two sequences is not trivial because the alphabet must be taken into account. Due to the challenges involved, Biopython ignores the alphabets but issues a warning if the alphabets are not compatible."
   ]
  },
  {
   "cell_type": "code",
   "execution_count": null,
   "metadata": {},
   "outputs": [],
   "source": [
    "# DNA sequences\n",
    "seq1 = BS.Seq(\"ACGCGGCGTG\", BA.IUPAC.unambiguous_dna)\n",
    "seq2 = BS.Seq(\"ACGCGGCGTG\", BA.IUPAC.ambiguous_dna)\n",
    "seq3 = BS.Seq(\"NNNCGGCGTG\", BA.IUPAC.ambiguous_dna)\n",
    "seq4 = BS.Seq(\"NNNCGGCGTG\", BA.IUPAC.ambiguous_dna)\n",
    "\n",
    "# protein sequence\n",
    "seq5 = BS.Seq(\"ACGCGGCGTG\", BA.IUPAC.protein)"
   ]
  },
  {
   "cell_type": "code",
   "execution_count": null,
   "metadata": {},
   "outputs": [],
   "source": [
    "# compatible alphabets have no problems\n",
    "print(seq1 == seq2)\n"
   ]
  },
  {
   "cell_type": "code",
   "execution_count": null,
   "metadata": {},
   "outputs": [],
   "source": [
    "# ambiguous nucleotides are compared as such (i.e. no \"intelligent\" matching)\n",
    "print(seq2 == seq4)\n",
    "print(seq3 == seq4)"
   ]
  },
  {
   "cell_type": "code",
   "execution_count": null,
   "metadata": {},
   "outputs": [],
   "source": [
    "# turn warnings into exceptions\n",
    "import warnings as W\n",
    "W.simplefilter(\"error\")\n",
    "\n",
    "import Bio as B\n",
    "\n",
    "# incompatible alphabets are compared but with warning\n",
    "try:\n",
    "    print(seq1 == seq5)\n",
    "except B.BiopythonWarning as e:\n",
    "    print(e)"
   ]
  },
  {
   "cell_type": "markdown",
   "metadata": {},
   "source": [
    "#### Complements, transcription, and translation\n",
    "\n",
    "Seq objects have methods to create complements as well as to transcribe and translate them. The sequence alphabets are respected in these operations.\n",
    "\n",
    "Note that the transcription and translation always consider the coding strand (even though biologically the template strand is involved, too)."
   ]
  },
  {
   "cell_type": "code",
   "execution_count": null,
   "metadata": {},
   "outputs": [],
   "source": [
    "# DNA sequence\n",
    "seq1 = BS.Seq(\"ACGCGGCGTGAA\", BA.IUPAC.unambiguous_dna)\n",
    "print(repr(seq1))"
   ]
  },
  {
   "cell_type": "code",
   "execution_count": null,
   "metadata": {},
   "outputs": [],
   "source": [
    "# complement\n",
    "seq = seq1.complement()\n",
    "print(repr(seq))"
   ]
  },
  {
   "cell_type": "code",
   "execution_count": null,
   "metadata": {},
   "outputs": [],
   "source": [
    "# reverse complement\n",
    "seq = seq1.reverse_complement()\n",
    "print(repr(seq))"
   ]
  },
  {
   "cell_type": "code",
   "execution_count": null,
   "metadata": {},
   "outputs": [],
   "source": [
    "# transcribed sequence\n",
    "seq2 = seq1.transcribe()\n",
    "print(repr(seq2))"
   ]
  },
  {
   "cell_type": "code",
   "execution_count": null,
   "metadata": {},
   "outputs": [],
   "source": [
    "# translated sequence\n",
    "seq3 = seq2.translate()\n",
    "print(repr(seq3))"
   ]
  },
  {
   "cell_type": "code",
   "execution_count": null,
   "metadata": {},
   "outputs": [],
   "source": [
    "# DNA can be translated directly, too\n",
    "seq3 = seq1.translate()\n",
    "print(repr(seq3))"
   ]
  },
  {
   "cell_type": "markdown",
   "metadata": {},
   "source": [
    "The translation method issues an warning if the sequence contains a partial codon at the end."
   ]
  },
  {
   "cell_type": "code",
   "execution_count": null,
   "metadata": {},
   "outputs": [],
   "source": [
    "# turn warnings into exceptions\n",
    "import warnings as W\n",
    "W.simplefilter(\"error\")\n",
    "\n",
    "import Bio as B\n",
    "\n",
    "# DNA sequence\n",
    "seq = BS.Seq(\"ACGCGGCGTGA\", BA.IUPAC.unambiguous_dna)\n",
    "try:\n",
    "    seq.translate()\n",
    "except B.BiopythonWarning as e:\n",
    "    print(e)"
   ]
  },
  {
   "cell_type": "markdown",
   "metadata": {},
   "source": [
    "The translated sequences can contain stop codons (obviously). The sequence can be translated until the first stop codon."
   ]
  },
  {
   "cell_type": "code",
   "execution_count": null,
   "metadata": {},
   "outputs": [],
   "source": [
    "# DNA sequence with two stop codons\n",
    "seq = BS.Seq(\"ACGAGGGCGTAGGTGCCTCGATAG\", BA.IUPAC.unambiguous_dna)\n",
    "seq = seq.translate()\n",
    "print(repr(seq))"
   ]
  },
  {
   "cell_type": "code",
   "execution_count": null,
   "metadata": {},
   "outputs": [],
   "source": [
    "# translate until the first stop codon\n",
    "seq = BS.Seq(\"ACGAGGGCGTAGGTGCCTCGATAG\", BA.IUPAC.unambiguous_dna)\n",
    "seq = seq.translate(to_stop=True)\n",
    "print(repr(seq))"
   ]
  },
  {
   "cell_type": "markdown",
   "metadata": {},
   "source": [
    "The translation method can be given a specific codon table. Biopython uses the codon information provided by NCBI. See the [`Bio.Data.CodonTable`](https://biopython.org/DIST/docs/api/Bio.Data.CodonTable-module.html) module for details."
   ]
  },
  {
   "cell_type": "code",
   "execution_count": null,
   "metadata": {},
   "outputs": [],
   "source": [
    "import Bio.Data.CodonTable as BDCT"
   ]
  },
  {
   "cell_type": "code",
   "execution_count": null,
   "metadata": {},
   "outputs": [],
   "source": [
    "# DNA sequence\n",
    "seq1 = BS.Seq(\"ACGAGGGCGTAGGTGCCTCGATAG\", BA.IUPAC.unambiguous_dna)"
   ]
  },
  {
   "cell_type": "code",
   "execution_count": null,
   "metadata": {},
   "outputs": [],
   "source": [
    "# translation using the default codon table\n",
    "seq2 = seq1.translate(table=\"Standard\")\n",
    "print(repr(seq2))"
   ]
  },
  {
   "cell_type": "code",
   "execution_count": null,
   "metadata": {},
   "outputs": [],
   "source": [
    "# translation using a mitochondrial codon table\n",
    "seq2 = seq1.translate(table=\"Vertebrate Mitochondrial\")\n",
    "print(repr(seq2))"
   ]
  },
  {
   "cell_type": "markdown",
   "metadata": {},
   "source": [
    "The codon tables are accessible via various dictionaries in the CodonTable module."
   ]
  },
  {
   "cell_type": "code",
   "execution_count": null,
   "metadata": {},
   "outputs": [],
   "source": [
    "# iterate over table names\n",
    "for name in BDCT.generic_by_name.keys():\n",
    "    print(name)"
   ]
  },
  {
   "cell_type": "code",
   "execution_count": null,
   "metadata": {},
   "outputs": [],
   "source": [
    "# access a specific table\n",
    "table = BDCT.generic_by_name[\"Vertebrate Mitochondrial\"]\n",
    "print(table)"
   ]
  },
  {
   "cell_type": "code",
   "execution_count": null,
   "metadata": {},
   "outputs": [],
   "source": [
    "# start codons\n",
    "print(table.start_codons)"
   ]
  },
  {
   "cell_type": "code",
   "execution_count": null,
   "metadata": {},
   "outputs": [],
   "source": [
    "# stop codons\n",
    "print(table.stop_codons)"
   ]
  }
 ],
 "metadata": {
  "kernelspec": {
   "display_name": "Python 3",
   "language": "python",
   "name": "python3"
  },
  "language_info": {
   "codemirror_mode": {
    "name": "ipython",
    "version": 3
   },
   "file_extension": ".py",
   "mimetype": "text/x-python",
   "name": "python",
   "nbconvert_exporter": "python",
   "pygments_lexer": "ipython3",
   "version": "3.6.7"
  }
 },
 "nbformat": 4,
 "nbformat_minor": 2
}
