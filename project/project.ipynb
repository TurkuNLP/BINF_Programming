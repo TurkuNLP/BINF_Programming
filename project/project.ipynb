{
 "cells": [
  {
   "cell_type": "markdown",
   "metadata": {},
   "source": [
    "# Project\n",
    "\n",
    "The file `mRNA.fasta` contains a set of mRNA sequences expressed by a hypothetical organism. The objective of this project is to analyse these target sequences to discover what proteins the organism produces and how they differ from the corresponding proteins in other species.\n",
    "\n",
    "The project is divided into four tasks which form a series of analyses. In each task, you will be asked to save the output data to a file and summarise your discoveries. The expected outputs of the tasks 1 and 2 will be given as additional files so that you can attempt any of the tasks even if you fail to solve some of them.\n",
    "\n",
    "To pass the project, you must submit a Jupyter notebook file that contains the report and the code of your analysis. The analysis must be mostly correct. That is, a few errors are allowed but the selected approach and the majority of the results must be correct. Explain your approach and results in your report and include comments to your code to clarify your implementation. You may be asked to revise your submission if it is not acceptable.\n",
    "\n",
    "There are also extra tasks. Successfully completing these tasks will earn you extra points in the exam."
   ]
  },
  {
   "cell_type": "markdown",
   "metadata": {},
   "source": [
    "#### 1. Coding sequence extraction\n",
    "\n",
    "Extract the coding sequences from the mRNA sequences.\n",
    "\n",
    "a) For each target mRNA sequence, find the longest open reading frame (ORF) in the sequence. An open reading frame is a continuous sequence that has the start codon `ATG` in the beginning and a stop codon at the end. Remember that the start codon can be at any position in the sequence.\n",
    "\n",
    "b) Translate the ORFs to protein sequences for further analysis.\n",
    "\n",
    "c) Save the target protein sequences to the file `1-proteins.gb` in the GenBank format.\n",
    "\n",
    "d) Summarise your discoveries by reporting the position and length of the longest ORF for each target mRNA sequence.\n"
   ]
  },
  {
   "cell_type": "code",
   "execution_count": null,
   "metadata": {},
   "outputs": [],
   "source": []
  },
  {
   "cell_type": "markdown",
   "metadata": {},
   "source": [
    "#### 2. Similarity search\n",
    "\n",
    "Find similar proteins from the NCBI Protein database.\n",
    "\n",
    "a) For each target protein sequence in the task 1, run BLAST to obtain similar sequences. Save the BLAST results to the file `2-blast.xml`.\n",
    "\n",
    "b) Select the hits containing a high-scoring pair (HSP) with the following properties:\n",
    "- has E-value $\\leq 10^{-6}$\n",
    "- spans $\\geq 75\\%$ of the target sequence\n",
    "- percent identity $\\geq 30\\%$\n",
    "\n",
    "c) Update the records of the target protein sequences by adding the database ids of the selected hits. Use a sequence feature with the type `BLAST` and the qualifier key `db_xref` containing a list of ids. Save the updated records to the file `2-proteins.gb`.\n",
    "\n",
    "d) Summarise your discoveries by reporting the ids of the selected hits for each target protein sequence."
   ]
  },
  {
   "cell_type": "code",
   "execution_count": null,
   "metadata": {},
   "outputs": [],
   "source": []
  },
  {
   "cell_type": "markdown",
   "metadata": {},
   "source": [
    "#### 3. Protein function prediction\n",
    "\n",
    "Infer the putative functions by similarity.\n",
    "\n",
    "a) For each target protein sequence in the task 1, download the UniProt entries of the selected hits in the task 2. Save the entries to the files `XXXXXX.xml` where `XXXXXX` is the UniProt id.\n",
    "\n",
    "b) Find all Gene Ontology (GO) terms which occur in the UniProt entries.\n",
    "\n",
    "c) Update the records of the target protein sequences by adding the found GO terms. Use a sequence feature with the type `GO` and the qualifier key `db_xref` containing a list of ids. Also add the qualifier `evidence` with value `inferred by similarity` to the feature. Save the updated records to the file `3-proteins.gb`.\n",
    "\n",
    "d) Summarise your discoveries by reporting the putative GO terms for each target protein sequence. Print both the GO term ids and their human-friendly names.\n"
   ]
  },
  {
   "cell_type": "code",
   "execution_count": null,
   "metadata": {},
   "outputs": [],
   "source": []
  },
  {
   "cell_type": "markdown",
   "metadata": {},
   "source": [
    "#### 4. Sequence alignment\n",
    "\n",
    "Find the positions at which the sequences differ from consensus.\n",
    "\n",
    "a) For each target protein sequence in the task 1, align the target sequence with the sequences of the UniProt entries in the task 3. Save the alignments to the file `3-alignment-X.aln` in the Clustal format where `X` is a running number.\n",
    "\n",
    "b) Find the positions in the alignments at which the target sequence is not identical to the consensus. Use 60% consensus (i.e. the consensus exists if at least 60% of the aligned sequences contain the same residue). Ignore the non-consensus positions and the gaps in either sequence.\n",
    "\n",
    "c) Summarise your discoveries by reporting the positions where the target protein sequence is not identical to the consensus sequence for each alignment.\n",
    "\n",
    "d) (extra, 1p) Update the records of the target protein sequences by adding the non-identical positions. Use a sequence feature with the type `mutation` and the qualifier keys `observed` and `consensus` to store the residues in the target sequence and the consensus sequence, respectively. Save the updated records to the file `4-proteins.gb`.\n"
   ]
  },
  {
   "cell_type": "code",
   "execution_count": null,
   "metadata": {},
   "outputs": [],
   "source": []
  },
  {
   "cell_type": "markdown",
   "metadata": {},
   "source": [
    "#### 5. (extra, 2p) Prediction of protein features\n",
    "\n",
    "Predict protein features by using DTU online services.\n",
    "\n",
    "a) For each target protein sequence in the task 1, use the [NetPhosBac](https://services.healthtech.dtu.dk/service.php?NetPhosBac-1.0) service to predict the phosphorylation sites in the sequence.\n",
    "\n",
    "b) For each target protein sequence in the task 1, use the [NetTurnP](https://services.healthtech.dtu.dk/service.php?NetTurnP-1.0) service to predict the residues that reside within turns. Do not predict the types of turns.\n",
    "\n",
    "c) Update the records of the target protein sequences by adding the predicted features. Use sequence features to store the relevant information. Save the updated records to the file `5-proteins.gb`.\n",
    "\n",
    "c) Summarise your discoveries by reporting the predicted phosphorylation sites and turns for each target protein sequence."
   ]
  },
  {
   "cell_type": "code",
   "execution_count": null,
   "metadata": {},
   "outputs": [],
   "source": []
  }
 ],
 "metadata": {
  "kernelspec": {
   "display_name": "Python 3",
   "language": "python",
   "name": "python3"
  },
  "language_info": {
   "codemirror_mode": {
    "name": "ipython",
    "version": 3
   },
   "file_extension": ".py",
   "mimetype": "text/x-python",
   "name": "python",
   "nbconvert_exporter": "python",
   "pygments_lexer": "ipython3",
   "version": "3.7.3"
  }
 },
 "nbformat": 4,
 "nbformat_minor": 2
}
