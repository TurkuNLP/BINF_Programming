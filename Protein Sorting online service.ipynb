{
 "cells": [
  {
   "cell_type": "markdown",
   "metadata": {},
   "source": [
    "# Protein location prediction\n",
    "\n",
    "...a story of trial and error\n",
    "\n",
    "Task: use [this service](http://www.cbs.dtu.dk/ws/ws.php?entry=SignalP4) to predict signal peptides.\n",
    "\n",
    "# Read the docs\n",
    "\n",
    "This is directly from the documentation:"
   ]
  },
  {
   "cell_type": "code",
   "execution_count": 4,
   "metadata": {
    "collapsed": false
   },
   "outputs": [
    {
     "name": "stderr",
     "output_type": "stream",
     "text": [
      "ERROR:suds.client:<?xml version=\"1.0\" encoding=\"UTF-8\"?>\n",
      "<SOAP-ENV:Envelope xmlns:ns0=\"http://www.cbs.dtu.dk/ws/WSSignalP_3_1_ws0\" xmlns:ns1=\"http://schemas.xmlsoap.org/soap/envelope/\" xmlns:xsi=\"http://www.w3.org/2001/XMLSchema-instance\" xmlns:SOAP-ENV=\"http://schemas.xmlsoap.org/soap/envelope/\">\n",
      "   <SOAP-ENV:Header/>\n",
      "   <ns1:Body>\n",
      "      <ns0:runService>\n",
      "         <parameters>\n",
      "            <organism>euk</organism>\n",
      "            <method>best</method>\n",
      "            <sequencedata>\n",
      "               <sequence>\n",
      "                  <id>IPI:IPI00000005.1</id>\n",
      "                  <seq>MTEYKLVVVGAGGVGKSALTIQLIQNHFVDEYDPTIEDSYRKQVVIDGETCLLDILDTAG\n",
      "QEEYSAMRDQYMRTGEGFLCVFAINNSKSFADINLYREQIKRVKDSDDVPMVLVGNKCDL\n",
      "PTRTVDTKQAHELAKSYGIPFIETSAKTRQGVEDAFYTLVREIRQYRMKKLNSSDDGTQG\n",
      "CMGLPCVVM</seq>\n",
      "               </sequence>\n",
      "            </sequencedata>\n",
      "         </parameters>\n",
      "      </ns0:runService>\n",
      "   </ns1:Body>\n",
      "</SOAP-ENV:Envelope>\n"
     ]
    },
    {
     "ename": "Exception",
     "evalue": "(404, u'Not Found')",
     "output_type": "error",
     "traceback": [
      "\u001b[1;31m---------------------------------------------------------------------------\u001b[0m",
      "\u001b[1;31mException\u001b[0m                                 Traceback (most recent call last)",
      "\u001b[1;32m<ipython-input-4-d738d451f154>\u001b[0m in \u001b[0;36m<module>\u001b[1;34m()\u001b[0m\n\u001b[0;32m     15\u001b[0m \u001b[0mrequest\u001b[0m\u001b[1;33m.\u001b[0m\u001b[0mmethod\u001b[0m\u001b[1;33m=\u001b[0m\u001b[1;34m\"best\"\u001b[0m\u001b[1;33m\u001b[0m\u001b[0m\n\u001b[0;32m     16\u001b[0m \u001b[0mrequest\u001b[0m\u001b[1;33m.\u001b[0m\u001b[0msequencedata\u001b[0m\u001b[1;33m.\u001b[0m\u001b[0msequence\u001b[0m\u001b[1;33m=\u001b[0m\u001b[1;33m[\u001b[0m\u001b[0mseq1\u001b[0m\u001b[1;33m]\u001b[0m\u001b[1;33m\u001b[0m\u001b[0m\n\u001b[1;32m---> 17\u001b[1;33m \u001b[0mresponse\u001b[0m \u001b[1;33m=\u001b[0m \u001b[0mclient\u001b[0m\u001b[1;33m.\u001b[0m\u001b[0mservice\u001b[0m\u001b[1;33m.\u001b[0m\u001b[0mrunService\u001b[0m\u001b[1;33m(\u001b[0m\u001b[0mrequest\u001b[0m\u001b[1;33m)\u001b[0m\u001b[1;33m\u001b[0m\u001b[0m\n\u001b[0m\u001b[0;32m     18\u001b[0m \u001b[1;32mprint\u001b[0m \u001b[0mresponse\u001b[0m\u001b[1;33m\u001b[0m\u001b[0m\n",
      "\u001b[1;32m/usr/local/lib/python2.7/dist-packages/suds/client.pyc\u001b[0m in \u001b[0;36m__call__\u001b[1;34m(self, *args, **kwargs)\u001b[0m\n\u001b[0;32m    540\u001b[0m                 \u001b[1;32mreturn\u001b[0m \u001b[1;33m(\u001b[0m\u001b[1;36m500\u001b[0m\u001b[1;33m,\u001b[0m \u001b[0me\u001b[0m\u001b[1;33m)\u001b[0m\u001b[1;33m\u001b[0m\u001b[0m\n\u001b[0;32m    541\u001b[0m         \u001b[1;32melse\u001b[0m\u001b[1;33m:\u001b[0m\u001b[1;33m\u001b[0m\u001b[0m\n\u001b[1;32m--> 542\u001b[1;33m             \u001b[1;32mreturn\u001b[0m \u001b[0mclient\u001b[0m\u001b[1;33m.\u001b[0m\u001b[0minvoke\u001b[0m\u001b[1;33m(\u001b[0m\u001b[0margs\u001b[0m\u001b[1;33m,\u001b[0m \u001b[0mkwargs\u001b[0m\u001b[1;33m)\u001b[0m\u001b[1;33m\u001b[0m\u001b[0m\n\u001b[0m\u001b[0;32m    543\u001b[0m \u001b[1;33m\u001b[0m\u001b[0m\n\u001b[0;32m    544\u001b[0m     \u001b[1;32mdef\u001b[0m \u001b[0mfaults\u001b[0m\u001b[1;33m(\u001b[0m\u001b[0mself\u001b[0m\u001b[1;33m)\u001b[0m\u001b[1;33m:\u001b[0m\u001b[1;33m\u001b[0m\u001b[0m\n",
      "\u001b[1;32m/usr/local/lib/python2.7/dist-packages/suds/client.pyc\u001b[0m in \u001b[0;36minvoke\u001b[1;34m(self, args, kwargs)\u001b[0m\n\u001b[0;32m    600\u001b[0m                 timer)\n\u001b[0;32m    601\u001b[0m         \u001b[0mtimer\u001b[0m\u001b[1;33m.\u001b[0m\u001b[0mstart\u001b[0m\u001b[1;33m(\u001b[0m\u001b[1;33m)\u001b[0m\u001b[1;33m\u001b[0m\u001b[0m\n\u001b[1;32m--> 602\u001b[1;33m         \u001b[0mresult\u001b[0m \u001b[1;33m=\u001b[0m \u001b[0mself\u001b[0m\u001b[1;33m.\u001b[0m\u001b[0msend\u001b[0m\u001b[1;33m(\u001b[0m\u001b[0msoapenv\u001b[0m\u001b[1;33m)\u001b[0m\u001b[1;33m\u001b[0m\u001b[0m\n\u001b[0m\u001b[0;32m    603\u001b[0m         \u001b[0mtimer\u001b[0m\u001b[1;33m.\u001b[0m\u001b[0mstop\u001b[0m\u001b[1;33m(\u001b[0m\u001b[1;33m)\u001b[0m\u001b[1;33m\u001b[0m\u001b[0m\n\u001b[0;32m    604\u001b[0m         metrics.log.debug(\n",
      "\u001b[1;32m/usr/local/lib/python2.7/dist-packages/suds/client.pyc\u001b[0m in \u001b[0;36msend\u001b[1;34m(self, soapenv)\u001b[0m\n\u001b[0;32m    647\u001b[0m             \u001b[1;32melse\u001b[0m\u001b[1;33m:\u001b[0m\u001b[1;33m\u001b[0m\u001b[0m\n\u001b[0;32m    648\u001b[0m                 \u001b[0mlog\u001b[0m\u001b[1;33m.\u001b[0m\u001b[0merror\u001b[0m\u001b[1;33m(\u001b[0m\u001b[0mself\u001b[0m\u001b[1;33m.\u001b[0m\u001b[0mlast_sent\u001b[0m\u001b[1;33m(\u001b[0m\u001b[1;33m)\u001b[0m\u001b[1;33m)\u001b[0m\u001b[1;33m\u001b[0m\u001b[0m\n\u001b[1;32m--> 649\u001b[1;33m                 \u001b[0mresult\u001b[0m \u001b[1;33m=\u001b[0m \u001b[0mself\u001b[0m\u001b[1;33m.\u001b[0m\u001b[0mfailed\u001b[0m\u001b[1;33m(\u001b[0m\u001b[0mbinding\u001b[0m\u001b[1;33m,\u001b[0m \u001b[0me\u001b[0m\u001b[1;33m)\u001b[0m\u001b[1;33m\u001b[0m\u001b[0m\n\u001b[0m\u001b[0;32m    650\u001b[0m         \u001b[1;32mreturn\u001b[0m \u001b[0mresult\u001b[0m\u001b[1;33m\u001b[0m\u001b[0m\n\u001b[0;32m    651\u001b[0m \u001b[1;33m\u001b[0m\u001b[0m\n",
      "\u001b[1;32m/usr/local/lib/python2.7/dist-packages/suds/client.pyc\u001b[0m in \u001b[0;36mfailed\u001b[1;34m(self, binding, error)\u001b[0m\n\u001b[0;32m    706\u001b[0m                 \u001b[1;32mreturn\u001b[0m \u001b[1;33m(\u001b[0m\u001b[0mstatus\u001b[0m\u001b[1;33m,\u001b[0m \u001b[0mNone\u001b[0m\u001b[1;33m)\u001b[0m\u001b[1;33m\u001b[0m\u001b[0m\n\u001b[0;32m    707\u001b[0m         \u001b[1;32mif\u001b[0m \u001b[0mself\u001b[0m\u001b[1;33m.\u001b[0m\u001b[0moptions\u001b[0m\u001b[1;33m.\u001b[0m\u001b[0mfaults\u001b[0m\u001b[1;33m:\u001b[0m\u001b[1;33m\u001b[0m\u001b[0m\n\u001b[1;32m--> 708\u001b[1;33m             \u001b[1;32mraise\u001b[0m \u001b[0mException\u001b[0m\u001b[1;33m(\u001b[0m\u001b[1;33m(\u001b[0m\u001b[0mstatus\u001b[0m\u001b[1;33m,\u001b[0m \u001b[0mreason\u001b[0m\u001b[1;33m)\u001b[0m\u001b[1;33m)\u001b[0m\u001b[1;33m\u001b[0m\u001b[0m\n\u001b[0m\u001b[0;32m    709\u001b[0m         \u001b[1;32melse\u001b[0m\u001b[1;33m:\u001b[0m\u001b[1;33m\u001b[0m\u001b[0m\n\u001b[0;32m    710\u001b[0m             \u001b[1;32mreturn\u001b[0m \u001b[1;33m(\u001b[0m\u001b[0mstatus\u001b[0m\u001b[1;33m,\u001b[0m \u001b[0mNone\u001b[0m\u001b[1;33m)\u001b[0m\u001b[1;33m\u001b[0m\u001b[0m\n",
      "\u001b[1;31mException\u001b[0m: (404, u'Not Found')"
     ]
    }
   ],
   "source": [
    "from suds.client import Client\n",
    "from suds.bindings import binding\n",
    "wsdl = 'http://www.cbs.dtu.dk/ws/SignalP/SignalP_3_1_ws0.wsdl'\n",
    "client = Client(wsdl,cache=None)\n",
    "\n",
    "seq1 = client.factory.create('runService.parameters.sequencedata.sequence')\n",
    "seq1.id=\"IPI:IPI00000005.1\"\n",
    "seq1.seq=\"\"\"MTEYKLVVVGAGGVGKSALTIQLIQNHFVDEYDPTIEDSYRKQVVIDGETCLLDILDTAG\n",
    "QEEYSAMRDQYMRTGEGFLCVFAINNSKSFADINLYREQIKRVKDSDDVPMVLVGNKCDL\n",
    "PTRTVDTKQAHELAKSYGIPFIETSAKTRQGVEDAFYTLVREIRQYRMKKLNSSDDGTQG\n",
    "CMGLPCVVM\"\"\"\n",
    "\n",
    "request=client.factory.create('runService.parameters')\n",
    "request.organism=\"euk\"\n",
    "request.method=\"best\"\n",
    "request.sequencedata.sequence=[seq1]\n",
    "response = client.service.runService(request)\n",
    "print response"
   ]
  },
  {
   "cell_type": "markdown",
   "metadata": {},
   "source": [
    "A `404`. We're not going anywhere...\n",
    "\n",
    "# Try 2: online demo\n",
    "\n",
    "There is [this online demo](http://www.cbs.dtu.dk/services/SignalP/) so if we can get our results in the browser, we should be able to get them also in Python. We need to simulate submitting that form. Let's [inspect the source](view-source:http://www.cbs.dtu.dk/services/SignalP/). Looking for `<form>` and `<input>` HTML tags will tell us what fields the form has and where its data need to be submitted. We see at least:\n",
    "\n",
    "`orgtype - euk, format - short, SEQSUB - sequences, configfile - ...`\n",
    "\n",
    "Forms are submitted using requests.post with the argument `data`. Let's try.\n",
    "\n",
    "**[EDIT: There was a bug in the code below. After much trying and pondering, it turns out the SignalP service does nothing useful unless the string you give it uses Windows newline characters. I.e. \\r\\n instead of the usual \\n. So I added the .replace() below and that fixed it]**"
   ]
  },
  {
   "cell_type": "code",
   "execution_count": 3,
   "metadata": {
    "collapsed": false
   },
   "outputs": [
    {
     "name": "stdout",
     "output_type": "stream",
     "text": [
      "<html>\n",
      "<head>\n",
      "<title>Job status of 58A448C200003E204ADAE030</span></title></head>\n",
      "<script type=\"text/javascript\" src=\"http://code.jquery.com/jquery-1.10.1.min.js\"></script>\n",
      "<script type=\"text/javascript\" src=\"/js/webface.js\"></script>\n",
      "<script type=\"text/javascript\">\n",
      "$(document).ready(function(){\n",
      "\tlaunchcheck('queued','58A448C200003E204ADAE030','http://www.cbs.dtu.dk/cgi-bin/webface2.fcgi',20);\n",
      "});\n",
      "</script>\n",
      "</head>\n",
      "<body>\n",
      "<!-- jobid: 58A448C200003E204ADAE030 status: queued -->\n",
      "<H1>Your job 58A448C200003E204ADAE030 is <span name=\"status\">queued</span></H1>\n",
      "<br>\n",
      "\n",
      "<form>\n",
      "\tSend me email when job finishes\n",
      "\t<input type=\"hidden\" name=\"jobid\" value=\"58A448C200003E204ADAE030\">\n",
      "\t<input type=\"text\" name=\"email\" value=\"\">\n",
      "\t<input type=\"hidden\" name=\"wait\" value=\"20\">\n",
      "\t<input type=\"submit\" name=\"submit\" value=\"Send email\">\n",
      "</form>\n",
      "<div id=\"progress\"></div>\n",
      "<noscript>This page should reload automatically. Otherwise <a href=\"http://www.cbs.dtu.dk//cgi-bin/webface2.fcgi?jobid=58A448C200003E204ADAE030\">click here</a>\n",
      "</noscript>\n",
      "</body>\n",
      "</html>\n",
      "\n"
     ]
    }
   ],
   "source": [
    "import requests\n",
    "\n",
    "seq=\"\"\">IPI:IPI00000005.1\n",
    "MTEYKLVVVGAGGVGKSALTIQLIQNHFVDEYDPTIEDSYRKQVVIDGETCLLDILDTAG\n",
    "QEEYSAMRDQYMRTGEGFLCVFAINNSKSFADINLYREQIKRVKDSDDVPMVLVGNKCDL\n",
    "PTRTVDTKQAHELAKSYGIPFIETSAKTRQGVEDAFYTLVREIRQYRMKKLNSSDDGTQG\n",
    "CMGLPCVVM\"\"\".replace(\"\\n\",\"\\r\\n\")\n",
    "\n",
    "### NOTE: bug fixed in this code. It used to say SEQSUB but should say SEQPASTE. Sorry. And thanks to Ning Wang once again.\n",
    "q={\"orgtype\":\"euk\", \"format\":\"short\", \"SEQPASTE\":seq, \"configfile\":\"/usr/opt/www/pub/CBS/services/SignalP-4.1/SignalP.cf\"}\n",
    "r=requests.post(\"http://www.cbs.dtu.dk/cgi-bin/webface2.fcgi\",data=q)\n",
    "print r.text"
   ]
  },
  {
   "cell_type": "markdown",
   "metadata": {},
   "source": [
    "Success! Now we need to get the jobid from the response."
   ]
  },
  {
   "cell_type": "code",
   "execution_count": 4,
   "metadata": {
    "collapsed": false
   },
   "outputs": [
    {
     "name": "stdout",
     "output_type": "stream",
     "text": [
      "jobid: 58A448C200003E204ADAE030\n",
      "<html>\n",
      "<title> SignalP 4.1 Server - prediction results</title>\n",
      "<body text=\"#000000\" bgcolor=\"#f8f8f8\"\n",
      "      link=\"#FF3399\" vlink=\"#FF3399\" alink=\"#808080\">\n",
      "<font face=\"ARIAL,HELVETICA\">\n",
      "<br>\n",
      "<table>\n",
      "<tr><td><img src=\"/images/m_logo.gif\">\n",
      "    <td>&nbsp;&nbsp;&nbsp;\n",
      "    <td><h2>SignalP 4.1 Server - prediction results</h2>\n",
      "        <h3>Technical University of Denmark</h3>\n",
      "</table>\n",
      "<br>\n",
      "</font>\n",
      "<hr>\n",
      "<pre>\n",
      "<PRE>\n",
      "# SignalP-4.1 euk predictions\n",
      "# name                     Cmax  pos  Ymax  pos  Smax  pos  Smean   D     ?  Dmaxcut    Networks-used\n",
      "IPI_IPI00000005.1          0.120  19  0.120  19  0.137   4  0.118   0.119 N  0.450      SignalP-noTM\n",
      "</PRE>\n",
      "Please cite:\n",
      "SignalP 4.0: discriminating signal peptides from transmembrane regions\n",
      "Petersen TN., Brunak S., von Heijne G. & Nielsen H.\n",
      "Nature Methods, 8:785-786, 2011\n",
      "<font face=\"ARIAL,HELVETICA\">\n",
      "<a href=\"/services/SignalP-4.1/output.html\"\n",
      "target=_blank><b>Explain</b></a> the output.  Go <a\n",
      "href=\"javascript:history.back()\"><b>back</b></a>.</font>\n",
      "</pre>\n",
      "\n",
      "<hr>\n",
      "</body>\n",
      "</html>\n",
      "\n"
     ]
    }
   ],
   "source": [
    "# Look for lines like this\n",
    "#\n",
    "# <!-- jobid: 56B2792F00004B9894F74F8C status: queued -->\n",
    "\n",
    "import re\n",
    "for line in r.text.split(\"\\n\"):\n",
    "    match=re.search(r\"jobid: (\\S+)\",line)\n",
    "    if match:\n",
    "        jobid=match.group(1)\n",
    "        break\n",
    "print \"jobid:\", jobid\n",
    "#SUCCESS!\n",
    "\n",
    "r=requests.get(\"http://www.cbs.dtu.dk//cgi-bin/webface2.fcgi\",params={\"jobid\":jobid})\n",
    "print r.text\n",
    "#SUCCESS! We have our response!\n",
    "        "
   ]
  }
 ],
 "metadata": {
  "kernelspec": {
   "display_name": "Python 2",
   "language": "python",
   "name": "python2"
  },
  "language_info": {
   "codemirror_mode": {
    "name": "ipython",
    "version": 2
   },
   "file_extension": ".py",
   "mimetype": "text/x-python",
   "name": "python",
   "nbconvert_exporter": "python",
   "pygments_lexer": "ipython2",
   "version": "2.7.6"
  }
 },
 "nbformat": 4,
 "nbformat_minor": 0
}
