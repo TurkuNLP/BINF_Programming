{
 "cells": [
  {
   "cell_type": "markdown",
   "metadata": {},
   "source": [
    "#### Exercise 2.1 Database search\n",
    "\n",
    "a) Print the number of hits for protein name \"p53\" in the NCBI Protein database with human as the organism.\n",
    "\n",
    "b) Print the ids of those proteins (one per line)."
   ]
  },
  {
   "cell_type": "code",
   "execution_count": null,
   "metadata": {},
   "outputs": [],
   "source": []
  },
  {
   "cell_type": "markdown",
   "metadata": {},
   "source": [
    "#### Exercise 2.2 Database entry\n",
    "\n",
    "a) Fetch the entry `NP_004955` from the NCBI Protein database and save it to a file named `NP_004955.gb`. (Use the \"gb\" format.)\n",
    "\n",
    "b) Load the file using `Bio.SeqIO` and find the following information about the protein:\n",
    "- id\n",
    "- name\n",
    "- description\n",
    "- organism\n",
    "- number of features\n"
   ]
  },
  {
   "cell_type": "code",
   "execution_count": null,
   "metadata": {},
   "outputs": [],
   "source": []
  },
  {
   "cell_type": "markdown",
   "metadata": {},
   "source": [
    "#### Exercise 2.3 Phosphorylation sites\n",
    "\n",
    "a) How many phosphorylation sites does the entry `NP_004955` contain? (Use the file you acquired in the previous exercise.)\n",
    "\n",
    "b) Print the phosphorylated amino acids and their positions (one per line)."
   ]
  },
  {
   "cell_type": "code",
   "execution_count": null,
   "metadata": {},
   "outputs": [],
   "source": []
  },
  {
   "cell_type": "markdown",
   "metadata": {},
   "source": [
    "#### Exercise 2.4 Gene names\n",
    "\n",
    "The entry `223468685` in NCBI Nucleotide database contains several genes. Print them in the order of appearance."
   ]
  },
  {
   "cell_type": "code",
   "execution_count": null,
   "metadata": {},
   "outputs": [],
   "source": []
  },
  {
   "cell_type": "markdown",
   "metadata": {},
   "source": [
    "#### Exercise 2.5 Protein sequence\n",
    "\n",
    "Print the protein sequence produced by the gene named \"BTK\" in the entry `223468685` in NCBI Nucleotide database."
   ]
  },
  {
   "cell_type": "code",
   "execution_count": null,
   "metadata": {},
   "outputs": [],
   "source": []
  },
  {
   "cell_type": "markdown",
   "metadata": {},
   "source": [
    "#### Exercise 2.6 Protein weight\n",
    "\n",
    "Calculate and print the molecular weight of the BTK gene. You can use a function available in Biopython or write your own function. The monoisotopic masses of amino acid residues are given the table below.\n",
    "\n",
    "| Amino acid residue | Monoisotopic mass |\n",
    "|---|-----------|\n",
    "| A |  71.03711 |\n",
    "| C | 103.00919 |\n",
    "| D | 115.02694 |\n",
    "| E | 129.04259 |\n",
    "| F | 147.06841 |\n",
    "| G |  57.02146 |\n",
    "| H | 137.05891 |\n",
    "| I | 113.08406 |\n",
    "| K | 128.09496 |\n",
    "| L | 113.08406 |\n",
    "| M | 131.04049 |\n",
    "| N | 114.04293 |\n",
    "| P |  97.05276 |\n",
    "| Q | 128.05858 |\n",
    "| R | 156.10111 |\n",
    "| S |  87.03203 |\n",
    "| T | 101.04768 |\n",
    "| V |  99.06841 |\n",
    "| W | 186.07931 |\n",
    "| Y | 163.06333 |\n"
   ]
  },
  {
   "cell_type": "code",
   "execution_count": null,
   "metadata": {},
   "outputs": [],
   "source": [
    "# monoisotopic masses of amino acid residues\n",
    "masses = {'A': 71.03711,\n",
    "          'C': 103.00919,\n",
    "          'D': 115.02694,\n",
    "          'E': 129.04259,\n",
    "          'F': 147.06841,\n",
    "          'G': 57.02146,\n",
    "          'H': 137.05891,\n",
    "          'I': 113.08406,\n",
    "          'K': 128.09496,\n",
    "          'L': 113.08406,\n",
    "          'M': 131.04049,\n",
    "          'N': 114.04293,\n",
    "          'P': 97.05276,\n",
    "          'Q': 128.05858,\n",
    "          'R': 156.10111,\n",
    "          'S': 87.03203,\n",
    "          'T': 101.04768,\n",
    "          'V': 99.06841,\n",
    "          'W': 186.07931,\n",
    "          'Y': 163.06333}\n",
    "# input peptide\n",
    "import Bio.Seq as BS\n",
    "import Bio.Alphabet as BA\n",
    "protein = BS.Seq('MAAVILESIFLKRSQQKKKTSPLNFKKRLFLLTVHKLSYYEYDFERGRRGSKKGSIDVEKITCVETVVPEKNPPPERQIPRRGEESSEMEQISIIERFPYPFQVVYDEGPLYVFSPTEELRKRWIHQLKNVIRYNSDLVQKYHPCFWIDGQYLCCSQTAKNAMGCQILENRNGSLKPGSSHRKTKKPLPPTPEEDQILKKPLPPEPAAAPVSTSELKKVVALYDYMPMNANDLQLRKGDEYFILEESNLPWWRARDKNGQEGYIPSNYVTEAEDSIEMYEWYSKHMTRSQAEQLLKQEGKEGGFIVRDSSKAGKYTVSVFAKSTGDPQGVIRHYVVCSTPQSQYYLAEKHLFSTIPELINYHQHNSAGLISRLKYPVSQQNKNAPSTAGLGYGSWEIDPKDLTFLKELGTGQFGVVKYGKWRGQYDVAIKMIKEGSMSEDEFIEEAKVMMNLSHEKLVQLYGVCTKQRPIFIITEYMANGCLLNYLREMRHRFQTQQLLEMCKDVCEAMEYLESKQFLHRDLAARNCLVNDQGVVKVSDFGLSRYVLDDEYTSSVGSKFPVRWSPPEVLMYSKFSSKSDIWAFGVLMWEIYSLGKMPYERFTNSETAEHIAQGLRLYRPHLASEKVYTIMYSCWHEKADERPTFKILLSNILDVMDEES', BA.IUPAC.protein)\n"
   ]
  },
  {
   "cell_type": "code",
   "execution_count": null,
   "metadata": {},
   "outputs": [],
   "source": []
  },
  {
   "cell_type": "markdown",
   "metadata": {},
   "source": [
    "#### Exercise 2.7 Query history\n",
    "\n",
    "Fetch the sequences of those NCBI Protein database entries that concern `Saccharomyces boulardii` and save them to a file in the FASTA format. Use the history feature of the NCBI service to fetch 100 sequences per query."
   ]
  },
  {
   "cell_type": "code",
   "execution_count": null,
   "metadata": {},
   "outputs": [],
   "source": []
  }
 ],
 "metadata": {
  "kernelspec": {
   "display_name": "Python 3",
   "language": "python",
   "name": "python3"
  },
  "language_info": {
   "codemirror_mode": {
    "name": "ipython",
    "version": 3
   },
   "file_extension": ".py",
   "mimetype": "text/x-python",
   "name": "python",
   "nbconvert_exporter": "python",
   "pygments_lexer": "ipython3",
   "version": "3.7.3"
  }
 },
 "nbformat": 4,
 "nbformat_minor": 2
}
