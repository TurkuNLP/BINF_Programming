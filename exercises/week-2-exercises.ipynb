{
 "cells": [
  {
   "cell_type": "markdown",
   "metadata": {},
   "source": [
    "#### Exercise 2.1 Protein hits\n",
    "\n",
    "Write a program which prints the number of hits for protein name \"p53\" in the protein database with human as the organism. As a second feature, the program should also print the number of hits where the protein is not \"partial\"."
   ]
  },
  {
   "cell_type": "code",
   "execution_count": null,
   "metadata": {},
   "outputs": [],
   "source": []
  },
  {
   "cell_type": "markdown",
   "metadata": {},
   "source": [
    "#### Exercise 2.2 Gene names\n",
    "\n",
    "The record number 223468685 in NCBI's nucleotide database contains several genes, list them in order of appearance."
   ]
  },
  {
   "cell_type": "code",
   "execution_count": null,
   "metadata": {},
   "outputs": [],
   "source": []
  },
  {
   "cell_type": "markdown",
   "metadata": {},
   "source": [
    "#### Exercise 2.3 CDS concat\n",
    "\n",
    "The record number 223468685 in NCBI's nucleotide database contains several genes. One of them is a gene called \"BTK\" concatenate its CDSs together and tranlate them into a protein print its sequence."
   ]
  },
  {
   "cell_type": "code",
   "execution_count": null,
   "metadata": {},
   "outputs": [],
   "source": []
  },
  {
   "cell_type": "markdown",
   "metadata": {},
   "source": [
    "#### Exercise 2.4 Protein weight\n",
    "\n",
    "http://rosalind.info/problems/prtm/\n",
    "\n",
    "now that you can translate the BTK gene, calculate the\n",
    "weight of the resulting protein\n",
    "using the following per-residue weight table\n",
    "\n",
    "Google the published weight. Did you get close?  \n",
    "\n",
    "##### table\n",
    "A &emsp; 71.03711<br>\n",
    "C &emsp; 103.00919<br>\n",
    "D &emsp; 115.02694<br>\n",
    "E &emsp; 129.04259<br>\n",
    "F &emsp; 147.06841<br>\n",
    "G &emsp; 57.02146<br>\n",
    "H &emsp; 137.05891<br>\n",
    "I &emsp; 113.08406<br>\n",
    "K &emsp; 128.09496<br>\n",
    "L &emsp; 113.08406<br>\n",
    "M &emsp; 131.04049<br>\n",
    "N &emsp; 114.04293<br>\n",
    "P &emsp; 97.05276<br>\n",
    "Q &emsp; 128.05858<br>\n",
    "R &emsp; 156.10111<br>\n",
    "S &emsp; 87.03203<br>\n",
    "T &emsp; 101.04768<br>\n",
    "V &emsp; 99.06841<br>\n",
    "W &emsp; 186.07931<br>\n",
    "Y &emsp; 163.06333<br>\n"
   ]
  },
  {
   "cell_type": "code",
   "execution_count": 1,
   "metadata": {},
   "outputs": [
    {
     "name": "stdout",
     "output_type": "stream",
     "text": [
      "BTK protein weight:\n"
     ]
    }
   ],
   "source": [
    "from Bio.Seq import Seq\n",
    "from Bio.Alphabet import IUPAC\n",
    "\n",
    "weight_table = {'A': 71.03711,\n",
    "                'C': 103.00919,\n",
    "                'D': 115.02694,\n",
    "                'E': 129.04259,\n",
    "                'F': 147.06841,\n",
    "                'G': 57.02146,\n",
    "                'H': 137.05891,\n",
    "                'I': 113.08406,\n",
    "                'K': 128.09496,\n",
    "                'L': 113.08406,\n",
    "                'M': 131.04049,\n",
    "                'N': 114.04293,\n",
    "                'P': 97.05276,\n",
    "                'Q': 128.05858,\n",
    "                'R': 156.10111,\n",
    "                'S': 87.03203,\n",
    "                'T': 101.04768,\n",
    "                'V': 99.06841,\n",
    "                'W': 186.07931,\n",
    "                'Y': 163.06333}\n",
    "\n",
    "BTK_protein = Seq('MAAVILESIFLKRSQQKKKTSPLNFKKRLFLLTVHKLSYYEYDFERGRRGSKKGSIDVEKITCVETVVPEKNPPPERQIPRRGEESSEMEQISIIERFPYPFQVVYDEGPLYVFSPTEELRKRWIHQLKNVIRYNSDLVQKYHPCFWIDGQYLCCSQTAKNAMGCQILENRNGSLKPGSSHRKTKKPLPPTPEEDQILKKPLPPEPAAAPVSTSELKKVVALYDYMPMNANDLQLRKGDEYFILEESNLPWWRARDKNGQEGYIPSNYVTEAEDSIEMYEWYSKHMTRSQAEQLLKQEGKEGGFIVRDSSKAGKYTVSVFAKSTGDPQGVIRHYVVCSTPQSQYYLAEKHLFSTIPELINYHQHNSAGLISRLKYPVSQQNKNAPSTAGLGYGSWEIDPKDLTFLKELGTGQFGVVKYGKWRGQYDVAIKMIKEGSMSEDEFIEEAKVMMNLSHEKLVQLYGVCTKQRPIFIITEYMANGCLLNYLREMRHRFQTQQLLEMCKDVCEAMEYLESKQFLHRDLAARNCLVNDQGVVKVSDFGLSRYVLDDEYTSSVGSKFPVRWSPPEVLMYSKFSSKSDIWAFGVLMWEIYSLGKMPYERFTNSETAEHIAQGLRLYRPHLASEKVYTIMYSCWHEKADERPTFKILLSNILDVMDEES', IUPAC.protein) \n",
    "\n",
    "print('BTK protein weight:')"
   ]
  },
  {
   "cell_type": "markdown",
   "metadata": {},
   "source": [
    "#### Exercise 2.5 Sorted ngrams\n",
    "\n",
    "Write a function sorted_ngrams(s,N) where s is a string and N is an integer. The function should print all unique substrings of s of length N, together with their count, and sorted from least to most common and alphabetically if of same frequency. For example for the string \"ACGCTGAGGCTGAAAAAA\" the output would be\n",
    "\n",
    "AC 1<br>\n",
    "AG 1<br>\n",
    "CG 1<br>\n",
    "GG 1<br>\n",
    "CT 2<br>\n",
    "GA 2<br>\n",
    "GC 2<br>\n",
    "TG 2<br>\n",
    "AA 5<br>\n"
   ]
  },
  {
   "cell_type": "code",
   "execution_count": 2,
   "metadata": {},
   "outputs": [],
   "source": [
    "def sorted_ngrams(s,N):\n",
    "    \"\"\"\n",
    "    \"\"\"\n",
    "\n",
    "sorted_ngrams(\"ACGCTGAGGCTGAAAAAA\",2)"
   ]
  }
 ],
 "metadata": {
  "kernelspec": {
   "display_name": "Python 3",
   "language": "python",
   "name": "python3"
  },
  "language_info": {
   "codemirror_mode": {
    "name": "ipython",
    "version": 3
   },
   "file_extension": ".py",
   "mimetype": "text/x-python",
   "name": "python",
   "nbconvert_exporter": "python",
   "pygments_lexer": "ipython3",
   "version": "3.6.7"
  }
 },
 "nbformat": 4,
 "nbformat_minor": 2
}
