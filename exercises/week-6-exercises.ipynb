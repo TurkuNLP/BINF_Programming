{
 "cells": [
  {
   "cell_type": "markdown",
   "metadata": {},
   "source": [
    "#### Exercise 6.1 Overlap alignment\n",
    "##### (Source: http://rosalind.info/problems/oap/)\n",
    "\n",
    "`An overlap alignment` between two strings `s` and `t` is a local alignment of a suffix of `s` with a prefix of `t`. An optimal overlap alignment will therefore maximize an alignment score over all such substrings of `s` and `t`.\n",
    "\n",
    "\n",
    "Given: Two DNA strings `s` and `t` in FASTA format, each having length at most 10 kbp.\n",
    "\n",
    "Return: The score of an optimal overlap alignment of `s` and `t` , followed by an alignment of a suffix `s′` of `s` and a prefix `t′` of `t` achieving this optimal score. Use an alignment score in which matching symbols count +1, substitutions count -2, and there is a linear gap penalty of 2. If multiple optimal alignments exist, then you may return any one.\n"
   ]
  },
  {
   "cell_type": "code",
   "execution_count": null,
   "metadata": {},
   "outputs": [],
   "source": [
    "\"\"\"\n",
    "sample_dataset = '>Rosalind_54\n",
    "CTAAGGGATTCCGGTAATTAGACAG\n",
    ">Rosalind_45\n",
    "ATAGACCATATGTCAGTGACTGTGTAA'\n",
    "\n",
    "The code should return\n",
    "score = 1\n",
    "\n",
    "alignment = \n",
    "'\n",
    "ATTAGAC-AG\\n\n",
    "AT-AGACCAT\n",
    "' \n",
    "\"\"\""
   ]
  },
  {
   "cell_type": "markdown",
   "metadata": {},
   "source": [
    "#### Exercise 6.2 Error correction in sequencing\n",
    "##### (source: http://rosalind.info/problems/corr/)\n",
    "\n",
    "As is the case with point mutations, the most common type of sequencing error occurs when a single nucleotide from a read is interpreted incorrectly.\n",
    "\n",
    "Given: A collection of reads of equal length in FASTA format. Some of these reads were generated with a single-nucleotide error. For each read `s` in the dataset, one of the following applies:\n",
    "\n",
    "`s` was correctly sequenced and appears in the dataset at least twice (possibly as a reverse complement)\n",
    "`s` is incorrect, it appears in the dataset exactly once, and its Hamming distance is 1 with respect to exactly one correct read in the dataset (or its reverse complement)\n",
    " \n",
    "Write a function correct(data) where data is a string with the sequences in FASTA format and the function returns a list of [(s,s_corrected),(s,s_corrected),...] pairs of sequences and their corrections:\n",
    "\n",
    "`s` should be one of the sequences in the data and s_corrected should be one of the sequences in the data or its reverse complement, such that the hamming distance of s and s_corrected is 1. Order does not matter"
   ]
  },
  {
   "cell_type": "code",
   "execution_count": null,
   "metadata": {},
   "outputs": [],
   "source": [
    "# For example for the data below, the function should return\n",
    "#\n",
    "# [(\"GAGGA\",\"GATGA\"),(\"TTCAT\",\"TTGAT\"),(\"TTTCC\",\"TTTCA\")]\n",
    "#\n",
    "# ...in whatever order\n",
    "\n",
    "\n",
    "import Bio.Seq\n",
    "import Bio.SeqIO\n",
    "from io import StringIO\n",
    "\n",
    "data=\"\"\"\n",
    ">Rosalind_52\n",
    "TCATC\n",
    ">Rosalind_44\n",
    "TTCAT\n",
    ">Rosalind_68\n",
    "TCATC\n",
    ">Rosalind_28\n",
    "TGAAA\n",
    ">Rosalind_95\n",
    "GAGGA\n",
    ">Rosalind_66\n",
    "TTTCA\n",
    ">Rosalind_33\n",
    "ATCAA\n",
    ">Rosalind_21\n",
    "TTGAT\n",
    ">Rosalind_18\n",
    "TTTCC\n",
    "\"\"\"\n"
   ]
  },
  {
   "cell_type": "markdown",
   "metadata": {},
   "source": [
    "#### 6.3 Random coverage\n",
    "\n",
    "Write a function that simulates extracting reads of read_len bases at random positions from an underlying sequence of seq_len bases until the average coverage is reached.\n",
    "\n",
    "For example if seq_len=1000, read_len=100 and coverage=5, you would need a total of 5000 bases worth of reads to get an average coverage of 5, i.e. you'd need 50 reads.\n",
    "\n",
    "The function should return the number of bases which receives zero coverage, i.e. are not covered by any of the reads."
   ]
  },
  {
   "cell_type": "code",
   "execution_count": null,
   "metadata": {},
   "outputs": [],
   "source": []
  },
  {
   "cell_type": "markdown",
   "metadata": {},
   "source": [
    "#### 6.4 Random coverage (part 2)\n",
    "\n",
    "When testing your function for the Random Coverage exercise, you have noticed that the number of uncovered bases differs a lot because of randomness. Stabilize the results by providing a function \n",
    "\n",
    "avg_gap_position_count(seq_len, read_len, coverage, N_trials)\n",
    "\n",
    "which is like the previous function, but performs N runs and averages the results. When submitting the exercise code, paste into the comments the output for varying coverage between 1 and 9, seq_len=2000, read_len=20, N_trials=1000. Print the percent of bases which are, on average, left uncovered.\n"
   ]
  },
  {
   "cell_type": "code",
   "execution_count": null,
   "metadata": {},
   "outputs": [],
   "source": [
    "def avg_gap_position_count(seq_len, read_len, coverage, N_trials):\n",
    "    \n",
    "\n",
    "# coverage= 1 leaves 36.728 % uncovered bases\n",
    "# coverage= 2 leaves 13.68085 % uncovered bases\n",
    "# coverage= 3 leaves 5.2204 % uncovered bases\n",
    "# coverage= 4 leaves 2.1699 % uncovered bases\n",
    "# coverage= 5 leaves 0.94695 % uncovered bases\n",
    "# coverage= 6 leaves 0.49805 % uncovered bases\n",
    "# coverage= 7 leaves 0.3123 % uncovered bases\n",
    "# coverage= 8 leaves 0.224 % uncovered bases\n",
    "# coverage= 9 leaves 0.18875 % uncovered bases\n"
   ]
  },
  {
   "cell_type": "markdown",
   "metadata": {},
   "source": [
    "#### Exercise 6.5 Sequence downloader\n",
    "\n",
    "Write a program to download sequences from Entrez and save them into a genbank file. Use it to download the following sequence IDs. Use \"gbwithparts\" as efetch rettype. \n",
    "\n",
    "NC_018498.1  -> save into m2288.gb<br>\n",
    "NC_018497.1 -> save into m6320.gb<br>\n",
    "BA000007.2 -> save into ecoli_o157.gb<br>\n",
    "CM000272.1 -> save into human_21.gb<br>\n",
    "AP010935.1 -> save into strept.gb<br>"
   ]
  },
  {
   "cell_type": "code",
   "execution_count": null,
   "metadata": {},
   "outputs": [],
   "source": []
  }
 ],
 "metadata": {
  "kernelspec": {
   "display_name": "Python 3",
   "language": "python",
   "name": "python3"
  },
  "language_info": {
   "codemirror_mode": {
    "name": "ipython",
    "version": 3
   },
   "file_extension": ".py",
   "mimetype": "text/x-python",
   "name": "python",
   "nbconvert_exporter": "python",
   "pygments_lexer": "ipython3",
   "version": "3.6.7"
  }
 },
 "nbformat": 4,
 "nbformat_minor": 2
}
