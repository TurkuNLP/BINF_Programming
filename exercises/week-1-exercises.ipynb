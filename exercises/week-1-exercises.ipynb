{
 "cells": [
  {
   "cell_type": "markdown",
   "metadata": {},
   "source": [
    "#### Exercise 1.1 Trim sequence to multiples of three characters\n",
    "\n",
    "Write a function `trim(s)` that trims the sequence `s` (which is a `Seq` object) to a multiple of three characters so that its translation happens without an error. Use it to translate the given sequence."
   ]
  },
  {
   "cell_type": "code",
   "execution_count": null,
   "metadata": {},
   "outputs": [],
   "source": [
    "def trim(s):\n",
    "    # implement this function\n",
    "    pass\n",
    "\n",
    "# test case\n",
    "import Bio.Seq as BS\n",
    "s = BS.Seq(\"ACGCGGCGTG\")\n",
    "print(s, \"has length\", len(s))\n",
    "# write a piece of code here which will\n",
    "# print the translated sequence 'TRR'\n",
    "# without any errors\n"
   ]
  },
  {
   "cell_type": "markdown",
   "metadata": {},
   "source": [
    "#### Exercise 1.2 GC content of a Seq sequence\n",
    "\n",
    "Write a function `GC(s)` which calculates the GC content of a `Seq` sequence `s` and returns it as a real number in the range 0-1. The GC content is the proportion of \"G\" and \"C\" characters in the sequence. Make sure that your function works correctly also for lower-cased sequences."
   ]
  },
  {
   "cell_type": "code",
   "execution_count": null,
   "metadata": {},
   "outputs": [],
   "source": [
    "def GC(s):\n",
    "    # implement this function\n",
    "    pass\n",
    "\n",
    "# test case\n",
    "import Bio.Seq as BS\n",
    "s = BS.Seq(\"ACGATTAA\")\n",
    "print(\"GC content of\", s, \"is\", GC(s))\n"
   ]
  },
  {
   "cell_type": "markdown",
   "metadata": {},
   "source": [
    "#### Exercise 1.3 Hamming distance of two sequences\n",
    "\n",
    "Write a function `hamming(s1, s2)` that calculates the hamming distance of the two sequences `s1` and `s2`. The Hamming distance is the number of positions in which the two sequences differ. The distance is undefined if the sequences have unequal length."
   ]
  },
  {
   "cell_type": "code",
   "execution_count": null,
   "metadata": {},
   "outputs": [],
   "source": [
    "def hamming(s1, s2):\n",
    "    # implement this function\n",
    "    pass\n",
    "\n",
    "# test case\n",
    "import Bio.Seq as BS\n",
    "s1 = BS.Seq(\"ACGCAGTTGCAGTAG\")\n",
    "s2 = BS.Seq(\"ACGCACTTGCAGAAG\")\n",
    "s3 = BS.Seq(\"AAAAAAAAAA\")\n",
    "print(\"Hamming distance of\", s1, \"and\", s2, \"is\", hamming(s1,s2))\n",
    "print(\"Hamming distance of\", s1, \"and\", s3, \"is\", hamming(s1,s3))\n"
   ]
  },
  {
   "cell_type": "markdown",
   "metadata": {},
   "source": [
    "#### Exercise 1.4 Find possible coding tables\n",
    "\n",
    "DNA sequences are translated into protein (amino acid sequences) three letters at a time. So every three letters of the DNA sequence produce a single letter of the protein sequence. The translation is governed by a coding table, of which there are many. See https://www.ncbi.nlm.nih.gov/Taxonomy/Utils/wprintgc.cgi .\n",
    "\n",
    "Let us say you have a DNA sequence and its translation, and you would like to find out which coding table was used in the translation. Given a sequence `s_dna` and its translation `s_protein`, find the coding table(s) which could have produced it. Print the number of the table (or one number per line if there are many possible tables).\n",
    "\n",
    "The tables are defined in `Bio.Data.CodonTable`, and they are numbered. In particular, `generic_by_id` has a mapping from these numbers to the tables.\n"
   ]
  },
  {
   "cell_type": "code",
   "execution_count": null,
   "metadata": {},
   "outputs": [],
   "source": [
    "import Bio.Seq as BS\n",
    "\n",
    "s_dna = BS.Seq(\"ATGGTCGATGACCTGTGAACTTAA\")\n",
    "s_protein = BS.Seq(\"MVDDLCT*\", BS.IUPAC.protein)\n",
    "\n",
    "# Hint: Bio.Data.CodonTable.generic_by_id\n",
    "\n",
    "# print the number(s) of the table(s) which\n",
    "# could have produced s_protein from s_dna\n"
   ]
  },
  {
   "cell_type": "markdown",
   "metadata": {},
   "source": [
    "#### Exercise 1.5 Remove ambiguous alphabet letter\n",
    "\n",
    "Write a function `clean(s)` where `s` is a string and the function returns the string with all characters removed which are not A, C, G, or T.\n"
   ]
  },
  {
   "cell_type": "code",
   "execution_count": null,
   "metadata": {},
   "outputs": [],
   "source": [
    "def clean(s):\n",
    "    # implement this function\n",
    "    pass\n",
    "\n",
    "# test case\n",
    "print(\"ACGTHABJHHBAGATGATB\")\n",
    "print(clean(\"ACGTHABJHHBAGATGATB\"))\n"
   ]
  },
  {
   "cell_type": "markdown",
   "metadata": {},
   "source": [
    "#### Exercise 1.6 Sort sequences\n",
    "\n",
    "Write a function `sort_by_unknown(s)` that sorts and returns the given DNA sequences in ascending order by the number of unknown bases. Here, `s` is an iterable containing `Seq` objects."
   ]
  },
  {
   "cell_type": "code",
   "execution_count": null,
   "metadata": {},
   "outputs": [],
   "source": [
    "def sort_by_unknown(s):\n",
    "    # implement this function\n",
    "    pass\n",
    "\n",
    "# test case\n",
    "import Bio.Seq as BS\n",
    "s = [BS.Seq('NGTACCTTGCTACTC'),\n",
    "     BS.Seq('NCGTGNN'),\n",
    "     BS.Seq('NNNNN'),\n",
    "     BS.Seq('ACGGT'),\n",
    "     BS.Seq('ANNTGGT'),\n",
    "     BS.Seq('ACGNGT'),\n",
    "     BS.Seq('AACGTCCGTNNN'),\n",
    "    ]\n",
    "print(s)\n",
    "print(sort_by_unknown(s))\n"
   ]
  },
  {
   "cell_type": "markdown",
   "metadata": {},
   "source": [
    "#### Exercise 1.7 Project design\n",
    "\n",
    "Consider the following hypothetical experiment and sketch an analysis to reach the given objectives. At this stage of the course, it is enough to outline the overall flow of the analysis and propose methods that could be used in the analysis. The more details you can write down, the better.\n",
    "\n",
    "Researchers have found a new prokaryote species that can thrive in unexpectedly harsh environmental conditions. To understand how the species can survive, the researchers have obtained RNA molecules expressed by the cells. Given a list of RNA sequences, find out what functions the proteins (possibly) have and how the proteins differ from the corresponding proteins in other species.\n"
   ]
  },
  {
   "cell_type": "markdown",
   "metadata": {},
   "source": []
  }
 ],
 "metadata": {
  "kernelspec": {
   "display_name": "Python 3",
   "language": "python",
   "name": "python3"
  },
  "language_info": {
   "codemirror_mode": {
    "name": "ipython",
    "version": 3
   },
   "file_extension": ".py",
   "mimetype": "text/x-python",
   "name": "python",
   "nbconvert_exporter": "python",
   "pygments_lexer": "ipython3",
   "version": "3.7.3"
  }
 },
 "nbformat": 4,
 "nbformat_minor": 2
}
