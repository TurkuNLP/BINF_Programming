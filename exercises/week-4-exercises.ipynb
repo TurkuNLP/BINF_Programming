{
 "cells": [
  {
   "cell_type": "markdown",
   "metadata": {},
   "source": [
    "#### Exercise 4.1 Parse the GO file into a dictionary\n",
    "\n",
    "Download http://purl.obolibrary.org/obo/go.obo. Write a function which will parse the file and return a dictionary with GO term ids as keys and named tuples (id, name, namespace) as values. If necessary, read again the week 3 lecture notes to see how named tuples are created."
   ]
  },
  {
   "cell_type": "code",
   "execution_count": null,
   "metadata": {},
   "outputs": [],
   "source": []
  },
  {
   "cell_type": "markdown",
   "metadata": {},
   "source": [
    "#### Exercise 4.2 Protein locations\n",
    "\n",
    "Print the human-friendly names of the GO terms within the `cellular component` namespace associated to the 10 longest human proteins (see Exercise 3.4). Use the function written in Exercise 4.1 to find which of the GO annotations belong to the given namespace and what are their human-friendly names. Your output could look like this:\n",
    "\n",
    "```\n",
    "P35555: microfibril, extracellular region, proteinaceous extracellular matrix, basement membrane, extracellular space, extracellular matrix, extracellular exosome\n",
    "P50851: lysosome, endoplasmic reticulum, Golgi apparatus, plasma membrane, endomembrane system, membrane, integral component of membrane, cytoplasmic, membrane-bounded vesicle, extrinsic component of membrane\n",
    "```"
   ]
  },
  {
   "cell_type": "code",
   "execution_count": null,
   "metadata": {},
   "outputs": [],
   "source": []
  },
  {
   "cell_type": "markdown",
   "metadata": {},
   "source": [
    "#### Exercise 4.3 BLAST query\n",
    "\n",
    "a) Run a BLAST query for the following protein sequences against the Protein Data Bank (pdb). Save the results to a file for further analysis.\n",
    "\n",
    "```\n",
    ">protein_1\n",
    "YYERLGLIPAIERTEKGYR\n",
    ">protein_2\n",
    "HWGAASSEISGSDHTVDG\n",
    "```\n",
    "\n",
    "b) How many hits are there in each query result?"
   ]
  },
  {
   "cell_type": "code",
   "execution_count": null,
   "metadata": {},
   "outputs": [],
   "source": []
  },
  {
   "cell_type": "markdown",
   "metadata": {},
   "source": [
    "#### Exercise 4.4 Best BLAST hits\n",
    "\n",
    "Filter the hits obtained in Exercise 4.3 such that only the HSPs with E-value $<10^{-4}$ remain. Sort the hits by E-value in ascending order. Print the E-values along with the corresponding hit ids.\n",
    "\n",
    "(If a hit has more than one HSP, only consider the one with the smallest E-value.)"
   ]
  },
  {
   "cell_type": "code",
   "execution_count": null,
   "metadata": {},
   "outputs": [],
   "source": []
  },
  {
   "cell_type": "markdown",
   "metadata": {},
   "source": [
    "#### Exercise 4.5 Information from HSP\n",
    "\n",
    "Print the following pieces of information for each HSP obtained in Exercise 4.4:\n",
    "- the start and end positions of the matched segment of the query sequence\n",
    "- the start and end positions of the matched segment of the database sequence\n",
    "- the percent identity (i.e. the proportion of identical residues in the alignment)\n",
    "- the percent coverage (i.e. the proportion of the query sequence that was matched)\n"
   ]
  },
  {
   "cell_type": "code",
   "execution_count": null,
   "metadata": {},
   "outputs": [],
   "source": []
  }
 ],
 "metadata": {
  "kernelspec": {
   "display_name": "Python 3",
   "language": "python",
   "name": "python3"
  },
  "language_info": {
   "codemirror_mode": {
    "name": "ipython",
    "version": 3
   },
   "file_extension": ".py",
   "mimetype": "text/x-python",
   "name": "python",
   "nbconvert_exporter": "python",
   "pygments_lexer": "ipython3",
   "version": "3.7.3"
  }
 },
 "nbformat": 4,
 "nbformat_minor": 2
}
