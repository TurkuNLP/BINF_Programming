{
 "cells": [
  {
   "cell_type": "markdown",
   "metadata": {},
   "source": [
    "Exercise 4.1 Parse the GO file into a dictionary\n",
    "\n",
    "Download http://purl.obolibrary.org/obo/go.obo and then write a function which will parse this file and return a dictionary with GO term IDs as keys and NamedTuples (id, name, namespace, definition) as values. If necessary, read again the week 3 lecture notes to see how named tuples are created."
   ]
  },
  {
   "cell_type": "code",
   "execution_count": null,
   "metadata": {},
   "outputs": [],
   "source": []
  },
  {
   "cell_type": "markdown",
   "metadata": {},
   "source": [
    "#### Exercise 4.2 Protein locations\n",
    "\n",
    "Combine the solutions to the exercises 3.1 and 4.1 and write a program which will print the cellular component annotation for each of the 10 longest human proteins. The output could look something like this:\n",
    "\n",
    "```\n",
    "P35555 FBN1_HUMAN: microfibril, extracellular region, proteinaceous extracellular matrix, basement membrane, extracellular space, extracellular matrix, extracellular exosome\n",
    "P50851 LRBA_HUMAN: lysosome, endoplasmic reticulum, Golgi apparatus, plasma membrane, endomembrane system, membrane, integral component of membrane, cytoplasmic, membrane-bounded vesicle, extrinsic component of membrane\n",
    "Q86YZ3 HORN_HUMAN: cornified envelope, nucleus, cytoplasm, cell envelope, keratohyalin granule, perinuclear region of cytoplasm, extracellular exosome\n",
    "```"
   ]
  },
  {
   "cell_type": "code",
   "execution_count": null,
   "metadata": {},
   "outputs": [],
   "source": []
  },
  {
   "cell_type": "markdown",
   "metadata": {},
   "source": [
    "#### Exercise 4.3 Best BLAST hits\n",
    "\n",
    "Write a function which, given the output of a BLAST search, will gather a list of (E-value, sequence ID) tuples for each query sequence. The tuples must be sorted by E-value in ascending order."
   ]
  },
  {
   "cell_type": "code",
   "execution_count": null,
   "metadata": {},
   "outputs": [],
   "source": []
  },
  {
   "cell_type": "markdown",
   "metadata": {},
   "source": [
    "#### Exercise 4.4 Function transfer\n",
    "\n",
    "Given the output of your solution to the exercise 4.3 and a cut-off E-value, use the Uniprot GO annotation to assign functions to the query sequences. You may assume that the query sequences and the hit sequences are proteins. That is, for each query protein, find the set of GO terms from its nearest BLAST neighbors (as defined by the E-value cut-off) that belong to the `molecular function` namespace. Output this information in the best way you see fit."
   ]
  },
  {
   "cell_type": "code",
   "execution_count": null,
   "metadata": {},
   "outputs": [],
   "source": []
  },
  {
   "cell_type": "markdown",
   "metadata": {},
   "source": [
    "#### Exercise 4.5 Function transfer complete\n",
    "\n",
    "Combine the solutions to the previous exercises into a single program which, given a file with Uniprot identifiers, will query Uniprot for their sequences, run them through NCBI BLAST, pick the nearest neighbors, and predict the functions of these proteins. Test your program on the identifiers given in the exercise 3.3."
   ]
  },
  {
   "cell_type": "code",
   "execution_count": null,
   "metadata": {},
   "outputs": [],
   "source": []
  }
 ],
 "metadata": {
  "kernelspec": {
   "display_name": "Python 3",
   "language": "python",
   "name": "python3"
  },
  "language_info": {
   "codemirror_mode": {
    "name": "ipython",
    "version": 3
   },
   "file_extension": ".py",
   "mimetype": "text/x-python",
   "name": "python",
   "nbconvert_exporter": "python",
   "pygments_lexer": "ipython3",
   "version": "3.6.7"
  }
 },
 "nbformat": 4,
 "nbformat_minor": 2
}
