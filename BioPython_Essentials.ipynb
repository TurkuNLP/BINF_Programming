{
 "cells": [
  {
   "cell_type": "markdown",
   "metadata": {},
   "source": [
    "# BioPython\n",
    "\n",
    "A set of modules for bioinformatics in Python.\n",
    "\n",
    "## Installation on your own computers\n",
    "\n",
    "* We work with the 2.7 version of Python. Make sure you have that, and not Python 3.\n",
    "* Follow the instructions on the BioPython project page (google)\n",
    "* On a Ubuntu-flavor linux all you need is `pip install biopython`\n",
    "* Biopython is also installed in Ville\n",
    "\n",
    "Let's check all works - the latest version of BioPython is `1.66` maybe you see a different one on your machine:"
   ]
  },
  {
   "cell_type": "code",
   "execution_count": 2,
   "metadata": {
    "collapsed": false
   },
   "outputs": [
    {
     "name": "stdout",
     "output_type": "stream",
     "text": [
      "1.66\n"
     ]
    }
   ],
   "source": [
    "import Bio\n",
    "print Bio.__version__ #This is two underscores not one"
   ]
  },
  {
   "cell_type": "markdown",
   "metadata": {},
   "source": [
    "# Docs\n",
    "\n",
    "We will roughly follow this BioPython tutorial: http://biopython.org/DIST/docs/tutorial/Tutorial.html\n"
   ]
  }
 ],
 "metadata": {
  "kernelspec": {
   "display_name": "Python 2",
   "language": "python",
   "name": "python2"
  },
  "language_info": {
   "codemirror_mode": {
    "name": "ipython",
    "version": 2
   },
   "file_extension": ".py",
   "mimetype": "text/x-python",
   "name": "python",
   "nbconvert_exporter": "python",
   "pygments_lexer": "ipython2",
   "version": "2.7.5+"
  }
 },
 "nbformat": 4,
 "nbformat_minor": 0
}
