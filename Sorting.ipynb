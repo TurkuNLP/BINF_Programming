{
 "cells": [
  {
   "cell_type": "markdown",
   "metadata": {},
   "source": [
    "# Some remarks on sorting\n",
    "\n",
    "You can either use the `sorted()` Python built-in function which will produce a sorted version of anything you can iterate over. Lists have a `.sort()` method which sorts them in-place."
   ]
  },
  {
   "cell_type": "code",
   "execution_count": null,
   "metadata": {},
   "outputs": [],
   "source": [
    "l1=[3,1,4,6,7]\n",
    "l2=sorted(l1)\n",
    "print(l1,l2) #l2 is a different list from l1\n",
    "l1.sort() #now l1 is sorted in-place\n",
    "print(l1)"
   ]
  },
  {
   "cell_type": "markdown",
   "metadata": {},
   "source": [
    "## Sort in reverse order: \n",
    "\n",
    "`reverse=True`"
   ]
  },
  {
   "cell_type": "code",
   "execution_count": null,
   "metadata": {},
   "outputs": [],
   "source": [
    "print(sorted(l1,reverse=True))"
   ]
  },
  {
   "cell_type": "markdown",
   "metadata": {},
   "source": [
    "## Define the sort order\n",
    "\n",
    "You can define a function which extracts the key by which to sort from the elements of the array you are sorting. For example, if you want to sort strings by their length, you would write a function which gives the length of the string and tell sort() to use it. Like so:"
   ]
  },
  {
   "cell_type": "code",
   "execution_count": null,
   "metadata": {},
   "outputs": [],
   "source": [
    "def lenk(s):\n",
    "    \"\"\"This function simply returns the length of s\"\"\"\n",
    "    return len(s)\n",
    "\n",
    "l=[\"sjsjsj\",\"zzz\",\"aaaaaaaaaaaaaaaaaa\"]\n",
    "print(\"Default sort order:\", sorted(l))\n",
    "print(\"New sort order by length:\", sorted(l,key=lenk)) #Note: not lenk(), just lenk\n",
    "print(\"New sort order by length (lambda):\", sorted(l,key=lambda s: len(s))) #Same but with lambda functions"
   ]
  },
  {
   "cell_type": "markdown",
   "metadata": {},
   "source": [
    "This is very useful for example when sorting dictionaries by their value:"
   ]
  },
  {
   "cell_type": "code",
   "execution_count": null,
   "metadata": {},
   "outputs": [],
   "source": [
    "s=\"ACGTTGGCCAGATCGACTATGGCAGATTGACTAGCATACGATCGCATCAGAT\"\n",
    "counter={}\n",
    "for char in s:\n",
    "    counter[char]=counter.get(char,0)+1 #Easy way to count items into a dictionary\n",
    "#Now we want to print the dictionary sorted by count from most to least common and \n",
    "#in case two letters have the same count, we want them sorted alphabetically\n",
    "\n",
    "def get_val(key_value):\n",
    "    \"\"\"Gets one key-value pair from the dictionary and returns the value, and then the key\"\"\"\n",
    "    return key_value[1], key_value[0] #the value is the first thing we sort on, the letter the second\n",
    "\n",
    "items=list(counter.items()) #all items from the dictionary as a list of (key,value) pairs\n",
    "print(\"Items:\", items)\n",
    "items.sort(reverse=True, key=get_val)\n",
    "for letter,count in items:\n",
    "    print(letter, count)\n"
   ]
  },
  {
   "cell_type": "markdown",
   "metadata": {},
   "source": [
    "Whoops. That doesn't quite do what we wanted since C should come before T. Think why that is. We want the dictionary sorted from most common to least common and in case of same-count, alphabetically. Now it's reverse-alphabetically. I'll make this into an exercise. Hint: Note the [`ord()`](https://docs.python.org/2/library/functions.html#ord) function."
   ]
  }
 ],
 "metadata": {
  "kernelspec": {
   "display_name": "Python 3",
   "language": "python",
   "name": "python3"
  },
  "language_info": {
   "codemirror_mode": {
    "name": "ipython",
    "version": 3
   },
   "file_extension": ".py",
   "mimetype": "text/x-python",
   "name": "python",
   "nbconvert_exporter": "python",
   "pygments_lexer": "ipython3",
   "version": "3.6.7"
  }
 },
 "nbformat": 4,
 "nbformat_minor": 1
}
