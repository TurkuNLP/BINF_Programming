{
 "cells": [
  {
   "cell_type": "markdown",
   "metadata": {},
   "source": [
    "#### This lecture notes have been copied and edited from \n",
    "#### http://www.langmead-lab.org/teaching-materials/ "
   ]
  },
  {
   "cell_type": "markdown",
   "metadata": {},
   "source": [
    "#### Hamming edit distance\n",
    "\n",
    "Hamming edit distance is a basic score measuring how strings of equal length are different from each other. The difference count is basically the distance between two strings. \n",
    "\n",
    "The measure is limited to only strings of equal lengths."
   ]
  },
  {
   "cell_type": "code",
   "execution_count": null,
   "metadata": {},
   "outputs": [],
   "source": [
    "def hammingDistance(x, y):\n",
    "    \"\"\"\n",
    "    Return Hamming distance between x and y \n",
    "    \"\"\"\n",
    "    if not len(x) == len(y): # check if the lengths are not equal\n",
    "        return None # distance not defined\n",
    "    nmm = 0\n",
    "    for i in range(0, len(x)):\n",
    "        if x[i] != y[i]:\n",
    "            nmm += 1\n",
    "    return nmm\n",
    "\n",
    "print(hammingDistance('GCGTATGCACGC', 'GCTATGCCACGC'))\n",
    "\n",
    "print(hammingDistance('GCGTATGCACGC', 'GCTATGCCACG'))\n"
   ]
  },
  {
   "cell_type": "markdown",
   "metadata": {},
   "source": [
    "Sometimes it is useful to obtain all occurrences of $p$ within a longer sequence $p$ such that the Hamming distance is not longer than $m$."
   ]
  },
  {
   "cell_type": "code",
   "execution_count": null,
   "metadata": {},
   "outputs": [],
   "source": [
    "def naive_approx_hamming(p, t, m):\n",
    "    # keep track of (position, distance) pairs\n",
    "    occurrences = []\n",
    "    # start from each (viable) position in t\n",
    "    for i in range(0, len(t) - len(p) + 1):\n",
    "        # calculate hamming distance (see above)\n",
    "        nmm = 0\n",
    "        for j in range(0, len(p)):\n",
    "            if t[i+j] != p[j]:\n",
    "                nmm += 1\n",
    "                # stop prematurately if maximum distance is exceeded\n",
    "                if nmm > m:\n",
    "                    break\n",
    "        # record matches as (position, distance) pairs\n",
    "        if nmm <= m:\n",
    "            occurrences.append((i,nmm))\n",
    "    return occurrences\n",
    "\n",
    "p = 'GCGA'\n",
    "t = 'GCTATGCCACGC'\n",
    "for pos,distance in naive_approx_hamming(p, t, 2):\n",
    "    print(distance)\n",
    "    print(p)\n",
    "    print(t[pos:pos+len(p)])"
   ]
  },
  {
   "cell_type": "markdown",
   "metadata": {},
   "source": [
    "So we can modify the Hamming edit distance to allow two strings/sequences of unequal length for calculation. By aligning the sequence to be compared from the first position, and different lengths are then added to distance. Missing the items to compared from shorter sequence is considered mismatch. "
   ]
  },
  {
   "cell_type": "code",
   "execution_count": null,
   "metadata": {},
   "outputs": [],
   "source": [
    "def boundEditDistance(x, y):\n",
    "    \"\"\"\n",
    "    Return loose lower and upper bounds on the edit distance\n",
    "    between x and y in O(|x| + |y|) time.\n",
    "    \"\"\"\n",
    "    if x == y: \n",
    "        return 0, 0\n",
    "    if len(x) == 0: \n",
    "        return len(y), len(y)\n",
    "    if len(y) == 0: \n",
    "        return len(x), len(x)\n",
    "    diff = abs(len(x) - len(y)) \n",
    "    lower = diff # the difference is at least the difference of the lengths of sequences \n",
    "    if lower == 0 and x != y: # if the sequences are different but the same length then the mininum difference is 1\n",
    "        lower = 1\n",
    "    minlen = min(len(x), len(y))\n",
    "    upper = hammingDistance(x[:minlen], y[:minlen]) + diff # check with hamming edit distance only with the common lengths\n",
    "    # the upper bound may become smaller by assigning the gaps differently (now they are all at the end, basically)\n",
    "    # finding the optimal positions of gaps will result in the exact edit distance\n",
    "    return lower, upper\n",
    "\n",
    "boundEditDistance('GCGTATGCACGC', 'GCTATGCCACGC')\n"
   ]
  },
  {
   "cell_type": "markdown",
   "metadata": {},
   "source": [
    "#### Edit distance with dynamic programming\n",
    "\n",
    "Better algorithm for calculating string edit distance is done using dynamic programming. The algorithm allows three operations to be applied on sequences, insertion, substitution and deletion, thus sequences in comparison are not necessarily of the same lengths.  "
   ]
  },
  {
   "cell_type": "code",
   "execution_count": null,
   "metadata": {},
   "outputs": [],
   "source": [
    "from numpy import zeros\n",
    "\n",
    "def edDistDp(x, y):\n",
    "    \"\"\" \n",
    "    Calculate edit distance between sequences x and y using\n",
    "    matrix dynamic programming.  Return distance. \n",
    "    \"\"\"\n",
    "    D = zeros((len(x)+1, len(y)+1), dtype=int) # create zeros matrix of the length x and length y \n",
    "    \n",
    "    D[0, 1:] = range(1, len(y)+1)\n",
    "    D[1:, 0] = range(1, len(x)+1)\n",
    "    for i in range(1, len(x)+1):\n",
    "        for j in range(1, len(y)+1):\n",
    "            delt = 1 if x[i-1] != y[j-1] else 0\n",
    "            D[i, j] = min(D[i-1, j-1]+delt, D[i-1, j]+1, D[i, j-1]+1)\n",
    "    print('distance between sequence x and y =', D[len(x), len(y)])\n",
    "    return D\n",
    "    \n",
    "print('with equal lenght of sequences')\n",
    "D = edDistDp('GCGTATGCACGC', 'GCTATGCCACGC')\n",
    "print(D)\n",
    "print()\n",
    "print('with different lengths of sequences')\n",
    "D = edDistDp('GCGTATGCACGC', 'GCTATGCCACG')\n",
    "print(D)"
   ]
  },
  {
   "cell_type": "markdown",
   "metadata": {},
   "source": [
    "#### Global alignment\n",
    "\n",
    "Then we can perform global alignment for two DNA sequences using dynamic programming. The three opeations mimick the evolutionary process including insertion, deletion and substition of a single or more nucleotide. The scoring function is arbitrarily defined here, but you can specify using tools like BLAST. There is no exact scoring matrix defined for each organism or DNA sequences, only recommendation for larger group of organisms. Selecting the right scoring matrix remains challenging."
   ]
  },
  {
   "cell_type": "code",
   "execution_count": null,
   "metadata": {},
   "outputs": [],
   "source": [
    "from numpy import zeros\n",
    "\n",
    "def exampleCost(xc, yc):\n",
    "    \"\"\" \n",
    "    Cost function assigning \n",
    "    0 to match, \n",
    "    2 to transition, \n",
    "    4 to transversion, and \n",
    "    8 to a gap \n",
    "    \"\"\"\n",
    "    if xc == yc: \n",
    "        return 0 # match\n",
    "    if xc == '-' or yc == '-': \n",
    "        return 8 # gap\n",
    "    minc, maxc = min(xc, yc), max(xc, yc)\n",
    "    if minc == 'A' and maxc == 'G': \n",
    "        return 2 # transition\n",
    "    elif minc == 'C' and maxc == 'T': \n",
    "        return 2 # transition\n",
    "    return 4 # transversion\n",
    "\n",
    "def globalAlignment(x, y, s):\n",
    "    \"\"\" \n",
    "    Calculate global alignment value of sequences x and y \n",
    "    using dynamic programming.  \n",
    "    Return global alignment value. \n",
    "    \"\"\"\n",
    "    D = zeros((len(x)+1, len(y)+1), dtype=int) # setting up zero matrix to whole values of alignment\n",
    "    for j in range(1, len(y)+1): # assign gap score to every column of first row, meaning no x sequence, creating pure gap\n",
    "        D[0, j] = D[0, j-1] + s('-', y[j-1])\n",
    "    for i in range(1, len(x)+1): # assign gap score to the first column meaning no y sequence, creating pure gap\n",
    "        D[i, 0] = D[i-1, 0] + s(x[i-1], '-')\n",
    "    for i in range(1, len(x)+1): # dynamic programming part\n",
    "        for j in range(1, len(y)+1): \n",
    "            # take minimum of these three scores from operation on sequences\n",
    "            D[i, j] = min(D[i-1, j-1] + s(x[i-1], y[j-1]), # diagonal -- check whether it is match/transition/transversion\n",
    "                          D[i-1, j  ] + s(x[i-1], '-'),    # vertical -- gap on y sequence\n",
    "                          D[i  , j-1] + s('-',    y[j-1])) # horizontal -gap on x sequence\n",
    "    return D, D[len(x), len(y)]\n",
    "\n",
    "D, globalAlignmentValue = globalAlignment('TACGTCAGC', 'TATGTCATGC', exampleCost)\n",
    "print(D)\n",
    "print('alignment score = ', globalAlignmentValue)"
   ]
  },
  {
   "cell_type": "markdown",
   "metadata": {},
   "source": [
    "#### Local alignment\n",
    "\n",
    "We define a simple cost function exampleCost and a function smithWaterman that, given strings x and y and a cost function, fills in and returns the corresponding local alignment matrix.\n"
   ]
  },
  {
   "cell_type": "code",
   "execution_count": null,
   "metadata": {},
   "outputs": [],
   "source": [
    "import numpy\n",
    "\n",
    "def exampleCost(xc, yc):\n",
    "    ''' Cost function: 2 to match, -6 to gap, -4 to mismatch '''\n",
    "    if xc == yc: return 2 # match\n",
    "    if xc == '-' or yc == '-': return -6 # gap\n",
    "    return -4\n",
    "\n",
    "def smithWaterman(x, y, s):\n",
    "    ''' Calculate local alignment values of sequences x and y using\n",
    "        dynamic programming.  Return maximal local alignment value. '''\n",
    "    V = numpy.zeros((len(x)+1, len(y)+1), dtype=int)\n",
    "    for i in range(1, len(x)+1):\n",
    "        for j in range(1, len(y)+1):\n",
    "            V[i, j] = max(V[i-1, j-1] + s(x[i-1], y[j-1]), # diagonal\n",
    "                          V[i-1, j  ] + s(x[i-1], '-'),    # vertical\n",
    "                          V[i  , j-1] + s('-',    y[j-1]), # horizontal\n",
    "                          0)                               # empty\n",
    "    argmax = numpy.where(V == V.max())\n",
    "    return V, int(V[argmax])\n",
    "\n",
    "x, y = 'GGTATGCTGGCGCTA', 'TATATGCGGCGTTT'\n",
    "V, best = smithWaterman(x, y, exampleCost)\n",
    "print(V)\n",
    "print(\"Best score=%d, in cell %s\" % (best, numpy.unravel_index(numpy.argmax(V), V.shape)))\n"
   ]
  }
 ],
 "metadata": {
  "kernelspec": {
   "display_name": "Python 3",
   "language": "python",
   "name": "python3"
  },
  "language_info": {
   "codemirror_mode": {
    "name": "ipython",
    "version": 3
   },
   "file_extension": ".py",
   "mimetype": "text/x-python",
   "name": "python",
   "nbconvert_exporter": "python",
   "pygments_lexer": "ipython3",
   "version": "3.5.3"
  }
 },
 "nbformat": 4,
 "nbformat_minor": 2
}
