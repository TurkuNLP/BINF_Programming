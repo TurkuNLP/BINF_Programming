{
 "cells": [
  {
   "cell_type": "markdown",
   "metadata": {},
   "source": [
    "# Sequence Record\n",
    "\n",
    "Essentially a sequence with database metadata attached to it. Depending on the source, this metadata can be surprisingly rich."
   ]
  },
  {
   "cell_type": "code",
   "execution_count": 1,
   "metadata": {
    "collapsed": false
   },
   "outputs": [
    {
     "name": "stdout",
     "output_type": "stream",
     "text": [
      "ID: YP_025292.1\n",
      "Name: HokC\n",
      "Description: toxic membrane protein, small\n",
      "Number of features: 0\n",
      "Seq('MKQHKAMIVALIVICITAVVAALVTRKD', IUPACProtein())\n"
     ]
    }
   ],
   "source": [
    "from Bio.Seq import Seq\n",
    "from Bio.SeqRecord import SeqRecord\n",
    "from Bio.Alphabet import IUPAC\n",
    "record =SeqRecord(Seq(\"MKQHKAMIVALIVICITAVVAALVTRKD\",\n",
    " IUPAC.protein),\n",
    " id=\"YP_025292.1\", name=\"HokC\",\n",
    " description=\"toxic membrane protein, small\")\n",
    "print record"
   ]
  },
  {
   "cell_type": "markdown",
   "metadata": {},
   "source": [
    "You get a `SeqRecord` when you:\n",
    "- parse a file with sequence data in one of the standard formats\n",
    "- obtain sequence data from an online resource (eg NCBI, UniProt, etc)"
   ]
  },
  {
   "cell_type": "markdown",
   "metadata": {},
   "source": [
    "# Entrez Utilities - Sequence queries\n",
    "\n",
    "Online access to NCBI's data. The [Bio.Entrez](http://biopython.org/DIST/docs/api/Bio.Entrez-module.html) module makes use of the Entrez\n",
    "Programming Utilities (also known as EUtils), described in detail [here at NCBI](http://www.ncbi.nlm.nih.gov/entrez/utils/). You usually get an XML output, which is parsed using some utility function in `Bio.Entrez`.\n",
    "\n",
    "**Important:** Be aware that the Entrez utilities impose usage limits and you can get yourself blacklisted if you violate those. BioPython takes care of keeping an eye on those for you. You also should fill in a non-fake email address. See the [Frequency section](http://www.ncbi.nlm.nih.gov/books/NBK25497/#chapter2\\2e Frequency_Timing_and_Registrati) in the manual.\n",
    "\n",
    "# esearch\n",
    "\n",
    "`esearch` searches and retrieves primary IDs (for use in EFetch, ELink, and ESummary) and term translations and optionally retains results for future use in the user's environment. `efetch` can then be used to download the actual records.\n"
   ]
  },
  {
   "cell_type": "code",
   "execution_count": 2,
   "metadata": {
    "collapsed": false
   },
   "outputs": [
    {
     "name": "stdout",
     "output_type": "stream",
     "text": [
      "Handle: <addinfourl at 55810816 whose fp = <socket._fileobject object at 0x353d450>>\n",
      "\n",
      "\n",
      "Content: <?xml version=\"1.0\" encoding=\"UTF-8\"?>\n",
      "<!DOCTYPE eSearchResult PUBLIC \"-//NLM//DTD esearch 20060628//EN\" \"http://eutils.ncbi.nlm.nih.gov/eutils/dtd/20060628/esearch.dtd\">\n",
      "<eSearchResult><Count>3</Count><RetMax>3</RetMax><RetStart>0</RetStart><IdList>\n",
      "<Id>377580661</Id>\n",
      "<Id>156535673</Id>\n",
      "<Id>156535671</Id>\n",
      "</IdList><TranslationSet><Translation>     <From>opuntia[ORGN]</From>     <To>\"Opuntia\"[Organism]</To>    </Translation></TranslationSet><TranslationStack>   <TermSet>    <Term>\"Opuntia\"[Organism]</Term>    <Field>Organism</Field>    <Count>1725</Count>    <Explode>Y</Explode>   </TermSet>   <TermSet>    <Term>accD[All Fields]</Term>    <Field>All Fields</Field>    <Count>161140</Count>    <Explode>N</Explode>   </TermSet>   <OP>AND</OP>  </TranslationStack><QueryTranslation>\"Opuntia\"[Organism] AND accD[All Fields]</QueryTranslation></eSearchResult>\n",
      "\n"
     ]
    }
   ],
   "source": [
    "from Bio import Entrez\n",
    "Entrez.email = \"my_little_self@utu.fi\"\n",
    "handle = Entrez.esearch(db=\"nucleotide\", retmax=10, term=\"opuntia[ORGN] accD\")\n",
    "print \"Handle:\", handle #A file-like object, you can read it\n",
    "content=handle.read()\n",
    "print \"\\n\\nContent:\", content"
   ]
  },
  {
   "cell_type": "markdown",
   "metadata": {},
   "source": [
    "That's XML allright. Let's parse it. The primary method to do this is `Entrez.read()` but it expects a file. We have already consumed our handle - we read the data from it to the end so that it cannot be used again. We could query again, or we can use `StringIO` which is a module which can simulate file objects on top of strings."
   ]
  },
  {
   "cell_type": "code",
   "execution_count": 3,
   "metadata": {
    "collapsed": false
   },
   "outputs": [
    {
     "name": "stdout",
     "output_type": "stream",
     "text": [
      "Parsed result of equery: {u'Count': '3', u'RetMax': '3', u'IdList': ['377580661', '156535673', '156535671'], u'TranslationStack': [{u'Count': '1725', u'Field': 'Organism', u'Term': '\"Opuntia\"[Organism]', u'Explode': 'Y'}, {u'Count': '161140', u'Field': 'All Fields', u'Term': 'accD[All Fields]', u'Explode': 'N'}, 'AND'], u'TranslationSet': [{u'To': '\"Opuntia\"[Organism]', u'From': 'opuntia[ORGN]'}], u'RetStart': '0', u'QueryTranslation': '\"Opuntia\"[Organism] AND accD[All Fields]'}\n"
     ]
    }
   ],
   "source": [
    "import StringIO #Useful whenever you have your data in a string but a function which expects a file\n",
    "content_filelike=StringIO.StringIO(content)\n",
    "equery_result=Entrez.read(content_filelike)\n",
    "print \"Parsed result of equery:\", equery_result"
   ]
  },
  {
   "cell_type": "markdown",
   "metadata": {},
   "source": [
    "So we are having a dictionary. Most important here is the `IdList` key which holds the IDs which fit our query. Now we can fetch those.\n",
    "\n",
    "### read() vs. parse()\n",
    "\n",
    "Throughout BioPython in the different modules the function `read()` is used to parse an output which only has a single record (of whatever kind) and it returns that record plus it may even throw an error if the output seems to contain more than one record. On the other hand `parse()` is used to parse an output which has several records and returns a generator over them (ie something you can for-loop over once, or turn into a list with `list()`).\n",
    "\n",
    "## efetch\n",
    "\n",
    "Now that we have our IDs, we can fetch the records:"
   ]
  },
  {
   "cell_type": "code",
   "execution_count": 4,
   "metadata": {
    "collapsed": false
   },
   "outputs": [
    {
     "name": "stdout",
     "output_type": "stream",
     "text": [
      "Efetch result <generator object parse at 0x363a8c0>\n",
      "{u'GBSeq_moltype': 'DNA', u'GBSeq_source': 'chloroplast Opuntia decumbens', u'GBSeq_sequence': 'gagaccgggttacctgaagctattcaaacaggtataggtgaactaaacggtattcctttagcaattggtgttatggattttgggtttatagggggttctatgggagccgtagtaggtgaaaaaatcacccggttgattgaatatgctaccaaaaattcactaccccttattatagtatgtgcttctggaggggcacggatgcaagaaggcatcgtgagcttaatgcaaatggctaaaatatcttctgccttgcacgactatcactataaaccggtcgaaaaaaaattattatatatatcaattcttgcatcgcccactagtggtggtgtgacagccagttttggtatgttgggggatattattattgccgaaccagacgccgaaattgcgtttgcgggtaaaagagtaattgaggaagttttgaaggaagaagtacccgaaggtgcacaaacaaccgaaaatttattcgaaaatggtttattcgatccagtcttaccacgtaatcttttaaagagcgctctaagtgagttacttgagctgcacggtttttttcctttaaataaaacccaagccaag', u'GBSeq_primary-accession': 'HQ620723', u'GBSeq_definition': 'Opuntia decumbens voucher Martinez & Eggli 146a (ZSS) acetyl-CoA carboxylase beta subunit (accD) gene, partial cds; chloroplast', u'GBSeq_accession-version': 'HQ620723.1', u'GBSeq_topology': 'linear', u'GBSeq_length': '576', u'GBSeq_feature-table': [{u'GBFeature_quals': [{u'GBQualifier_name': 'organism', u'GBQualifier_value': 'Opuntia decumbens'}, {u'GBQualifier_name': 'organelle', u'GBQualifier_value': 'plastid:chloroplast'}, {u'GBQualifier_name': 'mol_type', u'GBQualifier_value': 'genomic DNA'}, {u'GBQualifier_name': 'specimen_voucher', u'GBQualifier_value': 'Martinez & Eggli 146a (ZSS)'}, {u'GBQualifier_name': 'db_xref', u'GBQualifier_value': 'taxon:867482'}, {u'GBQualifier_name': 'tissue_type', u'GBQualifier_value': 'stem'}, {u'GBQualifier_name': 'authority', u'GBQualifier_value': 'Opuntia decumbens Salm-Dyck'}], u'GBFeature_key': 'source', u'GBFeature_intervals': [{u'GBInterval_from': '1', u'GBInterval_to': '576', u'GBInterval_accession': 'HQ620723.1'}], u'GBFeature_location': '1..576'}, {u'GBFeature_quals': [{u'GBQualifier_name': 'gene', u'GBQualifier_value': 'accD'}], u'GBFeature_intervals': [{u'GBInterval_from': '1', u'GBInterval_to': '576', u'GBInterval_accession': 'HQ620723.1'}], u'GBFeature_location': '<1..>576', u'GBFeature_key': 'gene', u'GBFeature_partial5': StringElement('', attributes={u'value': u'true'}), u'GBFeature_partial3': StringElement('', attributes={u'value': u'true'})}, {u'GBFeature_quals': [{u'GBQualifier_name': 'gene', u'GBQualifier_value': 'accD'}, {u'GBQualifier_name': 'codon_start', u'GBQualifier_value': '1'}, {u'GBQualifier_name': 'transl_table', u'GBQualifier_value': '11'}, {u'GBQualifier_name': 'product', u'GBQualifier_value': 'acetyl-CoA carboxylase beta subunit'}, {u'GBQualifier_name': 'protein_id', u'GBQualifier_value': 'AFB70469.1'}, {u'GBQualifier_name': 'db_xref', u'GBQualifier_value': 'GI:377580662'}, {u'GBQualifier_name': 'translation', u'GBQualifier_value': 'ETGLPEAIQTGIGELNGIPLAIGVMDFGFIGGSMGAVVGEKITRLIEYATKNSLPLIIVCASGGARMQEGIVSLMQMAKISSALHDYHYKPVEKKLLYISILASPTSGGVTASFGMLGDIIIAEPDAEIAFAGKRVIEEVLKEEVPEGAQTTENLFENGLFDPVLPRNLLKSALSELLELHGFFPLNKTQAK'}], u'GBFeature_intervals': [{u'GBInterval_from': '1', u'GBInterval_to': '576', u'GBInterval_accession': 'HQ620723.1'}], u'GBFeature_location': '<1..>576', u'GBFeature_key': 'CDS', u'GBFeature_partial5': StringElement('', attributes={u'value': u'true'}), u'GBFeature_partial3': StringElement('', attributes={u'value': u'true'})}], u'GBSeq_create-date': '26-FEB-2012', u'GBSeq_other-seqids': ['gb|HQ620723.1|', 'gi|377580661'], u'GBSeq_division': 'PLN', u'GBSeq_taxonomy': 'Eukaryota; Viridiplantae; Streptophyta; Embryophyta; Tracheophyta; Spermatophyta; Magnoliophyta; eudicotyledons; Gunneridae; Pentapetalae; Caryophyllales; Cactineae; Cactaceae; Opuntioideae; Opuntia', u'GBSeq_comment': '##Assembly-Data-START## Assembly Method MIRA V3rc4; Geneious v. 4.8 Sequencing Technology 454 ##Assembly-Data-END##', u'GBSeq_references': [{u'GBReference_position': '1..576', u'GBReference_reference': '1', u'GBReference_authors': ['Arakaki,M.', 'Christin,P.A.', 'Nyffeler,R.', 'Lendel,A.', 'Eggli,U.', 'Ogburn,R.M.', 'Spriggs,E.', 'Moore,M.J.', 'Edwards,E.J.'], u'GBReference_journal': 'Proc. Natl. Acad. Sci. U.S.A. 108 (20), 8379-8384 (2011)', u'GBReference_pubmed': '21536881', u'GBReference_xref': [{u'GBXref_id': '10.1073/pnas.1100628108', u'GBXref_dbname': 'doi'}], u'GBReference_title': \"Contemporaneous and recent radiations of the world's major succulent plant lineages\"}, {u'GBReference_position': '1..576', u'GBReference_reference': '2', u'GBReference_journal': 'Submitted (15-NOV-2010) Department of Ecology and Evolutionary Biology, Brown University, 80 Waterman St., Providence, RI 02912, USA', u'GBReference_title': 'Direct Submission', u'GBReference_authors': ['Arakaki,M.', 'Christin,P.-A.', 'Nyffeler,R.', 'Eggli,U.', 'Ogburn,R.M.', 'Spriggs,E.', 'Moore,M.J.', 'Edwards,E.J.']}], u'GBSeq_update-date': '26-FEB-2012', u'GBSeq_organism': 'Opuntia decumbens', u'GBSeq_locus': 'HQ620723', u'GBSeq_strandedness': 'double'}\n",
      "{u'GBSeq_moltype': 'DNA', u'GBSeq_source': 'chloroplast Opuntia humifusa', u'GBSeq_sequence': 'ggtgaaaaaatcacccggttgattgaatatgctaccaaaaattcactaccccttattatagtatgtgcttctggaggggcacggatgcaagaaggcattgtgagcttaatgcaaatggctaaaatatcttctgccttgtacgactatcactataaaccggtcgaaaaaaaattattatatatatcaattcttgcatcgcccactagtggtggtgtgacagccagttttggtatgttgggggatattattattgccgaaccagacgccgaaa', u'GBSeq_primary-accession': 'EF590893', u'GBSeq_definition': 'Opuntia humifusa voucher NMNH 06-8355 acetyl-CoA carboxylase-D (accD) gene, partial cds; chloroplast', u'GBSeq_accession-version': 'EF590893.1', u'GBSeq_topology': 'linear', u'GBSeq_length': '271', u'GBSeq_feature-table': [{u'GBFeature_quals': [{u'GBQualifier_name': 'organism', u'GBQualifier_value': 'Opuntia humifusa'}, {u'GBQualifier_name': 'organelle', u'GBQualifier_value': 'plastid:chloroplast'}, {u'GBQualifier_name': 'mol_type', u'GBQualifier_value': 'genomic DNA'}, {u'GBQualifier_name': 'specimen_voucher', u'GBQualifier_value': 'NMNH 06-8355'}, {u'GBQualifier_name': 'db_xref', u'GBQualifier_value': 'taxon:446152'}, {u'GBQualifier_name': 'collection_date', u'GBQualifier_value': 'Sep-2006'}, {u'GBQualifier_name': 'collected_by', u'GBQualifier_value': 'DL Erickson'}], u'GBFeature_key': 'source', u'GBFeature_intervals': [{u'GBInterval_from': '1', u'GBInterval_to': '271', u'GBInterval_accession': 'EF590893.1'}], u'GBFeature_location': '1..271'}, {u'GBFeature_quals': [{u'GBQualifier_name': 'gene', u'GBQualifier_value': 'accD'}], u'GBFeature_intervals': [{u'GBInterval_from': '1', u'GBInterval_to': '271', u'GBInterval_accession': 'EF590893.1'}], u'GBFeature_location': '<1..>271', u'GBFeature_key': 'gene', u'GBFeature_partial5': StringElement('', attributes={u'value': u'true'}), u'GBFeature_partial3': StringElement('', attributes={u'value': u'true'})}, {u'GBFeature_quals': [{u'GBQualifier_name': 'gene', u'GBQualifier_value': 'accD'}, {u'GBQualifier_name': 'codon_start', u'GBQualifier_value': '1'}, {u'GBQualifier_name': 'transl_table', u'GBQualifier_value': '11'}, {u'GBQualifier_name': 'product', u'GBQualifier_value': 'acetyl-CoA carboxylase-D'}, {u'GBQualifier_name': 'protein_id', u'GBQualifier_value': 'ABU79977.1'}, {u'GBQualifier_name': 'db_xref', u'GBQualifier_value': 'GI:156535674'}, {u'GBQualifier_name': 'translation', u'GBQualifier_value': 'GEKITRLIEYATKNSLPLIIVCASGGARMQEGIVSLMQMAKISSALYDYHYKPVEKKLLYISILASPTSGGVTASFGMLGDIIIAEPDAE'}], u'GBFeature_intervals': [{u'GBInterval_from': '1', u'GBInterval_to': '271', u'GBInterval_accession': 'EF590893.1'}], u'GBFeature_location': '<1..>271', u'GBFeature_key': 'CDS', u'GBFeature_partial5': StringElement('', attributes={u'value': u'true'}), u'GBFeature_partial3': StringElement('', attributes={u'value': u'true'})}], u'GBSeq_create-date': '02-SEP-2007', u'GBSeq_other-seqids': ['gb|EF590893.1|', 'gi|156535673'], u'GBSeq_division': 'PLN', u'GBSeq_taxonomy': 'Eukaryota; Viridiplantae; Streptophyta; Embryophyta; Tracheophyta; Spermatophyta; Magnoliophyta; eudicotyledons; Gunneridae; Pentapetalae; Caryophyllales; Cactineae; Cactaceae; Opuntioideae; Opuntia', u'GBSeq_references': [{u'GBReference_position': '1..271', u'GBReference_reference': '1', u'GBReference_authors': ['Kress,W.J.', 'Erickson,D.L.'], u'GBReference_journal': 'PLoS ONE 2 (6), E508 (2007)', u'GBReference_pubmed': '17551588', u'GBReference_xref': [{u'GBXref_id': '10.1371/journal.pone.0000508', u'GBXref_dbname': 'doi'}], u'GBReference_title': 'A two-locus global DNA barcode for land plants: the coding rbcL gene complements the non-coding trnH-psbA spacer region', u'GBReference_remark': 'Publication Status: Online-Only'}, {u'GBReference_position': '1..271', u'GBReference_reference': '2', u'GBReference_journal': 'Submitted (03-MAY-2007) Botany, Smithsonian Institution, National Museum of Natural History, Washington, DC 20013-7012, USA', u'GBReference_title': 'Direct Submission', u'GBReference_authors': ['Kress,J.', 'Erickson,D.']}], u'GBSeq_update-date': '02-SEP-2007', u'GBSeq_organism': 'Opuntia humifusa', u'GBSeq_locus': 'EF590893', u'GBSeq_strandedness': 'double'}\n",
      "{u'GBSeq_moltype': 'DNA', u'GBSeq_source': 'chloroplast Opuntia fragilis', u'GBSeq_sequence': 'ggtgaaaaaatcacccggttgattgaatatgctaccaaaaattcactaccccttattatagtatgtgcttctggaggggcacggatgcaagaaggcatcgtgagcttaatgcaaatggctaaaatatcttctgccttgtacgactatcaccataaaccggttgaaaaaaaattgttatatatatcaattcttgcatcgcccactagtggtggtgtgacagccagttttggtatgttgggggatattattattgccgaaccagacgccgaaa', u'GBSeq_primary-accession': 'EF590892', u'GBSeq_definition': 'Opuntia fragilis voucher USBG s.n. acetyl-CoA carboxylase-D (accD) gene, partial cds; chloroplast', u'GBSeq_accession-version': 'EF590892.1', u'GBSeq_topology': 'linear', u'GBSeq_length': '271', u'GBSeq_feature-table': [{u'GBFeature_quals': [{u'GBQualifier_name': 'organism', u'GBQualifier_value': 'Opuntia fragilis'}, {u'GBQualifier_name': 'organelle', u'GBQualifier_value': 'plastid:chloroplast'}, {u'GBQualifier_name': 'mol_type', u'GBQualifier_value': 'genomic DNA'}, {u'GBQualifier_name': 'specimen_voucher', u'GBQualifier_value': 'USBG s.n.'}, {u'GBQualifier_name': 'db_xref', u'GBQualifier_value': 'taxon:446151'}, {u'GBQualifier_name': 'collection_date', u'GBQualifier_value': 'Sep-2006'}, {u'GBQualifier_name': 'collected_by', u'GBQualifier_value': 'DL Erickson'}], u'GBFeature_key': 'source', u'GBFeature_intervals': [{u'GBInterval_from': '1', u'GBInterval_to': '271', u'GBInterval_accession': 'EF590892.1'}], u'GBFeature_location': '1..271'}, {u'GBFeature_quals': [{u'GBQualifier_name': 'gene', u'GBQualifier_value': 'accD'}], u'GBFeature_intervals': [{u'GBInterval_from': '1', u'GBInterval_to': '271', u'GBInterval_accession': 'EF590892.1'}], u'GBFeature_location': '<1..>271', u'GBFeature_key': 'gene', u'GBFeature_partial5': StringElement('', attributes={u'value': u'true'}), u'GBFeature_partial3': StringElement('', attributes={u'value': u'true'})}, {u'GBFeature_quals': [{u'GBQualifier_name': 'gene', u'GBQualifier_value': 'accD'}, {u'GBQualifier_name': 'codon_start', u'GBQualifier_value': '1'}, {u'GBQualifier_name': 'transl_table', u'GBQualifier_value': '11'}, {u'GBQualifier_name': 'product', u'GBQualifier_value': 'acetyl-CoA carboxylase-D'}, {u'GBQualifier_name': 'protein_id', u'GBQualifier_value': 'ABU79976.1'}, {u'GBQualifier_name': 'db_xref', u'GBQualifier_value': 'GI:156535672'}, {u'GBQualifier_name': 'translation', u'GBQualifier_value': 'GEKITRLIEYATKNSLPLIIVCASGGARMQEGIVSLMQMAKISSALYDYHHKPVEKKLLYISILASPTSGGVTASFGMLGDIIIAEPDAE'}], u'GBFeature_intervals': [{u'GBInterval_from': '1', u'GBInterval_to': '271', u'GBInterval_accession': 'EF590892.1'}], u'GBFeature_location': '<1..>271', u'GBFeature_key': 'CDS', u'GBFeature_partial5': StringElement('', attributes={u'value': u'true'}), u'GBFeature_partial3': StringElement('', attributes={u'value': u'true'})}], u'GBSeq_create-date': '02-SEP-2007', u'GBSeq_other-seqids': ['gb|EF590892.1|', 'gi|156535671'], u'GBSeq_division': 'PLN', u'GBSeq_taxonomy': 'Eukaryota; Viridiplantae; Streptophyta; Embryophyta; Tracheophyta; Spermatophyta; Magnoliophyta; eudicotyledons; Gunneridae; Pentapetalae; Caryophyllales; Cactineae; Cactaceae; Opuntioideae; Opuntia', u'GBSeq_references': [{u'GBReference_position': '1..271', u'GBReference_reference': '1', u'GBReference_authors': ['Kress,W.J.', 'Erickson,D.L.'], u'GBReference_journal': 'PLoS ONE 2 (6), E508 (2007)', u'GBReference_pubmed': '17551588', u'GBReference_xref': [{u'GBXref_id': '10.1371/journal.pone.0000508', u'GBXref_dbname': 'doi'}], u'GBReference_title': 'A two-locus global DNA barcode for land plants: the coding rbcL gene complements the non-coding trnH-psbA spacer region', u'GBReference_remark': 'Publication Status: Online-Only'}, {u'GBReference_position': '1..271', u'GBReference_reference': '2', u'GBReference_journal': 'Submitted (03-MAY-2007) Botany, Smithsonian Institution, National Museum of Natural History, Washington, DC 20013-7012, USA', u'GBReference_title': 'Direct Submission', u'GBReference_authors': ['Kress,J.', 'Erickson,D.']}], u'GBSeq_update-date': '02-SEP-2007', u'GBSeq_organism': 'Opuntia fragilis', u'GBSeq_locus': 'EF590892', u'GBSeq_strandedness': 'double'}\n"
     ]
    }
   ],
   "source": [
    "handle=Entrez.efetch(\"nucleotide\",id=equery_result['IdList'],retmode=\"xml\")\n",
    "efetch_result=Entrez.parse(handle)\n",
    "print \"Efetch result\", efetch_result #This gives a \"generator\". You may want to make this into a list, or loop over it\n",
    "for r in efetch_result:\n",
    "    print r"
   ]
  },
  {
   "cell_type": "markdown",
   "metadata": {},
   "source": [
    "This is **not** what we wanted! What we want is a `SeqRecord` object. Reason: `Entrez.parse()` is a generic function for parsing Entrez XML. We are receiving nucleotide database records, ie sequences. For this, we want [Bio.SeqIO](http://biopython.org/DIST/docs/_api_159/Bio.SeqIO-module.html) which is specialized in parsing the various sequence formats we can meet and in this particular case the *GenBank* format (`gb`  is what we want)."
   ]
  },
  {
   "cell_type": "code",
   "execution_count": 5,
   "metadata": {
    "collapsed": false
   },
   "outputs": [
    {
     "name": "stdout",
     "output_type": "stream",
     "text": [
      "Efetch result <generator object parse at 0x380b410>\n",
      "SeqRecord(seq=Seq('GAGACCGGGTTACCTGAAGCTATTCAAACAGGTATAGGTGAACTAAACGGTATT...AAG', IUPACAmbiguousDNA()), id='HQ620723.1', name='HQ620723', description='Opuntia decumbens voucher Martinez & Eggli 146a (ZSS) acetyl-CoA carboxylase beta subunit (accD) gene, partial cds; chloroplast.', dbxrefs=[])\n",
      "\n",
      "\n",
      "SeqRecord(seq=Seq('GGTGAAAAAATCACCCGGTTGATTGAATATGCTACCAAAAATTCACTACCCCTT...AAA', IUPACAmbiguousDNA()), id='EF590893.1', name='EF590893', description='Opuntia humifusa voucher NMNH 06-8355 acetyl-CoA carboxylase-D (accD) gene, partial cds; chloroplast.', dbxrefs=[])\n",
      "\n",
      "\n",
      "SeqRecord(seq=Seq('GGTGAAAAAATCACCCGGTTGATTGAATATGCTACCAAAAATTCACTACCCCTT...AAA', IUPACAmbiguousDNA()), id='EF590892.1', name='EF590892', description='Opuntia fragilis voucher USBG s.n. acetyl-CoA carboxylase-D (accD) gene, partial cds; chloroplast.', dbxrefs=[])\n",
      "\n",
      "\n"
     ]
    }
   ],
   "source": [
    "import Bio.SeqIO as SeqIO\n",
    "handle=Entrez.efetch(\"nucleotide\",id=equery_result['IdList'],rettype=\"gb\") #Note: this now says \"gb\" to get the right format\n",
    "efetch_result=SeqIO.parse(handle,\"gb\") #Note: this used to read Entrez.parse(handle)\n",
    "print \"Efetch result\", efetch_result #This gives a \"generator\". You may want to make this into a list, or loop over it\n",
    "for r in efetch_result:\n",
    "    print repr(r)\n",
    "    print\n",
    "    print"
   ]
  },
  {
   "cell_type": "markdown",
   "metadata": {},
   "source": [
    "Much better. Now we have SeqRecords. Let us summarize everything into a nice piece of code."
   ]
  },
  {
   "cell_type": "code",
   "execution_count": 6,
   "metadata": {
    "collapsed": false
   },
   "outputs": [
    {
     "name": "stdout",
     "output_type": "stream",
     "text": [
      "SeqRecord(seq=Seq('GAGACCGGGTTACCTGAAGCTATTCAAACAGGTATAGGTGAACTAAACGGTATT...AAG', IUPACAmbiguousDNA()), id='HQ620723.1', name='HQ620723', description='Opuntia decumbens voucher Martinez & Eggli 146a (ZSS) acetyl-CoA carboxylase beta subunit (accD) gene, partial cds; chloroplast.', dbxrefs=[])\n",
      "SeqRecord(seq=Seq('GGTGAAAAAATCACCCGGTTGATTGAATATGCTACCAAAAATTCACTACCCCTT...AAA', IUPACAmbiguousDNA()), id='EF590893.1', name='EF590893', description='Opuntia humifusa voucher NMNH 06-8355 acetyl-CoA carboxylase-D (accD) gene, partial cds; chloroplast.', dbxrefs=[])\n",
      "SeqRecord(seq=Seq('GGTGAAAAAATCACCCGGTTGATTGAATATGCTACCAAAAATTCACTACCCCTT...AAA', IUPACAmbiguousDNA()), id='EF590892.1', name='EF590892', description='Opuntia fragilis voucher USBG s.n. acetyl-CoA carboxylase-D (accD) gene, partial cds; chloroplast.', dbxrefs=[])\n"
     ]
    }
   ],
   "source": [
    "from Bio import Entrez\n",
    "from Bio import SeqIO\n",
    "Entrez.email = \"my_little_self@utu.fi\"\n",
    "\n",
    "def fetch_records(query):\n",
    "    search_result_handle=Entrez.esearch(db=\"nucleotide\", retmax=10, term=query) #Query Entrez\n",
    "    search_result=Entrez.read(search_result_handle) #Parse the XML data you get in reply\n",
    "    efetch_result_handle=Entrez.efetch(db=\"nucleotide\", id=search_result['IdList'],rettype=\"gb\") #Now fetch the actual sequences in GenBank format\n",
    "    seq_records=SeqIO.parse(efetch_result_handle,format=\"gb\") #Now parse the obtained data using SeqIO\n",
    "    return seq_records\n",
    "\n",
    "for seq_rec in fetch_records(\"opuntia[ORGN] accD\"):\n",
    "    print repr(seq_rec)\n",
    "    \n"
   ]
  },
  {
   "cell_type": "markdown",
   "metadata": {},
   "source": [
    "## Search & download recap (1)\n",
    "\n",
    "- `Entrez.esearch()` to get a reply with list of IDs\n",
    "- `Entrez.efetch()` to grab the actual records\n",
    "- `SeqIO.parse()` to obtain a sequence of SeqRecord objects\n",
    "\n",
    "This is okay for simple small queries but is highly discouraged for large queries. NCBI expects you to use the *query history* functionality which lets them bind your fetch to a previous search and use their internal caching mechanisms. Turn it on with `usehistory=\"y\"` like such:"
   ]
  },
  {
   "cell_type": "code",
   "execution_count": 7,
   "metadata": {
    "collapsed": false
   },
   "outputs": [
    {
     "name": "stdout",
     "output_type": "stream",
     "text": [
      "Search_result: {u'Count': '3', u'RetMax': '3', u'IdList': ['377580661', '156535673', '156535671'], u'TranslationStack': [{u'Count': '1725', u'Field': 'Organism', u'Term': '\"Opuntia\"[Organism]', u'Explode': 'Y'}, {u'Count': '161140', u'Field': 'All Fields', u'Term': 'accD[All Fields]', u'Explode': 'N'}, 'AND'], u'QueryTranslation': '\"Opuntia\"[Organism] AND accD[All Fields]', u'TranslationSet': [{u'To': '\"Opuntia\"[Organism]', u'From': 'opuntia[ORGN]'}], u'RetStart': '0', u'QueryKey': '1', u'WebEnv': 'NCID_1_938917986_130.14.18.34_9001_1452614215_1196749894_0MetA0_S_MegaStore_F_1'}\n"
     ]
    }
   ],
   "source": [
    "from Bio import Entrez\n",
    "from Bio import SeqIO\n",
    "Entrez.email = \"my_little_self@utu.fi\"\n",
    "\n",
    "search_result_handle=Entrez.esearch(db=\"nucleotide\", retmax=10, term=\"opuntia[ORGN] accD\", usehistory=\"y\") #Query Entrez with history on\n",
    "search_result=Entrez.read(search_result_handle) #Parse the XML data you get in reply\n",
    "print \"Search_result:\", search_result\n"
   ]
  },
  {
   "cell_type": "markdown",
   "metadata": {},
   "source": [
    "Note the `QueryKey` and `WebEnv` keys. This is the information which identifies your result set at NCBI's server and can be used to fetch the records like so:"
   ]
  },
  {
   "cell_type": "code",
   "execution_count": 8,
   "metadata": {
    "collapsed": false
   },
   "outputs": [
    {
     "name": "stdout",
     "output_type": "stream",
     "text": [
      "SeqRecord(seq=Seq('GAGACCGGGTTACCTGAAGCTATTCAAACAGGTATAGGTGAACTAAACGGTATT...AAG', IUPACAmbiguousDNA()), id='HQ620723.1', name='HQ620723', description='Opuntia decumbens voucher Martinez & Eggli 146a (ZSS) acetyl-CoA carboxylase beta subunit (accD) gene, partial cds; chloroplast.', dbxrefs=[])\n",
      "\n",
      "\n",
      "SeqRecord(seq=Seq('GGTGAAAAAATCACCCGGTTGATTGAATATGCTACCAAAAATTCACTACCCCTT...AAA', IUPACAmbiguousDNA()), id='EF590893.1', name='EF590893', description='Opuntia humifusa voucher NMNH 06-8355 acetyl-CoA carboxylase-D (accD) gene, partial cds; chloroplast.', dbxrefs=[])\n",
      "\n",
      "\n",
      "SeqRecord(seq=Seq('GGTGAAAAAATCACCCGGTTGATTGAATATGCTACCAAAAATTCACTACCCCTT...AAA', IUPACAmbiguousDNA()), id='EF590892.1', name='EF590892', description='Opuntia fragilis voucher USBG s.n. acetyl-CoA carboxylase-D (accD) gene, partial cds; chloroplast.', dbxrefs=[])\n",
      "\n",
      "\n"
     ]
    }
   ],
   "source": [
    "efetch_result_handle=Entrez.efetch(db=\"nucleotide\",\n",
    "                                   query_key=search_result[\"QueryKey\"],\n",
    "                                   webenv=search_result[\"WebEnv\"],\n",
    "                                   rettype=\"gb\") #Now fetch the actual sequences in GenBank format. Note how I don't give the IDs!\n",
    "seq_records=SeqIO.parse(efetch_result_handle,format=\"gb\") #Now parse the obtained data using SeqIO\n",
    "for r in seq_records:\n",
    "    print repr(r)\n",
    "    print\n",
    "    print\n",
    "    "
   ]
  },
  {
   "cell_type": "markdown",
   "metadata": {},
   "source": [
    "## Search & download recap (2)\n",
    "\n",
    "- `Entrez.esearch(..., usehistory=\"y\")` to get a reply and webenv + query_key\n",
    "- `Entrez.efetch(..., webenv=, query_key=)` to grab the actual records from the previous search\n",
    "- `SeqIO.parse()` to obtain a sequence of SeqRecord objects\n",
    "\n",
    "Great! Now our problem is that if we have a large result set, thousands of IDs, Entrez doesn't let us grab them all at once with a single efetch. We need to get them bit-by-bit. Here's a complete example."
   ]
  },
  {
   "cell_type": "code",
   "execution_count": 9,
   "metadata": {
    "collapsed": false,
    "scrolled": true
   },
   "outputs": [
    {
     "name": "stdout",
     "output_type": "stream",
     "text": [
      "Fetched 50 records\n",
      "First few: [SeqRecord(seq=Seq('GTCATATCCCAGTGCTGACTCCCGGGCGTGCAGACCGCTAACTAGCTCACTCGC...AAA', IUPACAmbiguousDNA()), id='NM_001318470.1', name='NM_001318470', description='Homo sapiens TSC22 domain family member 3 (TSC22D3), transcript variant 5, mRNA.', dbxrefs=[]), SeqRecord(seq=Seq('GTCATATCCCAGTGCTGACTCCCGGGCGTGCAGACCGCTAACTAGCTCACTCGC...AAA', IUPACAmbiguousDNA()), id='NM_001318468.1', name='NM_001318468', description='Homo sapiens TSC22 domain family member 3 (TSC22D3), transcript variant 4, mRNA.', dbxrefs=[]), SeqRecord(seq=UnknownSeq(5132365, alphabet = IUPACAmbiguousDNA(), character = 'N'), id='NZ_LN600312.1', name='NZ_LN600312', description='Xanthomonas citri pv. citri genome assembly ASX_S_PRJEB7150_v1, scaffold ASX_S_XAC908_scaffold1, whole genome shotgun sequence.', dbxrefs=['BioProject:PRJNA224116 BioSample:SAMEA2752228 Assembly:GCF_001498875.1']), SeqRecord(seq=UnknownSeq(113613, alphabet = IUPACAmbiguousDNA(), character = 'N'), id='NZ_LJJL01000015.1', name='NZ_LJJL01000015', description='Pseudomonas syringae pv. actinidifoliorum strain CFBP8160 PsaCFBP8160015, whole genome shotgun sequence.', dbxrefs=['BioProject:PRJNA224116 BioSample:SAMN03788029 Assembly:GCF_001497555.1']), SeqRecord(seq=UnknownSeq(5063553, alphabet = IUPACAmbiguousDNA(), character = 'N'), id='NZ_LN559343.1', name='NZ_LN559343', description='Xanthomonas citri pv. citri genome assembly ASX_M_PRJEB7156_v1, scaffold ASX_M_XACW160_scaffold1, whole genome shotgun sequence.', dbxrefs=['BioProject:PRJNA224116 BioSample:SAMEA2752263 Assembly:GCF_001496535.1'])]\n"
     ]
    }
   ],
   "source": [
    "from Bio import Entrez\n",
    "from Bio import SeqIO\n",
    "Entrez.email = \"my_little_self@utu.fi\"\n",
    "\n",
    "def fetch_records(query, ret_max=10, fetch_batch=5):\n",
    "    search_result_handle=Entrez.esearch(db=\"nucleotide\", retmax=ret_max, term=query, usehistory=\"y\") #Query Entrez\n",
    "    search_result=Entrez.read(search_result_handle) #Parse the XML data I get in reply\n",
    "    #The only thing you care about is Count, and the Webenv+QueryKey data\n",
    "    all_records=[] #This will be our result list\n",
    "    #Divide into blocks of fetch_batch results, download one at a time\n",
    "    for start_index in range(0,len(search_result[\"IdList\"]),fetch_batch):\n",
    "        efetch_result_handle=Entrez.efetch(db=\"nucleotide\", \n",
    "                                           retstart=start_index,\n",
    "                                           retmax=fetch_batch,\n",
    "                                           webenv=search_result[\"WebEnv\"],\n",
    "                                           query_key=search_result[\"QueryKey\"],\n",
    "                                           rettype=\"gb\") #Now fetch the actual sequences in GenBank format\n",
    "        #add these records into our list\n",
    "        all_records.extend(SeqIO.parse(efetch_result_handle,format=\"gb\")) #Now parse the obtained data using SeqIO\n",
    "    return all_records\n",
    "\n",
    "fetched_records_p53=fetch_records(\"p53\", ret_max=50, fetch_batch=10) #get max 50 records, fetch 10 at a time\n",
    "print \"Fetched\", len(fetched_records_p53), \"records\"\n",
    "print \"First few:\", fetched_records_p53[:5]\n"
   ]
  },
  {
   "cell_type": "markdown",
   "metadata": {},
   "source": [
    "## Search & download - final version\n",
    "\n",
    "- `Entrez.esearch(..., retmax=, usehistory=\"y\")` to get a reply and webenv + query_key, searches for retmax records\n",
    "- `for batch_idx in range(0, total_num_of_results, download_batch)` to chop the results into download_batch sized chunks\n",
    "- `Entrez.efetch(retstart=, retmax=download_batch, webenv=, query_key=)` to grab one batch at a time\n",
    "- `SeqIO.parse()` to obtain a sequence of SeqRecord objects for every batch"
   ]
  },
  {
   "cell_type": "markdown",
   "metadata": {},
   "source": [
    "Let's grab a protein and see what the record has:"
   ]
  },
  {
   "cell_type": "code",
   "execution_count": 10,
   "metadata": {
    "collapsed": false
   },
   "outputs": [
    {
     "name": "stdout",
     "output_type": "stream",
     "text": [
      "SeqRecord(seq=Seq('MEEPQSDPSVEPPLSQETFSDLWKLLPENNVLSPLPSQAMDDLMLSPDDIEQWF...DSD', IUPACProtein()), id='NP_000537.3', name='NP_000537', description='cellular tumor antigen p53 isoform a [Homo sapiens].', dbxrefs=[])\n"
     ]
    }
   ],
   "source": [
    "tp53_rec=SeqIO.read(Entrez.efetch(db=\"protein\",id=[\"NP_000537\"],rettype=\"gb\"),\"gb\")\n",
    "print repr(tp53_rec)\n"
   ]
  },
  {
   "cell_type": "code",
   "execution_count": 11,
   "metadata": {
    "collapsed": false
   },
   "outputs": [
    {
     "data": {
      "text/plain": [
       "['__add__',\n",
       " '__bool__',\n",
       " '__class__',\n",
       " '__contains__',\n",
       " '__delattr__',\n",
       " '__dict__',\n",
       " '__doc__',\n",
       " '__format__',\n",
       " '__getattribute__',\n",
       " '__getitem__',\n",
       " '__hash__',\n",
       " '__init__',\n",
       " '__iter__',\n",
       " '__len__',\n",
       " '__module__',\n",
       " '__new__',\n",
       " '__nonzero__',\n",
       " '__radd__',\n",
       " '__reduce__',\n",
       " '__reduce_ex__',\n",
       " '__repr__',\n",
       " '__setattr__',\n",
       " '__sizeof__',\n",
       " '__str__',\n",
       " '__subclasshook__',\n",
       " '__weakref__',\n",
       " '_per_letter_annotations',\n",
       " '_seq',\n",
       " '_set_per_letter_annotations',\n",
       " '_set_seq',\n",
       " 'annotations',\n",
       " 'dbxrefs',\n",
       " 'description',\n",
       " 'features',\n",
       " 'format',\n",
       " 'id',\n",
       " 'letter_annotations',\n",
       " 'lower',\n",
       " 'name',\n",
       " 'reverse_complement',\n",
       " 'seq',\n",
       " 'upper']"
      ]
     },
     "execution_count": 11,
     "metadata": {},
     "output_type": "execute_result"
    }
   ],
   "source": [
    "dir(tp53_rec)"
   ]
  },
  {
   "cell_type": "code",
   "execution_count": 12,
   "metadata": {
    "collapsed": false
   },
   "outputs": [
    {
     "name": "stdout",
     "output_type": "stream",
     "text": [
      "annotations: ['__class__', '__cmp__', '__contains__', '__delattr__', '__delitem__', '__doc__', '__eq__', '__format__', '__ge__', '__getattribute__', '__getitem__', '__gt__', '__hash__', '__init__', '__iter__', '__le__', '__len__', '__lt__', '__ne__', '__new__', '__reduce__', '__reduce_ex__', '__repr__', '__setattr__', '__setitem__', '__sizeof__', '__str__', '__subclasshook__', 'clear', 'copy', 'fromkeys', 'get', 'has_key', 'items', 'iteritems', 'iterkeys', 'itervalues', 'keys', 'pop', 'popitem', 'setdefault', 'update', 'values', 'viewitems', 'viewkeys', 'viewvalues']\n",
      "annotations['accessions'] ['NP_000537']\n",
      "annotations\n"
     ]
    }
   ],
   "source": [
    "print \"annotations:\", dir(tp53_rec.annotations)\n",
    "print \"annotations['accessions']\", tp53_rec.annotations['accessions']\n",
    "print \"annotations\""
   ]
  }
 ],
 "metadata": {
  "kernelspec": {
   "display_name": "Python 2",
   "language": "python",
   "name": "python2"
  },
  "language_info": {
   "codemirror_mode": {
    "name": "ipython",
    "version": 2
   },
   "file_extension": ".py",
   "mimetype": "text/x-python",
   "name": "python",
   "nbconvert_exporter": "python",
   "pygments_lexer": "ipython2",
   "version": "2.7.5+"
  }
 },
 "nbformat": 4,
 "nbformat_minor": 0
}
