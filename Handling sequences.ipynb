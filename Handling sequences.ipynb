{
 "cells": [
  {
   "cell_type": "markdown",
   "metadata": {},
   "source": [
    "# Sequence objects\n",
    "\n",
    "Two important objects: `Seq` and `SeqRecord`. `Seq` holds a sequence and is aware of the alphabet used. `SeqRecord` holds additional metadata for the sequence (biological annotation, etc.) Sequence-related objects and functions are in the [`Bio.Seq`](http://biopython.org/DIST/docs/api/Bio.Seq.Seq-class.html) module.\n",
    "\n",
    "## Seq\n",
    "\n",
    "* Much like a standard string\n",
    "* But with few additions e.g. the `.translate()` method\n"
   ]
  },
  {
   "cell_type": "code",
   "execution_count": 1,
   "metadata": {
    "collapsed": false
   },
   "outputs": [
    {
     "name": "stdout",
     "output_type": "stream",
     "text": [
      "s= ACGCGGCGTG\n",
      "ACG\n",
      "CGCGGCGTG\n",
      "GTGCGGCGCA\n"
     ]
    }
   ],
   "source": [
    "from Bio.Seq import Seq\n",
    "\n",
    "s=Seq(\"ACGCGGCGTG\")\n",
    "print \"s=\", s\n",
    "#Standard slicing works as usual\n",
    "print s[:3]\n",
    "print s[1:]\n",
    "print s[::-1] #what will this do?\n"
   ]
  },
  {
   "cell_type": "markdown",
   "metadata": {},
   "source": [
    "`print` pretty-prints the sequence for us, so"
   ]
  },
  {
   "cell_type": "code",
   "execution_count": 2,
   "metadata": {
    "collapsed": false
   },
   "outputs": [
    {
     "name": "stdout",
     "output_type": "stream",
     "text": [
      "ACGCGGCGTG\n"
     ]
    }
   ],
   "source": [
    "print s"
   ]
  },
  {
   "cell_type": "markdown",
   "metadata": {},
   "source": [
    "gives us no indication that `s` is a little more complex object than a simple string. If you want to know more about an object, you can try this:"
   ]
  },
  {
   "cell_type": "code",
   "execution_count": 3,
   "metadata": {
    "collapsed": false
   },
   "outputs": [
    {
     "name": "stdout",
     "output_type": "stream",
     "text": [
      "Seq('ACGCGGCGTG', Alphabet())\n",
      "<class 'Bio.Seq.Seq'>\n",
      "Alphabet()\n"
     ]
    }
   ],
   "source": [
    "print repr(s)\n",
    "print s.__class__ #two underscores not one\n",
    "print s.alphabet"
   ]
  },
  {
   "cell_type": "markdown",
   "metadata": {},
   "source": [
    "So what is this `Alphabet()`? Sequences need to know their alphabet for many of the operations to work correctly (e.g. `translate()` makes no sense for protein sequence). Alphabets are in the [`Bio.Alphabet`](http://biopython.org/DIST/docs/api/Bio.Alphabet-module.html) module and the commonly used IUPAC alphabets are in [`Bio.Alphabet.IUPAC`](http://biopython.org/DIST/docs/api/Bio.Alphabet.IUPAC-module.html)."
   ]
  },
  {
   "cell_type": "code",
   "execution_count": 4,
   "metadata": {
    "collapsed": false
   },
   "outputs": [
    {
     "name": "stdout",
     "output_type": "stream",
     "text": [
      "IUPACUnambiguousDNA()\n"
     ]
    }
   ],
   "source": [
    "from Bio.Alphabet import IUPAC\n",
    "\n",
    "print IUPAC.unambiguous_dna"
   ]
  },
  {
   "cell_type": "markdown",
   "metadata": {},
   "source": [
    "So let's try"
   ]
  },
  {
   "cell_type": "code",
   "execution_count": 5,
   "metadata": {
    "collapsed": false
   },
   "outputs": [
    {
     "name": "stdout",
     "output_type": "stream",
     "text": [
      "TRR\n"
     ]
    },
    {
     "name": "stderr",
     "output_type": "stream",
     "text": [
      "/usr/local/lib/python2.7/dist-packages/Bio/Seq.py:2041: BiopythonWarning: Partial codon, len(sequence) not a multiple of three. Explicitly trim the sequence or add trailing N before translation. This may become an error in future.\n",
      "  BiopythonWarning)\n"
     ]
    }
   ],
   "source": [
    "print s.translate()"
   ]
  },
  {
   "cell_type": "markdown",
   "metadata": {},
   "source": [
    "Oops. This warning is not nice. Head over to [Ville](https://ville.utu.fi) and fix that, i.e. trim `s` to the longest subsequence whose length is divisible by `3` and print the translation."
   ]
  },
  {
   "cell_type": "markdown",
   "metadata": {
    "collapsed": true
   },
   "source": [
    "`Seq` objects have a number of methods in common with [Python strings](https://docs.python.org/2/library/stdtypes.html#string-methods). For example, they have the `count()` method. Try find a way to use it to calculate the *GC content* of the sequence, i.e. the proportion of G's and C's out of the total length of the sequence? For example the GC content of `ACGTATTA` is `0.25` (`2/8`). \n",
    "\n",
    "Little side-note on division. Probably the following does not do what you would expect intuitively:"
   ]
  },
  {
   "cell_type": "code",
   "execution_count": 6,
   "metadata": {
    "collapsed": false
   },
   "outputs": [
    {
     "name": "stdout",
     "output_type": "stream",
     "text": [
      "0\n"
     ]
    }
   ],
   "source": [
    "print 2/3"
   ]
  },
  {
   "cell_type": "markdown",
   "metadata": {},
   "source": [
    "That is because division is by default integer division. You need to make one of the operands into a real number (`float` type) for it to become real division. Best use the `float()` function that tries to make a `float` out of anything you feed into it:"
   ]
  },
  {
   "cell_type": "code",
   "execution_count": 7,
   "metadata": {
    "collapsed": false
   },
   "outputs": [
    {
     "name": "stdout",
     "output_type": "stream",
     "text": [
      "0.666666666667\n"
     ]
    }
   ],
   "source": [
    "print float(2)/3"
   ]
  },
  {
   "cell_type": "markdown",
   "metadata": {},
   "source": [
    "Now head over to [Ville](https://ville.utu.fi) and solve that exercise.\n",
    "\n",
    "## Sequence comparison\n",
    "\n",
    "*Note: this will behave differently on older BioPythons*"
   ]
  },
  {
   "cell_type": "code",
   "execution_count": 8,
   "metadata": {
    "collapsed": false
   },
   "outputs": [
    {
     "name": "stdout",
     "output_type": "stream",
     "text": [
      "True\n"
     ]
    }
   ],
   "source": [
    "s1=Seq(\"ACGT\")\n",
    "s2=Seq(\"ACGT\")\n",
    "print s1==s2"
   ]
  },
  {
   "cell_type": "markdown",
   "metadata": {},
   "source": [
    "## Translation"
   ]
  },
  {
   "cell_type": "code",
   "execution_count": 11,
   "metadata": {
    "collapsed": false
   },
   "outputs": [
    {
     "name": "stdout",
     "output_type": "stream",
     "text": [
      "MAIVMGR*KGAR*\n",
      "Seq('MAIVMGR*KGAR*', HasStopCodon(IUPACProtein(), '*'))\n"
     ]
    }
   ],
   "source": [
    "from Bio.Alphabet import IUPAC\n",
    "mrna=Seq(\"AUGGCCAUUGUAAUGGGCCGCUGAAAGGGUGCCCGAUAG\", IUPAC.unambiguous_rna)\n",
    "translated=mrna.translate()\n",
    "print translated\n",
    "print repr(translated)"
   ]
  },
  {
   "cell_type": "code",
   "execution_count": 25,
   "metadata": {
    "collapsed": false
   },
   "outputs": [
    {
     "name": "stdout",
     "output_type": "stream",
     "text": [
      "Trans 1 LKDAIYRTRTFPGSGRSHGSTGCGNYVSPVSKITDRRS**SWLLLGWRSLARNHGWWKPL*MARQSLAPTRTAATAAPP*ESSS*SSRRSWSRQTSPL\n",
      "Trans 2 LKDAIYRTRTFPGSGRSHGSTGCGNYVSPVSKITDRRS\n"
     ]
    }
   ],
   "source": [
    "import Bio.Alphabet\n",
    "\n",
    "s=\\\n",
    "\"\"\"TTAAAAGATGCAATCTATCGTACTCGCACTT\n",
    "TCCCTGGTTCTGGTCGCTCCCATGGCAGCACAGGCT\n",
    "GCGGAAATTACGTTAGTCCCGTCAGTAAAATTACAG\n",
    "ATAGGCGATCGTGATAATCGTGGCTATTACTGGGAT\n",
    "GGAGGTCACTGGCGCGTAACCACGGCTGGTGGAAAC\n",
    "CATTATGAATGGCGAGGCAATCGCTGGCACCTACAC\n",
    "GGACCGCCGCCACCGCCGCGCCACCATAAGAAAGCT\n",
    "CCTCATGATCATCACGGCGGTCATGGTCCAGGCAAA\n",
    "CATCACCGCTAA\"\"\".replace(\"\\n\",\"\")\n",
    "\n",
    "gene=Seq(s,Bio.Alphabet.generic_dna)\n",
    "translation1=gene.translate(table=\"Bacterial\")\n",
    "print \"Trans 1\", translation1\n",
    "translation2=gene.translate(table=\"Bacterial\", to_stop=True)\n",
    "print \"Trans 2\", translation2\n"
   ]
  },
  {
   "cell_type": "markdown",
   "metadata": {},
   "source": [
    "The translation is driven by a genetic code table, of which there are [many](http://biopython.org/DIST/docs/api/Bio.Data.CodonTable-module.html). You can specify the table either by its name or by its number (check out the file linked in the module documentation).\n",
    "\n",
    "Now head over to VILLE and solve the which table exercise. Here's a little hint:"
   ]
  },
  {
   "cell_type": "code",
   "execution_count": 26,
   "metadata": {
    "collapsed": false
   },
   "outputs": [
    {
     "name": "stdout",
     "output_type": "stream",
     "text": [
      "1\n",
      "2\n",
      "3\n",
      "4\n",
      "5\n",
      "6\n",
      "7\n",
      "8\n",
      "9\n",
      "10\n",
      "11\n",
      "12\n",
      "13\n",
      "14\n",
      "15\n",
      "16\n",
      "17\n",
      "18\n",
      "19\n",
      "20\n",
      "21\n",
      "22\n",
      "23\n",
      "24\n"
     ]
    }
   ],
   "source": [
    "for i in xrange(1,25):\n",
    "    print i"
   ]
  },
  {
   "cell_type": "markdown",
   "metadata": {},
   "source": [
    "## Complements"
   ]
  },
  {
   "cell_type": "code",
   "execution_count": 13,
   "metadata": {
    "collapsed": false
   },
   "outputs": [
    {
     "name": "stdout",
     "output_type": "stream",
     "text": [
      "UACCGGUAACAUUACCCGGCGACUUUCCCACGGGCUAUC\n"
     ]
    },
    {
     "ename": "ValueError",
     "evalue": "Proteins do not have complements!",
     "output_type": "error",
     "traceback": [
      "\u001b[1;31m---------------------------------------------------------------------------\u001b[0m",
      "\u001b[1;31mValueError\u001b[0m                                Traceback (most recent call last)",
      "\u001b[1;32m<ipython-input-13-2acbe05d2c34>\u001b[0m in \u001b[0;36m<module>\u001b[1;34m()\u001b[0m\n\u001b[0;32m      1\u001b[0m \u001b[1;32mprint\u001b[0m \u001b[0mmrna\u001b[0m\u001b[1;33m.\u001b[0m\u001b[0mcomplement\u001b[0m\u001b[1;33m(\u001b[0m\u001b[1;33m)\u001b[0m\u001b[1;33m\u001b[0m\u001b[0m\n\u001b[1;32m----> 2\u001b[1;33m \u001b[1;32mprint\u001b[0m \u001b[0mtranslated\u001b[0m\u001b[1;33m.\u001b[0m\u001b[0mcomplement\u001b[0m\u001b[1;33m(\u001b[0m\u001b[1;33m)\u001b[0m\u001b[1;33m\u001b[0m\u001b[0m\n\u001b[0m",
      "\u001b[1;32m/usr/local/lib/python2.7/dist-packages/Bio/Seq.pyc\u001b[0m in \u001b[0;36mcomplement\u001b[1;34m(self)\u001b[0m\n\u001b[0;32m    760\u001b[0m         \u001b[0mbase\u001b[0m \u001b[1;33m=\u001b[0m \u001b[0mAlphabet\u001b[0m\u001b[1;33m.\u001b[0m\u001b[0m_get_base_alphabet\u001b[0m\u001b[1;33m(\u001b[0m\u001b[0mself\u001b[0m\u001b[1;33m.\u001b[0m\u001b[0malphabet\u001b[0m\u001b[1;33m)\u001b[0m\u001b[1;33m\u001b[0m\u001b[0m\n\u001b[0;32m    761\u001b[0m         \u001b[1;32mif\u001b[0m \u001b[0misinstance\u001b[0m\u001b[1;33m(\u001b[0m\u001b[0mbase\u001b[0m\u001b[1;33m,\u001b[0m \u001b[0mAlphabet\u001b[0m\u001b[1;33m.\u001b[0m\u001b[0mProteinAlphabet\u001b[0m\u001b[1;33m)\u001b[0m\u001b[1;33m:\u001b[0m\u001b[1;33m\u001b[0m\u001b[0m\n\u001b[1;32m--> 762\u001b[1;33m             \u001b[1;32mraise\u001b[0m \u001b[0mValueError\u001b[0m\u001b[1;33m(\u001b[0m\u001b[1;34m\"Proteins do not have complements!\"\u001b[0m\u001b[1;33m)\u001b[0m\u001b[1;33m\u001b[0m\u001b[0m\n\u001b[0m\u001b[0;32m    763\u001b[0m         \u001b[1;32mif\u001b[0m \u001b[0misinstance\u001b[0m\u001b[1;33m(\u001b[0m\u001b[0mbase\u001b[0m\u001b[1;33m,\u001b[0m \u001b[0mAlphabet\u001b[0m\u001b[1;33m.\u001b[0m\u001b[0mDNAAlphabet\u001b[0m\u001b[1;33m)\u001b[0m\u001b[1;33m:\u001b[0m\u001b[1;33m\u001b[0m\u001b[0m\n\u001b[0;32m    764\u001b[0m             \u001b[0mttable\u001b[0m \u001b[1;33m=\u001b[0m \u001b[0m_dna_complement_table\u001b[0m\u001b[1;33m\u001b[0m\u001b[0m\n",
      "\u001b[1;31mValueError\u001b[0m: Proteins do not have complements!"
     ]
    }
   ],
   "source": [
    "print mrna.complement()\n",
    "print translated.complement()"
   ]
  }
 ],
 "metadata": {
  "kernelspec": {
   "display_name": "Python 2",
   "language": "python",
   "name": "python2"
  },
  "language_info": {
   "codemirror_mode": {
    "name": "ipython",
    "version": 2
   },
   "file_extension": ".py",
   "mimetype": "text/x-python",
   "name": "python",
   "nbconvert_exporter": "python",
   "pygments_lexer": "ipython2",
   "version": "2.7.5+"
  }
 },
 "nbformat": 4,
 "nbformat_minor": 0
}
