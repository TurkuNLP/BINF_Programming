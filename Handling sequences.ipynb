{
 "cells": [
  {
   "cell_type": "markdown",
   "metadata": {},
   "source": [
    "# Sequence objects\n",
    "\n",
    "Two important objects: `Seq` and `SeqRecord`. `Seq` holds a sequence and is aware of the alphabet used. `SeqRecord` holds additional metadata for the sequence (biological annotation, etc.) Sequence-related objects and functions are in the [`Bio.Seq`](http://biopython.org/DIST/docs/api/Bio.Seq.Seq-class.html) module.\n",
    "\n",
    "## Seq\n",
    "\n",
    "* Much like a standard string\n",
    "* But with few additions e.g. the `.translate()` method\n"
   ]
  },
  {
   "cell_type": "code",
   "execution_count": 1,
   "metadata": {
    "collapsed": false
   },
   "outputs": [
    {
     "name": "stdout",
     "output_type": "stream",
     "text": [
      "s= ACGCGGCGTG\n",
      "ACG\n",
      "CGCGGCGTG\n",
      "GTGCGGCGCA\n"
     ]
    }
   ],
   "source": [
    "from Bio.Seq import Seq\n",
    "\n",
    "s=Seq(\"ACGCGGCGTG\")\n",
    "print \"s=\", s\n",
    "#Standard slicing works as usual\n",
    "print s[:3]\n",
    "print s[1:]\n",
    "print s[::-1] #what will this do?\n"
   ]
  },
  {
   "cell_type": "markdown",
   "metadata": {},
   "source": [
    "`print` pretty-prints the sequence for us, so"
   ]
  },
  {
   "cell_type": "code",
   "execution_count": 2,
   "metadata": {
    "collapsed": false
   },
   "outputs": [
    {
     "name": "stdout",
     "output_type": "stream",
     "text": [
      "ACGCGGCGTG\n",
      "ACGCGGCGTG\n"
     ]
    }
   ],
   "source": [
    "print s\n",
    "print \"ACGCGGCGTG\""
   ]
  },
  {
   "cell_type": "markdown",
   "metadata": {},
   "source": [
    "gives us no indication that `s` is a little more complex object than a simple string. If you want to know more about an object, you can try this:"
   ]
  },
  {
   "cell_type": "code",
   "execution_count": 3,
   "metadata": {
    "collapsed": false
   },
   "outputs": [
    {
     "name": "stdout",
     "output_type": "stream",
     "text": [
      "Seq('ACGCGGCGTG', Alphabet())\n",
      "<class 'Bio.Seq.Seq'>\n",
      "Alphabet()\n"
     ]
    }
   ],
   "source": [
    "print repr(s)\n",
    "print s.__class__ #two underscores not one\n",
    "#help(s)\n",
    "print s.alphabet"
   ]
  },
  {
   "cell_type": "markdown",
   "metadata": {},
   "source": [
    "So what is this `Alphabet()`? Sequences need to know their alphabet for many of the operations to work correctly (e.g. `translate()` makes no sense for protein sequence). Alphabets are in the [`Bio.Alphabet`](http://biopython.org/DIST/docs/api/Bio.Alphabet-module.html) module and the commonly used IUPAC alphabets are in [`Bio.Alphabet.IUPAC`](http://biopython.org/DIST/docs/api/Bio.Alphabet.IUPAC-module.html)."
   ]
  },
  {
   "cell_type": "code",
   "execution_count": 4,
   "metadata": {
    "collapsed": false
   },
   "outputs": [
    {
     "name": "stdout",
     "output_type": "stream",
     "text": [
      "IUPACUnambiguousDNA()\n"
     ]
    }
   ],
   "source": [
    "from Bio.Alphabet import IUPAC\n",
    "\n",
    "print IUPAC.unambiguous_dna"
   ]
  },
  {
   "cell_type": "markdown",
   "metadata": {},
   "source": [
    "So let's try"
   ]
  },
  {
   "cell_type": "code",
   "execution_count": 5,
   "metadata": {
    "collapsed": false
   },
   "outputs": [
    {
     "name": "stdout",
     "output_type": "stream",
     "text": [
      "TRR\n"
     ]
    },
    {
     "name": "stderr",
     "output_type": "stream",
     "text": [
      "/usr/local/lib/python2.7/dist-packages/Bio/Seq.py:2041: BiopythonWarning: Partial codon, len(sequence) not a multiple of three. Explicitly trim the sequence or add trailing N before translation. This may become an error in future.\n",
      "  BiopythonWarning)\n"
     ]
    }
   ],
   "source": [
    "s=Seq(\"ACGCGGCGTG\")\n",
    "print s.translate()"
   ]
  },
  {
   "cell_type": "markdown",
   "metadata": {},
   "source": [
    "Oops. This warning is not nice. Head over to [Ville](https://ville.utu.fi) and fix that, i.e. trim `s` to the longest subsequence whose length is divisible by `3` and print the translation."
   ]
  },
  {
   "cell_type": "markdown",
   "metadata": {
    "collapsed": true
   },
   "source": [
    "`Seq` objects have a number of methods in common with [Python strings](https://docs.python.org/2/library/stdtypes.html#string-methods). For example, they have the `count()` method. Try find a way to use it to calculate the *GC content* of the sequence, i.e. the proportion of G's and C's out of the total length of the sequence? For example the GC content of `ACGTATTA` is `0.25` (`2/8`). \n",
    "\n",
    "Little side-note on division. Probably the following does not do what you would expect intuitively:"
   ]
  },
  {
   "cell_type": "code",
   "execution_count": 6,
   "metadata": {
    "collapsed": false
   },
   "outputs": [
    {
     "name": "stdout",
     "output_type": "stream",
     "text": [
      "0\n"
     ]
    }
   ],
   "source": [
    "print 2/3"
   ]
  },
  {
   "cell_type": "markdown",
   "metadata": {},
   "source": [
    "That is because division is by default integer division. You need to make one of the operands into a real number (`float` type) for it to become real division. Best use the `float()` function that tries to make a `float` out of anything you feed into it:"
   ]
  },
  {
   "cell_type": "code",
   "execution_count": 7,
   "metadata": {
    "collapsed": false
   },
   "outputs": [
    {
     "name": "stdout",
     "output_type": "stream",
     "text": [
      "0.666666666667\n",
      "0.0\n",
      "0.0\n"
     ]
    }
   ],
   "source": [
    "print float(2)/3\n",
    "print float(2/3) #this doesn't do what you think\n",
    "print 2/3/1.5 #neither does this"
   ]
  },
  {
   "cell_type": "markdown",
   "metadata": {},
   "source": [
    "Now head over to [Ville](https://ville.utu.fi) and solve that exercise.\n",
    "\n",
    "## Sequence comparison\n",
    "\n",
    "*Note: this will behave differently on older BioPythons*"
   ]
  },
  {
   "cell_type": "code",
   "execution_count": 8,
   "metadata": {
    "collapsed": false
   },
   "outputs": [
    {
     "name": "stdout",
     "output_type": "stream",
     "text": [
      "True\n"
     ]
    }
   ],
   "source": [
    "s1=Seq(\"ACGT\")\n",
    "s2=Seq(\"ACGT\")\n",
    "print s1==s2"
   ]
  },
  {
   "cell_type": "markdown",
   "metadata": {},
   "source": [
    "Sequences are much like strings and so you can index them much like strings. For example, `s1[3]` is the fourth character. Now head over to Ville and try to figure out the Hamming distance exercise. Here's a little loop to get you started:"
   ]
  },
  {
   "cell_type": "code",
   "execution_count": 9,
   "metadata": {
    "collapsed": false
   },
   "outputs": [
    {
     "name": "stdout",
     "output_type": "stream",
     "text": [
      "A\n",
      "C\n",
      "G\n"
     ]
    }
   ],
   "source": [
    "s1=Seq(\"ACGTACGT\")\n",
    "\n",
    "for i in range(3):\n",
    "    print s1[i]"
   ]
  },
  {
   "cell_type": "code",
   "execution_count": 10,
   "metadata": {
    "collapsed": false
   },
   "outputs": [
    {
     "name": "stdout",
     "output_type": "stream",
     "text": [
      "A A\n",
      "C C\n",
      "G G\n",
      "T A\n",
      "A C\n",
      "C G\n",
      "G T\n"
     ]
    }
   ],
   "source": [
    "s1=Seq(\"ACGTACG\")\n",
    "s2=Seq(\"ACGACGT\")\n",
    "\n",
    "assert len(s1)==len(s2), (len(s1),len(s2))\n",
    "for c1,c2 in zip(s1,s2):\n",
    "    print c1,c2\n",
    "    \n"
   ]
  },
  {
   "cell_type": "markdown",
   "metadata": {},
   "source": [
    "## Translation"
   ]
  },
  {
   "cell_type": "code",
   "execution_count": 11,
   "metadata": {
    "collapsed": false
   },
   "outputs": [
    {
     "name": "stdout",
     "output_type": "stream",
     "text": [
      "MAIVMGR*KGAR*\n",
      "Seq('MAIVMGR*KGAR*', HasStopCodon(IUPACProtein(), '*'))\n"
     ]
    }
   ],
   "source": [
    "from Bio.Alphabet import IUPAC\n",
    "mrna=Seq(\"AUGGCCAUUGUAAUGGGCCGCUGAAAGGGUGCCCGAUAG\", IUPAC.unambiguous_rna)\n",
    "translated=mrna.translate()\n",
    "print translated\n",
    "print repr(translated)"
   ]
  },
  {
   "cell_type": "code",
   "execution_count": 12,
   "metadata": {
    "collapsed": false
   },
   "outputs": [
    {
     "name": "stdout",
     "output_type": "stream",
     "text": [
      "Trans 1 LKDAIYRTRTFPGSGRSHGSTGCGNYVSPVSKITDRRS**SWLLLGWRSLARNHGWWKPL*MARQSLAPTRTAATAAPP*ESSS*SSRRSWSRQTSPL\n",
      "Trans 2 LKDAIYRTRTFPGSGRSHGSTGCGNYVSPVSKITDRRS\n"
     ]
    }
   ],
   "source": [
    "import Bio.Alphabet\n",
    "\n",
    "s=\\\n",
    "\"\"\"TTAAAAGATGCAATCTATCGTACTCGCACTT\n",
    "TCCCTGGTTCTGGTCGCTCCCATGGCAGCACAGGCT\n",
    "GCGGAAATTACGTTAGTCCCGTCAGTAAAATTACAG\n",
    "ATAGGCGATCGTGATAATCGTGGCTATTACTGGGAT\n",
    "GGAGGTCACTGGCGCGTAACCACGGCTGGTGGAAAC\n",
    "CATTATGAATGGCGAGGCAATCGCTGGCACCTACAC\n",
    "GGACCGCCGCCACCGCCGCGCCACCATAAGAAAGCT\n",
    "CCTCATGATCATCACGGCGGTCATGGTCCAGGCAAA\n",
    "CATCACCGCTAA\"\"\".replace(\"\\n\",\"\")\n",
    "\n",
    "gene=Seq(s,Bio.Alphabet.generic_dna)\n",
    "translation1=gene.translate(table=\"Bacterial\")\n",
    "print \"Trans 1\", translation1\n",
    "translation2=gene.translate(table=\"Bacterial\", to_stop=True)\n",
    "print \"Trans 2\", translation2\n"
   ]
  },
  {
   "cell_type": "markdown",
   "metadata": {},
   "source": [
    "The translation is driven by a genetic code table, of which there are [many](http://biopython.org/DIST/docs/api/Bio.Data.CodonTable-module.html). You can specify the table either by its name or by its number (check out the file linked in the module documentation). The tables are accessible via the various dictionaries in the CodonTable module:\n"
   ]
  },
  {
   "cell_type": "code",
   "execution_count": 13,
   "metadata": {
    "collapsed": false
   },
   "outputs": [
    {
     "name": "stdout",
     "output_type": "stream",
     "text": [
      "By name: {'Ascidian Mitochondrial': <Bio.Data.CodonTable.NCBICodonTable object at 0x3504b50>, 'SGC9': <Bio.Data.CodonTable.NCBICodonTable object at 0x35043d0>, 'Coelenterate Mitochondrial': <Bio.Data.CodonTable.NCBICodonTable object at 0x3493950>, 'Protozoan Mitochondrial': <Bio.Data.CodonTable.NCBICodonTable object at 0x3493950>, 'Vertebrate Mitochondrial': <Bio.Data.CodonTable.NCBICodonTable object at 0x34933d0>, 'Plant Plastid': <Bio.Data.CodonTable.NCBICodonTable object at 0x3504650>, 'Thraustochytrium Mitochondrial': <Bio.Data.CodonTable.NCBICodonTable object at 0x3512a90>, 'Blepharisma Macronuclear': <Bio.Data.CodonTable.NCBICodonTable object at 0x3512090>, 'Mold Mitochondrial': <Bio.Data.CodonTable.NCBICodonTable object at 0x3493950>, 'Invertebrate Mitochondrial': <Bio.Data.CodonTable.NCBICodonTable object at 0x3493bd0>, 'Standard': <Bio.Data.CodonTable.NCBICodonTable object at 0x34930d0>, 'Trematode Mitochondrial': <Bio.Data.CodonTable.NCBICodonTable object at 0x3512590>, 'Scenedesmus obliquus Mitochondrial': <Bio.Data.CodonTable.NCBICodonTable object at 0x3512810>, 'Euplotid Nuclear': <Bio.Data.CodonTable.NCBICodonTable object at 0x35043d0>, 'Yeast Mitochondrial': <Bio.Data.CodonTable.NCBICodonTable object at 0x3493650>, 'Spiroplasma': <Bio.Data.CodonTable.NCBICodonTable object at 0x3493950>, 'Alternative Flatworm Mitochondrial': <Bio.Data.CodonTable.NCBICodonTable object at 0x3504dd0>, 'Ciliate Nuclear': <Bio.Data.CodonTable.NCBICodonTable object at 0x3493e10>, 'SGC8': <Bio.Data.CodonTable.NCBICodonTable object at 0x3504150>, 'Alternative Yeast Nuclear': <Bio.Data.CodonTable.NCBICodonTable object at 0x35048d0>, 'Hexamita Nuclear': <Bio.Data.CodonTable.NCBICodonTable object at 0x3493e10>, 'SGC5': <Bio.Data.CodonTable.NCBICodonTable object at 0x3493e10>, 'SGC4': <Bio.Data.CodonTable.NCBICodonTable object at 0x3493bd0>, 'SGC3': <Bio.Data.CodonTable.NCBICodonTable object at 0x3493950>, 'SGC2': <Bio.Data.CodonTable.NCBICodonTable object at 0x3493650>, 'SGC1': <Bio.Data.CodonTable.NCBICodonTable object at 0x34933d0>, 'SGC0': <Bio.Data.CodonTable.NCBICodonTable object at 0x34930d0>, 'Flatworm Mitochondrial': <Bio.Data.CodonTable.NCBICodonTable object at 0x3504150>, 'Dasycladacean Nuclear': <Bio.Data.CodonTable.NCBICodonTable object at 0x3493e10>, 'Chlorophycean Mitochondrial': <Bio.Data.CodonTable.NCBICodonTable object at 0x3512310>, 'Mycoplasma': <Bio.Data.CodonTable.NCBICodonTable object at 0x3493950>, 'Pterobranchia Mitochondrial': <Bio.Data.CodonTable.NCBICodonTable object at 0x3512d10>, 'Bacterial': <Bio.Data.CodonTable.NCBICodonTable object at 0x3504650>, 'Echinoderm Mitochondrial': <Bio.Data.CodonTable.NCBICodonTable object at 0x3504150>}\n",
      "By ID: {1: <Bio.Data.CodonTable.NCBICodonTable object at 0x34930d0>, 2: <Bio.Data.CodonTable.NCBICodonTable object at 0x34933d0>, 3: <Bio.Data.CodonTable.NCBICodonTable object at 0x3493650>, 4: <Bio.Data.CodonTable.NCBICodonTable object at 0x3493950>, 5: <Bio.Data.CodonTable.NCBICodonTable object at 0x3493bd0>, 6: <Bio.Data.CodonTable.NCBICodonTable object at 0x3493e10>, 9: <Bio.Data.CodonTable.NCBICodonTable object at 0x3504150>, 10: <Bio.Data.CodonTable.NCBICodonTable object at 0x35043d0>, 11: <Bio.Data.CodonTable.NCBICodonTable object at 0x3504650>, 12: <Bio.Data.CodonTable.NCBICodonTable object at 0x35048d0>, 13: <Bio.Data.CodonTable.NCBICodonTable object at 0x3504b50>, 14: <Bio.Data.CodonTable.NCBICodonTable object at 0x3504dd0>, 15: <Bio.Data.CodonTable.NCBICodonTable object at 0x3512090>, 16: <Bio.Data.CodonTable.NCBICodonTable object at 0x3512310>, 21: <Bio.Data.CodonTable.NCBICodonTable object at 0x3512590>, 22: <Bio.Data.CodonTable.NCBICodonTable object at 0x3512810>, 23: <Bio.Data.CodonTable.NCBICodonTable object at 0x3512a90>, 24: <Bio.Data.CodonTable.NCBICodonTable object at 0x3512d10>}\n"
     ]
    }
   ],
   "source": [
    "import Bio.Data.CodonTable as CT\n",
    "\n",
    "print \"By name:\", CT.generic_by_name\n",
    "print \"By ID:\", CT.generic_by_id"
   ]
  },
  {
   "cell_type": "markdown",
   "metadata": {},
   "source": [
    "That is not too readable. Let's try this:"
   ]
  },
  {
   "cell_type": "code",
   "execution_count": 14,
   "metadata": {
    "collapsed": false
   },
   "outputs": [
    {
     "name": "stdout",
     "output_type": "stream",
     "text": [
      "All names: ['Ascidian Mitochondrial', 'SGC9', 'Coelenterate Mitochondrial', 'Protozoan Mitochondrial', 'Vertebrate Mitochondrial', 'Plant Plastid', 'Thraustochytrium Mitochondrial', 'Blepharisma Macronuclear', 'Mold Mitochondrial', 'Invertebrate Mitochondrial', 'Standard', 'Trematode Mitochondrial', 'Scenedesmus obliquus Mitochondrial', 'Euplotid Nuclear', 'Yeast Mitochondrial', 'Spiroplasma', 'Alternative Flatworm Mitochondrial', 'Ciliate Nuclear', 'SGC8', 'Alternative Yeast Nuclear', 'Hexamita Nuclear', 'SGC5', 'SGC4', 'SGC3', 'SGC2', 'SGC1', 'SGC0', 'Flatworm Mitochondrial', 'Dasycladacean Nuclear', 'Chlorophycean Mitochondrial', 'Mycoplasma', 'Pterobranchia Mitochondrial', 'Bacterial', 'Echinoderm Mitochondrial']\n",
      "Help on NCBICodonTable in module Bio.Data.CodonTable object:\n",
      "\n",
      "class NCBICodonTable(CodonTable)\n",
      " |  Method resolution order:\n",
      " |      NCBICodonTable\n",
      " |      CodonTable\n",
      " |      __builtin__.object\n",
      " |  \n",
      " |  Methods defined here:\n",
      " |  \n",
      " |  __init__(self, id, names, table, start_codons, stop_codons)\n",
      " |  \n",
      " |  ----------------------------------------------------------------------\n",
      " |  Data and other attributes defined here:\n",
      " |  \n",
      " |  nucleotide_alphabet = NucleotideAlphabet()\n",
      " |  \n",
      " |  protein_alphabet = IUPACProtein()\n",
      " |  \n",
      " |  ----------------------------------------------------------------------\n",
      " |  Methods inherited from CodonTable:\n",
      " |  \n",
      " |  __str__(self)\n",
      " |      Returns a simple text representation of the codon table.\n",
      " |      \n",
      " |      e.g.\n",
      " |      \n",
      " |      >>> import Bio.Data.CodonTable\n",
      " |      >>> print(Bio.Data.CodonTable.standard_dna_table)\n",
      " |      >>> print(Bio.Data.CodonTable.generic_by_id[1])\n",
      " |  \n",
      " |  ----------------------------------------------------------------------\n",
      " |  Data descriptors inherited from CodonTable:\n",
      " |  \n",
      " |  __dict__\n",
      " |      dictionary for instance variables (if defined)\n",
      " |  \n",
      " |  __weakref__\n",
      " |      list of weak references to the object (if defined)\n",
      " |  \n",
      " |  ----------------------------------------------------------------------\n",
      " |  Data and other attributes inherited from CodonTable:\n",
      " |  \n",
      " |  back_table = {}\n",
      " |  \n",
      " |  forward_table = {}\n",
      " |  \n",
      " |  start_codons = []\n",
      " |  \n",
      " |  stop_codons = []\n",
      "\n",
      "Start codons of the SGC9 table: ['ATG', 'AUG']\n"
     ]
    }
   ],
   "source": [
    "print \"All names:\", CT.generic_by_name.keys()\n",
    "#Sometimes the help() method tells you something about the object you're dealing with\n",
    "help(CT.generic_by_name[\"SGC9\"])\n",
    "print \"Start codons of the SGC9 table:\",CT.generic_by_name[\"SGC9\"].start_codons"
   ]
  },
  {
   "cell_type": "markdown",
   "metadata": {},
   "source": [
    "Now that you know you can list all available tables using `Bio.Data.CodonTable.generic_by_name.keys()` you can also loop over these tables and solve the next exercise in Ville. Here's yet a little for loop to get you started."
   ]
  },
  {
   "cell_type": "code",
   "execution_count": 15,
   "metadata": {
    "collapsed": false
   },
   "outputs": [
    {
     "name": "stdout",
     "output_type": "stream",
     "text": [
      "Ascidian Mitochondrial\n",
      "SGC9\n",
      "Coelenterate Mitochondrial\n",
      "Protozoan Mitochondrial\n",
      "Vertebrate Mitochondrial\n",
      "Plant Plastid\n",
      "Thraustochytrium Mitochondrial\n",
      "Blepharisma Macronuclear\n",
      "Mold Mitochondrial\n",
      "Invertebrate Mitochondrial\n",
      "Standard\n",
      "Trematode Mitochondrial\n",
      "Scenedesmus obliquus Mitochondrial\n",
      "Euplotid Nuclear\n",
      "Yeast Mitochondrial\n",
      "Spiroplasma\n",
      "Alternative Flatworm Mitochondrial\n",
      "Ciliate Nuclear\n",
      "SGC8\n",
      "Alternative Yeast Nuclear\n",
      "Hexamita Nuclear\n",
      "SGC5\n",
      "SGC4\n",
      "SGC3\n",
      "SGC2\n",
      "SGC1\n",
      "SGC0\n",
      "Flatworm Mitochondrial\n",
      "Dasycladacean Nuclear\n",
      "Chlorophycean Mitochondrial\n",
      "Mycoplasma\n",
      "Pterobranchia Mitochondrial\n",
      "Bacterial\n",
      "Echinoderm Mitochondrial\n"
     ]
    }
   ],
   "source": [
    "import Bio.Data.CodonTable\n",
    "\n",
    "for table_name in Bio.Data.CodonTable.generic_by_name.keys():\n",
    "    print table_name"
   ]
  },
  {
   "cell_type": "markdown",
   "metadata": {},
   "source": [
    "## Complements"
   ]
  },
  {
   "cell_type": "code",
   "execution_count": 16,
   "metadata": {
    "collapsed": false,
    "scrolled": false
   },
   "outputs": [
    {
     "name": "stdout",
     "output_type": "stream",
     "text": [
      "UACCGGUAACAUUACCCGGCGACUUUCCCACGGGCUAUC\n"
     ]
    },
    {
     "ename": "ValueError",
     "evalue": "Proteins do not have complements!",
     "output_type": "error",
     "traceback": [
      "\u001b[1;31m---------------------------------------------------------------------------\u001b[0m",
      "\u001b[1;31mValueError\u001b[0m                                Traceback (most recent call last)",
      "\u001b[1;32m<ipython-input-16-9557b8233c7a>\u001b[0m in \u001b[0;36m<module>\u001b[1;34m()\u001b[0m\n\u001b[0;32m      1\u001b[0m \u001b[0mmrna\u001b[0m\u001b[1;33m=\u001b[0m\u001b[0mSeq\u001b[0m\u001b[1;33m(\u001b[0m\u001b[1;34m\"AUGGCCAUUGUAAUGGGCCGCUGAAAGGGUGCCCGAUAG\"\u001b[0m\u001b[1;33m,\u001b[0m \u001b[0mIUPAC\u001b[0m\u001b[1;33m.\u001b[0m\u001b[0munambiguous_rna\u001b[0m\u001b[1;33m)\u001b[0m\u001b[1;33m\u001b[0m\u001b[0m\n\u001b[0;32m      2\u001b[0m \u001b[1;32mprint\u001b[0m \u001b[0mmrna\u001b[0m\u001b[1;33m.\u001b[0m\u001b[0mcomplement\u001b[0m\u001b[1;33m(\u001b[0m\u001b[1;33m)\u001b[0m\u001b[1;33m\u001b[0m\u001b[0m\n\u001b[1;32m----> 3\u001b[1;33m \u001b[1;32mprint\u001b[0m \u001b[0mtranslated\u001b[0m\u001b[1;33m.\u001b[0m\u001b[0mcomplement\u001b[0m\u001b[1;33m(\u001b[0m\u001b[1;33m)\u001b[0m\u001b[1;33m\u001b[0m\u001b[0m\n\u001b[0m",
      "\u001b[1;32m/usr/local/lib/python2.7/dist-packages/Bio/Seq.pyc\u001b[0m in \u001b[0;36mcomplement\u001b[1;34m(self)\u001b[0m\n\u001b[0;32m    760\u001b[0m         \u001b[0mbase\u001b[0m \u001b[1;33m=\u001b[0m \u001b[0mAlphabet\u001b[0m\u001b[1;33m.\u001b[0m\u001b[0m_get_base_alphabet\u001b[0m\u001b[1;33m(\u001b[0m\u001b[0mself\u001b[0m\u001b[1;33m.\u001b[0m\u001b[0malphabet\u001b[0m\u001b[1;33m)\u001b[0m\u001b[1;33m\u001b[0m\u001b[0m\n\u001b[0;32m    761\u001b[0m         \u001b[1;32mif\u001b[0m \u001b[0misinstance\u001b[0m\u001b[1;33m(\u001b[0m\u001b[0mbase\u001b[0m\u001b[1;33m,\u001b[0m \u001b[0mAlphabet\u001b[0m\u001b[1;33m.\u001b[0m\u001b[0mProteinAlphabet\u001b[0m\u001b[1;33m)\u001b[0m\u001b[1;33m:\u001b[0m\u001b[1;33m\u001b[0m\u001b[0m\n\u001b[1;32m--> 762\u001b[1;33m             \u001b[1;32mraise\u001b[0m \u001b[0mValueError\u001b[0m\u001b[1;33m(\u001b[0m\u001b[1;34m\"Proteins do not have complements!\"\u001b[0m\u001b[1;33m)\u001b[0m\u001b[1;33m\u001b[0m\u001b[0m\n\u001b[0m\u001b[0;32m    763\u001b[0m         \u001b[1;32mif\u001b[0m \u001b[0misinstance\u001b[0m\u001b[1;33m(\u001b[0m\u001b[0mbase\u001b[0m\u001b[1;33m,\u001b[0m \u001b[0mAlphabet\u001b[0m\u001b[1;33m.\u001b[0m\u001b[0mDNAAlphabet\u001b[0m\u001b[1;33m)\u001b[0m\u001b[1;33m:\u001b[0m\u001b[1;33m\u001b[0m\u001b[0m\n\u001b[0;32m    764\u001b[0m             \u001b[0mttable\u001b[0m \u001b[1;33m=\u001b[0m \u001b[0m_dna_complement_table\u001b[0m\u001b[1;33m\u001b[0m\u001b[0m\n",
      "\u001b[1;31mValueError\u001b[0m: Proteins do not have complements!"
     ]
    }
   ],
   "source": [
    "mrna=Seq(\"AUGGCCAUUGUAAUGGGCCGCUGAAAGGGUGCCCGAUAG\", IUPAC.unambiguous_rna)\n",
    "print mrna.complement()\n",
    "print translated.complement()"
   ]
  }
 ],
 "metadata": {
  "kernelspec": {
   "display_name": "Python 2",
   "language": "python",
   "name": "python2"
  }
 },
 "nbformat": 4,
 "nbformat_minor": 0
}
