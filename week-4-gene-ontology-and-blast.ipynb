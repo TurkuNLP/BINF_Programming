{
 "cells": [
  {
   "cell_type": "markdown",
   "metadata": {},
   "source": [
    "# Gene Ontology and BLAST search\n",
    "\n",
    "## Instructions\n",
    "\n",
    "Gene Ontology is not discussed by the Biopython tutorial because Biopython does not support Gene Ontology. You should read the [Gene Ontology](http://www.geneontology.org/page/introduction-go-resource) documentation to the extent you need to understand the purpose and overall content of Gene Ontology. The [OBO Flat File Format Guide](https://owlcollab.github.io/oboformat/doc/GO.format.obo-1_4.html) is another useful resource for this course.\n",
    "\n",
    "For BLAST, read the sections 7.1, 7.3, and 7.4 of the Biopython tutorial. If you are interested, you can also take a look at the chapter 8.\n",
    "\n",
    "## Objectives\n",
    "\n",
    "- parse and use Gene Ontology terms\n",
    "- perform BLAST searches and process their results\n",
    "\n",
    "## Summary\n",
    "\n",
    "[Gene Ontology](http://www.geneontology.org/) is an extensive ontology that contains terms for cellular components, molecular functions, and biological processes. The meanings of the terms are described and their relationships to other terms are defined. Among others, UniProt uses Gene Ontology to annotate protein sequences.\n",
    "\n",
    "BLAST is a method to search for similar sequences from a database. NCBI provides an online BLAST service that can be used to query several databases. A programmatic interface to the NCBI BLAST is implemented in the [`Bio.Blast`](https://biopython.org/DIST/docs/api/Bio.Blast-module.html) module of Biopython. There is also the [`Bio.SearchIO`](https://biopython.org/DIST/docs/api/Bio.SearchIO-module.html) module, which defines a generic interface to sequence search program outputs, but it is still experimental."
   ]
  },
  {
   "cell_type": "markdown",
   "metadata": {},
   "source": [
    "#### GeneOntology is a *de facto* resource for characterising proteins\n",
    "\n",
    "Gene Ontology is available for download at [http://purl.obolibrary.org/obo/go.obo](http://purl.obolibrary.org/obo/go.obo) in the OBO format. The OBO format is a simple, human-readable format. Gene Ontology is not supported by Biopython, but the syntax of the OBO format is easy to parse.\n",
    "\n",
    "The OBO format is intended for representing ontologies. It is hence very expressive and not all of its features are used by all ontologies. The [OBO Flat File Format Guide](https://owlcollab.github.io/oboformat/doc/GO.format.obo-1_4.html) is a good source to start learning the details of the format. To deeply understand the OBO representation of an ontology, you should also know the basic principles of ontology construction. It is not within the scope of this course, however."
   ]
  },
  {
   "cell_type": "markdown",
   "metadata": {},
   "source": [
    "The terms are defined in `[Term]` stanzas. Each stanza contains at least one `tag: value ! comment` line.\n",
    "\n",
    "The example below contains the terms `membrane` and `ATPase activator activity`. Note how the terms have basic information (such as `id`, `name`, `namespace`, and `def`) but also additional information (such as `is_a` and `relationship`).\n",
    "\n",
    "```\n",
    "[Term]\n",
    "id: GO:0016020\n",
    "name: membrane\n",
    "namespace: cellular_component\n",
    "def: \"A lipid bilayer along with all the proteins and protein complexes embedded in it an attached to it.\" [GOC:dos, GOC:mah, ISBN:0815316194]\n",
    "subset: goslim_aspergillus\n",
    "subset: goslim_candida\n",
    "subset: goslim_chembl\n",
    "subset: goslim_flybase_ribbon\n",
    "subset: goslim_metagenomics\n",
    "subset: goslim_pir\n",
    "subset: goslim_plant\n",
    "subset: goslim_yeast\n",
    "xref: Wikipedia:Biological_membrane\n",
    "is_a: GO:0005575 ! cellular_component\n",
    "\n",
    "[Term]\n",
    "id: GO:0001671\n",
    "name: ATPase activator activity\n",
    "namespace: molecular_function\n",
    "def: \"Binds to and increases the ATP hydrolysis activity of an ATPase.\" [GOC:ajp]\n",
    "synonym: \"ATPase stimulator activity\" EXACT []\n",
    "xref: reactome:R-HSA-5251955 \"HSP40s activate intrinsic ATPase activity of HSP70s in the nucleoplasm\"\n",
    "xref: reactome:R-HSA-5251959 \"HSP40s activate intrinsic ATPase activity of HSP70s in the cytosol\"\n",
    "is_a: GO:0008047 ! enzyme activator activity\n",
    "is_a: GO:0060590 ! ATPase regulator activity\n",
    "relationship: part_of GO:0032781 ! positive regulation of ATPase activity\n",
    "relationship: positively_regulates GO:0016887 ! ATPase activity\n",
    "```"
   ]
  },
  {
   "cell_type": "markdown",
   "metadata": {},
   "source": [
    "The relationship types are defined as `[Typedef]` stanzas. The syntax is the same as in `[Term]` stanzas, but the set of tags is different.\n",
    "\n",
    "```\n",
    "[Typedef]\n",
    "id: positively_regulates\n",
    "name: positively regulates\n",
    "namespace: external\n",
    "xref: RO:0002213\n",
    "holds_over_chain: negatively_regulates negatively_regulates\n",
    "is_a: regulates ! regulates\n",
    "transitive_over: part_of ! part of\n",
    "```"
   ]
  },
  {
   "cell_type": "markdown",
   "metadata": {},
   "source": [
    "When you are implementing your own parser, you are free to only consider the tags that are relevant to your analysis and to collect the values into the data structure that best suits your needs. For simple analyses, it is enough to have a parser that reads the OBO file one line at the time and constructs named tuples from the parsed tag-value pairs."
   ]
  },
  {
   "cell_type": "markdown",
   "metadata": {},
   "source": [
    "#### NCBI online BLAST service is supported by Biopython\n",
    "\n",
    "The [`Bio.Blast.NCBIWWW`](https://biopython.org/DIST/docs/api/Bio.Blast.NCBIWWW-module.html) module has the function `qblast`, with which the NCBI BLAST service can be used programmatically. The workflow of using NCBI BLAST is similar to that of using EUtils.\n",
    "\n",
    "The `qblast` function requires the BLAST variant, the database, and the query sequence as arguments. The sequence can be given as a plain sequence, as an ID or in FASTA format. The available databases are listed, among others, in the README of the [NCBI BLAST FTP site](ftp://ftp.ncbi.nlm.nih.gov/blast/blastftp.txt).\n",
    "\n",
    "There are also many optional arguments for fine-tuning the search. Make sure to check the default values as they may not be what you expect.\n",
    "\n",
    "IMPORTANT: As with any other online service, do not overload the NCBI BLAST server with too many or too large queries. BLAST searches are slow and the NCBI BLAST (even with NCBI's massive server capacity) is no exception. Please wait patiently until you get the results and save your results to a file in order to save computational resources. (Biopython will handle the waiting for you.)"
   ]
  },
  {
   "cell_type": "code",
   "execution_count": null,
   "metadata": {},
   "outputs": [],
   "source": [
    "import Bio.Blast.NCBIWWW as BBNW"
   ]
  },
  {
   "cell_type": "code",
   "execution_count": null,
   "metadata": {},
   "outputs": [],
   "source": [
    "import Bio.Seq as BS\n",
    "import Bio.Alphabet as BA\n",
    "\n",
    "# BLAST program to use\n",
    "prog = \"blastp\"\n",
    "# database to search against\n",
    "database = \"swissprot\"\n",
    "# query sequence as a Seq object\n",
    "query = BS.Seq(\"IRVEGNLRVEYLDDRNTFRHSVVVPYEPPE\", alphabet=BA.IUPAC.protein)\n",
    "\n",
    "# run NCBI BLAST\n",
    "handle = BBNW.qblast(prog, database, query)\n",
    "\n",
    "# save to file\n",
    "# (particularly useful with BLAST, which is slow to run)\n",
    "with open('blast-results.xml', 'w') as f:\n",
    "    f.write(handle.read())"
   ]
  },
  {
   "cell_type": "markdown",
   "metadata": {},
   "source": [
    "The XML output can be parsed with the [`Bio.Blast.NCBIXML`](https://biopython.org/DIST/docs/api/Bio.Blast.NCBIXML-module.html) module. The `read` function parses a single BLAST record, which is obtained from a single query sequence."
   ]
  },
  {
   "cell_type": "code",
   "execution_count": null,
   "metadata": {},
   "outputs": [],
   "source": [
    "import Bio.Blast.NCBIXML as BBNX"
   ]
  },
  {
   "cell_type": "code",
   "execution_count": null,
   "metadata": {},
   "outputs": [],
   "source": [
    "# parse the result into a BLAST record\n",
    "with open('blast-results.xml') as f:\n",
    "    record = BBNX.read(f)\n",
    "\n",
    "# a single BLAST record\n",
    "# (note that there is no human-readable representation defined for BLAST record objects)\n",
    "print(record)"
   ]
  },
  {
   "cell_type": "markdown",
   "metadata": {},
   "source": [
    "The NCBI BLAST will accept several query sequences simultaneously. In fact, it is preferred to send all query sequences at once, if possible. The `parse` function of the `Bio.Blast.NCBIXML` module will parse and iterate over several BLAST records."
   ]
  },
  {
   "cell_type": "code",
   "execution_count": null,
   "metadata": {},
   "outputs": [],
   "source": [
    "# BLAST program to use\n",
    "prog = \"blastp\"\n",
    "# database to search against\n",
    "database = \"swissprot\"\n",
    "# query sequences as a list of IDs\n",
    "query = ['P01013', 'P12345']\n",
    "# NCBI BLAST expects IDs as a string with one ID per line\n",
    "query = \"\\n\".join(query)\n",
    "\n",
    "# run NCBI BLAST\n",
    "handle = BBNW.qblast(prog, database, query)\n",
    "\n",
    "# save to file\n",
    "# (particularly useful with BLAST, which is slow to run)\n",
    "with open('blast-results-many.xml', 'w') as f:\n",
    "    f.write(handle.read())"
   ]
  },
  {
   "cell_type": "code",
   "execution_count": null,
   "metadata": {},
   "outputs": [],
   "source": [
    "# parse the result into BLAST records\n",
    "with open('blast-results-many.xml') as f:\n",
    "    # one BLAST record per query sequence\n",
    "    for record in BBNX.parse(f):\n",
    "        print(record)"
   ]
  },
  {
   "cell_type": "markdown",
   "metadata": {},
   "source": [
    "As with the UniProt API, the `qblast` function reflects the behaviour of the corresponding website. It is therefore a good idea to take advantage of the graphical interface when designing the analysis and debugging the code. The NCBI BLAST and its descriptions are available at [https://blast.ncbi.nlm.nih.gov/Blast.cgi](https://blast.ncbi.nlm.nih.gov/Blast.cgi)."
   ]
  },
  {
   "cell_type": "markdown",
   "metadata": {},
   "source": [
    "#### Blast records contain the details and results of the search\n",
    "\n",
    "The process with which BLAST finds matching sequences is as follows:\n",
    "\n",
    "- Create words (i.e. short segments) from the query sequence.\n",
    "- Select the similar words that have the highest scores against the words in the query sequence.\n",
    "- Scan the database for the exact matches of the selected words.\n",
    "- Extend the matches until the score between the query sequence and database sequence starts to decrease. These extensions are called high-scoring segment pairs (HSPs).\n",
    "- Filter and evaluate the high-scoring HSPs.\n",
    "\n",
    "A single hit is therefore an alignment that is composed of at least one HSP."
   ]
  },
  {
   "cell_type": "markdown",
   "metadata": {},
   "source": [
    "The classes related to BLAST records are in the [`Bio.Blast.Record`](https://biopython.org/DIST/docs/api/Bio.Blast.Record-module.html) module. The Biopython tutorial has a useful diagram that summarises the relationships between the different classes as well as their attributes.\n",
    "\n",
    "A `Bio.Blast.Record.Blast` object contains the full set of results from a single query. Its `descriptions` attribute is a list of `Bio.Blast.Record.Description` objects, each of which summarises one hit, and its `alignments` attribute is a list of `Bio.Blast.Record.Alignment` objects, which have the details of the alignments.\n",
    "\n",
    "The `hsps` attribute of a `Bio.Blast.Record.Alignment` object contains the details of the HSPs as a list of `Bio.Blast.Record.HSP` objects.\n",
    "\n",
    "A BLAST record also contains information regarding the search itself. If you are interested, see the attributes defined in the superclasses `Bio.Blast.Record.Header`, `Bio.Blast.Record.DatabaseReport`, and `Bio.Blast.Record.Parameters`.\n",
    "\n",
    "The examples below print the details of hits in a human-readable format. You could also do the same for the full `Bio.Blast.Record.Blast` object."
   ]
  },
  {
   "cell_type": "code",
   "execution_count": null,
   "metadata": {},
   "outputs": [],
   "source": [
    "# parse the result into a BLAST record\n",
    "with open('blast-results.xml') as f:\n",
    "    record = BBNX.read(f)\n",
    "\n",
    "# iterate over hit descriptions (along with their indices)\n",
    "for i, description in enumerate(record.descriptions):\n",
    "    # iterate over all attributes of the description\n",
    "    # (sorted by key)\n",
    "    for k, v in sorted(description.__dict__.items()):\n",
    "        print(\"%s: %s\"%(k, v))\n",
    "    print()\n",
    "    # stop prematurely after 5 hits\n",
    "    if i == 4:\n",
    "        break"
   ]
  },
  {
   "cell_type": "code",
   "execution_count": null,
   "metadata": {},
   "outputs": [],
   "source": [
    "# parse the result into a BLAST record\n",
    "with open('blast-results.xml') as f:\n",
    "    record = BBNX.read(f)\n",
    "\n",
    "# iterate over hit alignments (along with their indices)\n",
    "for i, alignment in enumerate(record.alignments):\n",
    "    # iterate over all attributes of the alignment\n",
    "    # (sorted by key)\n",
    "    for k, v in sorted(alignment.__dict__.items()):\n",
    "        # skip over the list of HSPs because it will be handled later\n",
    "        if k == 'hsps':\n",
    "            continue\n",
    "        print(\"%s: %s\"%(k, v))\n",
    "    # iterate over HSPs (along with their indices)\n",
    "    for j, hsp in enumerate(alignment.hsps):\n",
    "        print(\"-- HSP --\")\n",
    "        # iterate over all attributes of the HSP\n",
    "        # (sorted by key)\n",
    "        for k, v in sorted(hsp.__dict__.items()):\n",
    "            print(\"  %s: %s\"%(k, v))\n",
    "        # stop prematurely after 3 HSPs\n",
    "        if j == 2:\n",
    "            break\n",
    "    print()\n",
    "    # stop prematurely after 3 hits\n",
    "    if i == 2:\n",
    "        break"
   ]
  }
 ],
 "metadata": {
  "kernelspec": {
   "display_name": "Python 3",
   "language": "python",
   "name": "python3"
  },
  "language_info": {
   "codemirror_mode": {
    "name": "ipython",
    "version": 3
   },
   "file_extension": ".py",
   "mimetype": "text/x-python",
   "name": "python",
   "nbconvert_exporter": "python",
   "pygments_lexer": "ipython3",
   "version": "3.6.7"
  }
 },
 "nbformat": 4,
 "nbformat_minor": 2
}
