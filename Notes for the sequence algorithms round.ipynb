{
 "cells": [
  {
   "cell_type": "markdown",
   "metadata": {},
   "source": [
    "Letter to digit"
   ]
  },
  {
   "cell_type": "code",
   "execution_count": 7,
   "metadata": {
    "collapsed": false
   },
   "outputs": [
    {
     "name": "stdout",
     "output_type": "stream",
     "text": [
      "1\n",
      "{'A': 0, 'C': 1, 'T': 3, 'G': 2}\n",
      "{'A': 0, 'C': 1, 'T': 3, 'G': 2}\n",
      "{'A': 0, 'C': 1, 'T': 3, 'G': 2}\n"
     ]
    }
   ],
   "source": [
    "print \"ACGT\".index(\"C\")\n",
    "d={\"A\":0,\"C\":1,\"G\":2,\"T\":3}\n",
    "print d\n",
    "\n",
    "d2={}\n",
    "for i,l in enumerate(\"ACGT\"):\n",
    "    d2[l]=i\n",
    "print d2\n",
    "\n",
    "#dict([(\"A\",0),(\"C\",1)...])\n",
    "d3=dict( ((l,i) for i,l in enumerate(\"ACGT\")) )\n",
    "print d3"
   ]
  },
  {
   "cell_type": "markdown",
   "metadata": {},
   "source": [
    "Power operator"
   ]
  },
  {
   "cell_type": "code",
   "execution_count": 8,
   "metadata": {
    "collapsed": false
   },
   "outputs": [
    {
     "name": "stdout",
     "output_type": "stream",
     "text": [
      "64\n"
     ]
    }
   ],
   "source": [
    "print 4**3"
   ]
  },
  {
   "cell_type": "code",
   "execution_count": 9,
   "metadata": {
    "collapsed": false
   },
   "outputs": [
    {
     "name": "stdout",
     "output_type": "stream",
     "text": [
      "Digit C power 0\n",
      "Digit A power 1\n",
      "Digit G power 2\n",
      "Digit A power 3\n",
      "Digit C power 4\n",
      "Digit T power 5\n",
      "Digit G power 6\n",
      "Digit C power 7\n",
      "Digit A power 8\n"
     ]
    }
   ],
   "source": [
    "for p,d in enumerate(\"ACGTCAGAC\"[::-1]):\n",
    "    print \"Digit\",d,\"power\",p\n",
    "    "
   ]
  },
  {
   "cell_type": "code",
   "execution_count": 14,
   "metadata": {
    "collapsed": false
   },
   "outputs": [
    {
     "name": "stdout",
     "output_type": "stream",
     "text": [
      "[0, 0, 0, 0, 0, 0, 0, 0, 0, 0, 0, 0, 0, 0, 0, 0, 0, 0, 0, 0, 0, 0]\n",
      "[{}, {}, {}, {}, {}, {}, {}, {}, {}, {}, {}, {}, {}, {}, {}, {}, {}, {}, {}, {}, {}, {}]\n",
      "[{'k': 'v'}, {'k': 'v'}, {'k': 'v'}, {'k': 'v'}, {'k': 'v'}, {'k': 'v'}, {'k': 'v'}, {'k': 'v'}, {'k': 'v'}, {'k': 'v'}, {'k': 'v'}, {'k': 'v'}, {'k': 'v'}, {'k': 'v'}, {'k': 'v'}, {'k': 'v'}, {'k': 'v'}, {'k': 'v'}, {'k': 'v'}, {'k': 'v'}, {'k': 'v'}, {'k': 'v'}]\n",
      "[{}, {}, {}, {}, {}, {}, {}, {}, {}, {}, {}, {}, {}, {}, {}, {}, {}, {}, {}, {}, {}, {}]\n",
      "[{'k': 'v'}, {}, {}, {}, {}, {}, {}, {}, {}, {}, {}, {}, {}, {}, {}, {}, {}, {}, {}, {}, {}, {}]\n"
     ]
    }
   ],
   "source": [
    "print [0]*22\n",
    "\n",
    "d1={}\n",
    "d2=d1\n",
    "\n",
    "#Careful! This does not create 22 dictionaries, it creates a list\n",
    "#with 22 pointers to the exact same dictionary\n",
    "lst=[{}]*22\n",
    "print lst\n",
    "\n",
    "lst[0][\"k\"]=\"v\" #All of them will change!\n",
    "print lst\n",
    "\n",
    "#This is a way to create 22 dictionaries\n",
    "lst=[{} for _ in range(22)]\n",
    "print lst\n",
    "lst[0][\"k\"]=\"v\"\n",
    "print lst"
   ]
  },
  {
   "cell_type": "code",
   "execution_count": 15,
   "metadata": {
    "collapsed": false
   },
   "outputs": [
    {
     "name": "stdout",
     "output_type": "stream",
     "text": [
      "[[0, 0, 0, 0, 0, 0, 0, 0, 0, 0], [0, 0, 0, 0, 0, 0, 0, 0, 0, 0], [0, 0, 0, 0, 0, 0, 0, 0, 0, 0], [0, 0, 0, 0, 0, 0, 0, 0, 0, 0], [0, 0, 0, 0, 0, 0, 0, 0, 0, 0], [0, 0, 0, 0, 0, 0, 0, 0, 0, 0], [0, 0, 0, 0, 0, 0, 0, 0, 0, 0], [0, 0, 0, 0, 0, 0, 0, 0, 0, 0], [0, 0, 0, 0, 0, 0, 0, 0, 0, 0], [0, 0, 0, 0, 0, 0, 0, 0, 0, 0]]\n"
     ]
    }
   ],
   "source": [
    "print [[0]*10 for _ in range(10)]"
   ]
  },
  {
   "cell_type": "code",
   "execution_count": null,
   "metadata": {
    "collapsed": true
   },
   "outputs": [],
   "source": [
    "#Just a reminder, nothing else\n",
    "spectrum=[0]*64\n",
    "spectrum[5]=54656\n",
    "spectrum[5]+=1"
   ]
  },
  {
   "cell_type": "code",
   "execution_count": 17,
   "metadata": {
    "collapsed": false
   },
   "outputs": [
    {
     "name": "stdout",
     "output_type": "stream",
     "text": [
      "{'a': 3, 'd': 2, 'g': 1, 'f': 4, 'h': 4, 'k': 3, 'j': 4, 'l': 3, 'o': 1, 's': 4}\n"
     ]
    }
   ],
   "source": [
    "counter={}\n",
    "for l in \"hfjdskohgfjlkdsahfjlsahfjlksa\":\n",
    "    counter[l]=counter.get(l,0)+1\n",
    "print counter"
   ]
  }
 ],
 "metadata": {
  "kernelspec": {
   "display_name": "Python 2",
   "language": "python",
   "name": "python2"
  },
  "language_info": {
   "codemirror_mode": {
    "name": "ipython",
    "version": 2
   },
   "file_extension": ".py",
   "mimetype": "text/x-python",
   "name": "python",
   "nbconvert_exporter": "python",
   "pygments_lexer": "ipython2",
   "version": "2.7.5+"
  }
 },
 "nbformat": 4,
 "nbformat_minor": 0
}
