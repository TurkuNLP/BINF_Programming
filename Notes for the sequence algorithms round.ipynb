{
 "cells": [
  {
   "cell_type": "markdown",
   "metadata": {},
   "source": [
    "Letter to digit"
   ]
  },
  {
   "cell_type": "code",
   "execution_count": null,
   "metadata": {},
   "outputs": [],
   "source": [
    "print(\"ACGT\".index(\"C\"))\n",
    "d={\"A\":0,\"C\":1,\"G\":2,\"T\":3}\n",
    "print(d)"
   ]
  },
  {
   "cell_type": "code",
   "execution_count": null,
   "metadata": {},
   "outputs": [],
   "source": [
    "d2={}\n",
    "for i,l in enumerate(\"ACGT\"):\n",
    "    print(i, l)\n",
    "    d2[l]=i\n",
    "print(d2)"
   ]
  },
  {
   "cell_type": "code",
   "execution_count": null,
   "metadata": {},
   "outputs": [],
   "source": [
    "#dict([(\"A\",0),(\"C\",1)...])\n",
    "d3=dict( ((l,i) for i,l in enumerate(\"ACGT\")) )\n",
    "print(d3)"
   ]
  },
  {
   "cell_type": "markdown",
   "metadata": {},
   "source": [
    "Power operator"
   ]
  },
  {
   "cell_type": "code",
   "execution_count": null,
   "metadata": {},
   "outputs": [],
   "source": [
    "print(4**3)"
   ]
  },
  {
   "cell_type": "code",
   "execution_count": null,
   "metadata": {},
   "outputs": [],
   "source": [
    "for p,d in enumerate(\"ACGTCAGAC\"[::-1]):\n",
    "    print(\"Digit\",d,\"power\",p)"
   ]
  },
  {
   "cell_type": "code",
   "execution_count": null,
   "metadata": {},
   "outputs": [],
   "source": [
    "print([0]*22)\n",
    "\n",
    "d1={}\n",
    "d2=d1\n",
    "\n",
    "#Careful! This does not create 22 dictionaries, it creates a list\n",
    "#with 22 pointers to the exact same dictionary\n",
    "lst=[{}]*22\n",
    "print(lst)\n",
    "\n",
    "lst[0][\"k\"]=\"v\" #All of them will change!\n",
    "print(lst)\n",
    "\n",
    "#This is a way to create 22 dictionaries\n",
    "lst=[{} for _ in range(22)]\n",
    "print(lst)\n",
    "lst[0][\"k\"]=\"v\"\n",
    "print(lst)"
   ]
  },
  {
   "cell_type": "code",
   "execution_count": null,
   "metadata": {},
   "outputs": [],
   "source": [
    "print([[0]*10 for _ in range(10)])"
   ]
  },
  {
   "cell_type": "code",
   "execution_count": null,
   "metadata": {},
   "outputs": [],
   "source": [
    "#Just a reminder, nothing else\n",
    "spectrum=[0]*64\n",
    "spectrum[5]=54656\n",
    "spectrum[5]+=1"
   ]
  },
  {
   "cell_type": "code",
   "execution_count": null,
   "metadata": {},
   "outputs": [],
   "source": [
    "counter={}\n",
    "for l in \"hfjdskohgfjlkdsahfjlsahfjlksa\":\n",
    "    counter[l]=counter.get(l,0)+1\n",
    "print(counter)"
   ]
  }
 ],
 "metadata": {
  "kernelspec": {
   "display_name": "Python 3",
   "language": "python",
   "name": "python3"
  },
  "language_info": {
   "codemirror_mode": {
    "name": "ipython",
    "version": 3
   },
   "file_extension": ".py",
   "mimetype": "text/x-python",
   "name": "python",
   "nbconvert_exporter": "python",
   "pygments_lexer": "ipython3",
   "version": "3.6.7"
  }
 },
 "nbformat": 4,
 "nbformat_minor": 1
}
