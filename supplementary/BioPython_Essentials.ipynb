{
 "cells": [
  {
   "cell_type": "markdown",
   "metadata": {},
   "source": [
    "# BioPython\n",
    "\n",
    "A set of modules for bioinformatics in Python.\n",
    "\n",
    "## Installation on your own computers\n",
    "\n",
    "* We work with the 3.5, 3.6, 3.7 version of Python. Make sure you have that, and not Python 2.\n",
    "* Follow the instructions on the BioPython project page (google)\n",
    "* On a Ubuntu-flavor linux all you need is `pip3 install biopython`\n",
    "* Biopython is also installed in Ville\n",
    "\n",
    "Let's check all works - the latest version of BioPython is `1.73` maybe you see a different one on your machine:"
   ]
  },
  {
   "cell_type": "code",
   "execution_count": 1,
   "metadata": {},
   "outputs": [
    {
     "name": "stdout",
     "output_type": "stream",
     "text": [
      "1.73\n"
     ]
    }
   ],
   "source": [
    "import Bio\n",
    "print(Bio.__version__) #This is two underscores not one"
   ]
  },
  {
   "cell_type": "markdown",
   "metadata": {},
   "source": [
    "# Docs\n",
    "\n",
    "We will roughly follow this BioPython tutorial: http://biopython.org/DIST/docs/tutorial/Tutorial.html\n"
   ]
  }
 ],
 "metadata": {
  "kernelspec": {
   "display_name": "Python 3",
   "language": "python",
   "name": "python3"
  },
  "language_info": {
   "codemirror_mode": {
    "name": "ipython",
    "version": 3
   },
   "file_extension": ".py",
   "mimetype": "text/x-python",
   "name": "python",
   "nbconvert_exporter": "python",
   "pygments_lexer": "ipython3",
   "version": "3.6.7"
  }
 },
 "nbformat": 4,
 "nbformat_minor": 1
}
