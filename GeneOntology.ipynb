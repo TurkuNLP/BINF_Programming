{
 "cells": [
  {
   "cell_type": "markdown",
   "metadata": {},
   "source": [
    "One of the main advantages of UniProt is that the proteins are annotated for their function etc. using the [GeneOntology](http://geneontology.org/). BioPython has currently no direct support for working with GO annotations, so we will have to write our own parser for the GO data. This won't be difficult, luckily. Download this file: http://purl.obolibrary.org/obo/go.obo\n",
    "\n",
    "The GO terms are stored in a pretty straightforward manner:\n",
    "\n",
    "```\n",
    "[Term]\n",
    "id: GO:0000003\n",
    "name: reproduction\n",
    "namespace: biological_process\n",
    "alt_id: GO:0019952\n",
    "alt_id: GO:0050876\n",
    "def: \"The production of new individuals that contain some portion of genetic material inherited from one or more parent organisms.\" [GOC:go_curators, GOC:isa_complete, GOC:jl, ISBN:0198506732]\n",
    "subset: goslim_chembl\n",
    "subset: goslim_generic\n",
    "subset: goslim_pir\n",
    "subset: goslim_plant\n",
    "subset: gosubset_prok\n",
    "synonym: \"reproductive physiological process\" EXACT []\n",
    "xref: Wikipedia:Reproduction\n",
    "is_a: GO:0008150 ! biological_process\n",
    "disjoint_from: GO:0044848 ! biological phase\n",
    "<emptyline>\n",
    "```\n",
    "\n",
    "So we will need to parse this file somehow. Every terms seems to start with `[Term]` and end with an empty line (you never know about the last one, though). \n",
    "\n",
    "# Named tuples\n",
    "\n",
    "A handy way to store a simple record-style data. [Docs](https://docs.python.org/2/library/collections.html#collections.namedtuple) Let us make a named tuple class to store elementary data about a GO term: id, name, namespace, def"
   ]
  },
  {
   "cell_type": "code",
   "execution_count": 8,
   "metadata": {
    "collapsed": false
   },
   "outputs": [
    {
     "name": "stdout",
     "output_type": "stream",
     "text": [
      "GOTerm(id='GO:12345', name='dummyterm', namespace='function', definition='this is just a dummy term')\n",
      "GOTerm(id='GO:12346', name='dummyterm2', namespace='function', definition='this is yet another dummy term')\n",
      "GO:12345 GO:12346\n",
      "term3= GOTerm(id='GO:12347', name='dummyterm3', namespace='function', definition='this is a third dummy term')\n"
     ]
    }
   ],
   "source": [
    "import collections\n",
    "GOTerm=collections.namedtuple(\"GOTerm\",\"id, name, namespace, definition\")\n",
    "term1=GOTerm(\"GO:12345\",\"dummyterm\",\"function\",\"this is just a dummy term\")\n",
    "term2=GOTerm(\"GO:12346\",\"dummyterm2\",\"function\",\"this is yet another dummy term\")\n",
    "print term1\n",
    "print term2\n",
    "print term1.id, term2.id\n",
    "\n",
    "term3=GOTerm._make(\"GO:12347|dummyterm3|function|this is a third dummy term\".split(\"|\"))#_make() can be used to create one from a sequence\n",
    "print \"term3=\",term3\n"
   ]
  },
  {
   "cell_type": "markdown",
   "metadata": {},
   "source": [
    "# GO ontology as a dictionary of named tuples\n",
    "\n",
    "The easiest way to represent data like this (not just GO). Make a dictionary which has GO ids as keys, and named tuples as values. Try (Ville exercise)."
   ]
  }
 ],
 "metadata": {
  "kernelspec": {
   "display_name": "Python 2",
   "language": "python",
   "name": "python2"
  },
  "language_info": {
   "codemirror_mode": {
    "name": "ipython",
    "version": 2
   },
   "file_extension": ".py",
   "mimetype": "text/x-python",
   "name": "python",
   "nbconvert_exporter": "python",
   "pygments_lexer": "ipython2",
   "version": "2.7.5+"
  }
 },
 "nbformat": 4,
 "nbformat_minor": 0
}
