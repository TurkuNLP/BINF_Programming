{
 "cells": [
  {
   "cell_type": "markdown",
   "metadata": {},
   "source": [
    "# Gene Ontology and BLAST search\n",
    "\n",
    "## Instructions\n",
    "\n",
    "Gene Ontology is not discussed by the Biopython tutorial because Biopython does not support Gene Ontology. You should read the [Gene Ontology](http://www.geneontology.org/page/introduction-go-resource) documentation to the extent you need to understand the purpose and overall content of Gene Ontology. The [OBO Flat File Format Guide](https://owlcollab.github.io/oboformat/doc/GO.format.obo-1_4.html) is another useful resource for this course.\n",
    "\n",
    "For BLAST, read the sections 7.1, 8.1, 8.2, and 8.3 of the Biopython tutorial. If you are interested, you can also take a look at the sections 7.3 and 7.4 for alternative way of handling BLAST results.\n",
    "\n",
    "## Objectives\n",
    "\n",
    "- parse and use Gene Ontology terms\n",
    "- perform BLAST searches and process their results\n",
    "\n",
    "## Summary\n",
    "\n",
    "[Gene Ontology](http://www.geneontology.org/) is an extensive ontology that contains terms for cellular components, molecular functions, and biological processes. The meanings of the terms are described and their relationships to other terms are defined. Among others, UniProt uses Gene Ontology to annotate protein sequences.\n",
    "\n",
    "BLAST is a method to search for similar sequences from a database. NCBI provides an online BLAST service that can be used to query several databases. A programmatic interface to the NCBI BLAST is implemented in the [`Bio.Blast`](https://biopython.org/DIST/docs/api/Bio.Blast-module.html) module of Biopython. The [`Bio.SearchIO`](https://biopython.org/DIST/docs/api/Bio.SearchIO-module.html) module defines a generic interface to sequence search program outputs."
   ]
  },
  {
   "cell_type": "markdown",
   "metadata": {},
   "source": [
    "#### GeneOntology is a *de facto* resource for characterising proteins\n",
    "\n",
    "Gene Ontology is available for download at [http://purl.obolibrary.org/obo/go.obo](http://purl.obolibrary.org/obo/go.obo) in the OBO format. The OBO format is a simple, human-readable format. Gene Ontology is not supported by Biopython, but the syntax of the OBO format is easy to parse.\n",
    "\n",
    "The OBO format is intended for representing ontologies. It is hence very expressive and not all of its features are used by all ontologies. The [OBO Flat File Format Guide](https://owlcollab.github.io/oboformat/doc/GO.format.obo-1_4.html) is a good source to start learning the details of the format. To deeply understand the OBO representation of an ontology, you should also know the basic principles of ontology construction. It is not within the scope of this course, however."
   ]
  },
  {
   "cell_type": "markdown",
   "metadata": {},
   "source": [
    "The terms are defined in `[Term]` stanzas. Each stanza contains at least one `tag: value ! comment` line.\n",
    "\n",
    "The example below contains the terms `membrane` and `ATPase activator activity`. Note how the terms have basic information (such as `id`, `name`, `namespace`, and `def`) but also additional information (such as `is_a` and `relationship`).\n",
    "\n",
    "```\n",
    "[Term]\n",
    "id: GO:0016020\n",
    "name: membrane\n",
    "namespace: cellular_component\n",
    "def: \"A lipid bilayer along with all the proteins and protein complexes embedded in it an attached to it.\" [GOC:dos, GOC:mah, ISBN:0815316194]\n",
    "subset: goslim_aspergillus\n",
    "subset: goslim_candida\n",
    "subset: goslim_chembl\n",
    "subset: goslim_flybase_ribbon\n",
    "subset: goslim_metagenomics\n",
    "subset: goslim_pir\n",
    "subset: goslim_plant\n",
    "subset: goslim_yeast\n",
    "xref: Wikipedia:Biological_membrane\n",
    "is_a: GO:0005575 ! cellular_component\n",
    "\n",
    "[Term]\n",
    "id: GO:0001671\n",
    "name: ATPase activator activity\n",
    "namespace: molecular_function\n",
    "def: \"Binds to and increases the ATP hydrolysis activity of an ATPase.\" [GOC:ajp]\n",
    "synonym: \"ATPase stimulator activity\" EXACT []\n",
    "xref: reactome:R-HSA-5251955 \"HSP40s activate intrinsic ATPase activity of HSP70s in the nucleoplasm\"\n",
    "xref: reactome:R-HSA-5251959 \"HSP40s activate intrinsic ATPase activity of HSP70s in the cytosol\"\n",
    "is_a: GO:0008047 ! enzyme activator activity\n",
    "is_a: GO:0060590 ! ATPase regulator activity\n",
    "relationship: part_of GO:0032781 ! positive regulation of ATPase activity\n",
    "relationship: positively_regulates GO:0016887 ! ATPase activity\n",
    "```"
   ]
  },
  {
   "cell_type": "markdown",
   "metadata": {},
   "source": [
    "The relationship types are defined as `[Typedef]` stanzas. The syntax is the same as in `[Term]` stanzas, but the set of tags is different.\n",
    "\n",
    "```\n",
    "[Typedef]\n",
    "id: positively_regulates\n",
    "name: positively regulates\n",
    "namespace: external\n",
    "xref: RO:0002213\n",
    "holds_over_chain: negatively_regulates negatively_regulates\n",
    "is_a: regulates ! regulates\n",
    "transitive_over: part_of ! part of\n",
    "```"
   ]
  },
  {
   "cell_type": "markdown",
   "metadata": {},
   "source": [
    "When you are implementing your own parser, you are free to only consider the tags that are relevant to your analysis and to collect the values into the data structure that best suits your needs. For simple analyses, it is enough to have a parser that reads the OBO file one line at the time and constructs named tuples from the parsed tag-value pairs."
   ]
  },
  {
   "cell_type": "markdown",
   "metadata": {},
   "source": [
    "#### NCBI online BLAST service is supported by Biopython\n",
    "\n",
    "The [`Bio.Blast.NCBIWWW`](https://biopython.org/DIST/docs/api/Bio.Blast.NCBIWWW-module.html) module has the function `qblast`, with which the NCBI BLAST service can be used programmatically. The workflow of using NCBI BLAST is similar to that of using EUtils.\n",
    "\n",
    "The `qblast` function requires the BLAST variant, the database, and the query sequence as arguments. The sequence can be given as a plain sequence, as an ID or in FASTA format. The available databases are listed, among others, in the README of the [NCBI BLAST FTP site](ftp://ftp.ncbi.nlm.nih.gov/blast/blastftp.txt).\n",
    "\n",
    "There are also many optional arguments for fine-tuning the search. Make sure to check the default values as they may not be what you expect.\n",
    "\n",
    "IMPORTANT: As with any other online service, do not overload the NCBI BLAST server with too many or too large queries. BLAST searches are slow and the NCBI BLAST (even with NCBI's massive server capacity) is no exception. Please wait patiently until you get the results and save your results to a file in order to save computational resources. (Biopython will handle the waiting for you.)"
   ]
  },
  {
   "cell_type": "code",
   "execution_count": null,
   "metadata": {},
   "outputs": [],
   "source": [
    "import Bio.Blast.NCBIWWW as BBNW"
   ]
  },
  {
   "cell_type": "code",
   "execution_count": null,
   "metadata": {},
   "outputs": [],
   "source": [
    "import Bio.Seq as BS\n",
    "import Bio.Alphabet as BA\n",
    "\n",
    "# BLAST program to use\n",
    "prog = \"blastp\"\n",
    "# database to search against\n",
    "database = \"swissprot\"\n",
    "# query sequence as a Seq object\n",
    "query = BS.Seq(\"IRVEGNLRVEYLDDRNTFRHSVVVPYEPPE\",\n",
    "               alphabet=BA.IUPAC.protein)\n",
    "\n",
    "# run NCBI BLAST\n",
    "handle = BBNW.qblast(prog, database, query)\n",
    "\n",
    "# save to file\n",
    "# (particularly useful with BLAST, which is slow to run)\n",
    "with open('blast-results.xml', 'w') as f:\n",
    "    f.write(handle.read())"
   ]
  },
  {
   "cell_type": "markdown",
   "metadata": {},
   "source": [
    "The NCBI BLAST will accept several query sequences simultaneously. In fact, it is preferred to send all query sequences at once, if possible."
   ]
  },
  {
   "cell_type": "code",
   "execution_count": null,
   "metadata": {},
   "outputs": [],
   "source": [
    "# BLAST program to use\n",
    "prog = \"blastp\"\n",
    "# database to search against\n",
    "database = \"swissprot\"\n",
    "# query sequences as a list of IDs\n",
    "query = ['P01013', 'P12345']\n",
    "# NCBI BLAST expects IDs as a string with one ID per line\n",
    "query = \"\\n\".join(query)\n",
    "\n",
    "# run NCBI BLAST\n",
    "handle = BBNW.qblast(prog, database, query)\n",
    "\n",
    "# save to file\n",
    "# (particularly useful with BLAST, which is slow to run)\n",
    "with open('blast-results-many.xml', 'w') as f:\n",
    "    f.write(handle.read())"
   ]
  },
  {
   "cell_type": "markdown",
   "metadata": {},
   "source": [
    "As with the UniProt API, the `qblast` function reflects the behaviour of the corresponding website. It is therefore a good idea to take advantage of the graphical interface when designing the analysis and debugging the code. The NCBI BLAST and its descriptions are available at [https://blast.ncbi.nlm.nih.gov/Blast.cgi](https://blast.ncbi.nlm.nih.gov/Blast.cgi)."
   ]
  },
  {
   "cell_type": "markdown",
   "metadata": {},
   "source": [
    "#### SearchIO module provides an interface to search results\n",
    "\n",
    "The XML output of BLAST could be parsed with the [`Bio.Blast.NCBIXML`](https://biopython.org/DIST/docs/api/Bio.Blast.NCBIXML-module.html) module, which is specifically intended for this purpose, but the [`Bio.SearchIO`](https://biopython.org/DIST/docs/api/Bio.SearchIO-module.html) module provides a more convenient interface. The `Bio.SearchIO` module follows the typical organisation of search results:\n",
    "- An output file contains one or more query results ([`QueryResult`](https://biopython.org/DIST/docs/api/Bio.SearchIO._model.query.QueryResult-class.html)).\n",
    "- A query result contains one or more hits ([`Hit`](https://biopython.org/DIST/docs/api/Bio.SearchIO._model.hit.Hit-class.html)).\n",
    "- A hit contains one or more high-scoring pairs ([`HSP`](https://biopython.org/DIST/docs/api/Bio.SearchIO._model.hsp.HSP-class.html)).\n",
    "\n",
    "The corresponding Biopython classes are shown in the parentheses.\n"
   ]
  },
  {
   "cell_type": "markdown",
   "metadata": {},
   "source": [
    "These data structures work well with BLAST. The process with which BLAST finds matching sequences is as follows:\n",
    "\n",
    "- Create words (i.e. short segments) from the query sequence.\n",
    "- Select the similar words that have the highest scores against the words in the query sequence.\n",
    "- Scan the database for the exact matches of the selected words.\n",
    "- Extend the matches until the score between the query sequence and the database sequence starts to decrease. These extensions are called high-scoring segment pairs (HSPs).\n",
    "- Filter and evaluate the HSPs so that only the best (i.e. most significant) alignments are kept.\n",
    "\n",
    "A single hit is therefore composed of at least one HSP.\n",
    "\n",
    "Each search program uses their own output format which determines what kind of information is available in the results. The information provided by BLAST is documented in the [`Bio.SearchIO.BlastIO`](http://biopython.org/DIST/docs/api/Bio.SearchIO.BlastIO-module.html) module, for example.\n"
   ]
  },
  {
   "cell_type": "markdown",
   "metadata": {},
   "source": [
    "#### QueryResult object contains the hits to one query sequence\n",
    "\n",
    "When running a search query, a query result is returned for each query sequence. A query result can be parsed into a `QueryResult` object, which contains the basic information about the query as well as the hits to the query. As always, the `read` function parses a single query and the `parse` function iterates over several of them. Since various file formats can be parsed with the `Bio.SearchIO` module, you must specify the file format.\n"
   ]
  },
  {
   "cell_type": "code",
   "execution_count": null,
   "metadata": {},
   "outputs": [],
   "source": [
    "import Bio.SearchIO as BSIO"
   ]
  },
  {
   "cell_type": "code",
   "execution_count": null,
   "metadata": {},
   "outputs": [],
   "source": [
    "# parse the result into a QueryResult object\n",
    "with open('blast-results.xml') as f:\n",
    "    # remember to specify the file format (here 'blast-xml')\n",
    "    result = BSIO.read(f, 'blast-xml')\n",
    "\n",
    "# a single QueryResult\n",
    "print(result)"
   ]
  },
  {
   "cell_type": "code",
   "execution_count": null,
   "metadata": {},
   "outputs": [],
   "source": [
    "# basic information about the search program\n",
    "print(result.program)\n",
    "print(result.version)\n",
    "print()\n",
    "\n",
    "# basic information about the query\n",
    "print(result.id)\n",
    "print(result.description)\n",
    "# (query sequence length)\n",
    "print(result.seq_len)\n",
    "# (target database)\n",
    "print(result.target)\n",
    "# (substitution matrix)\n",
    "print(result.param_matrix)\n",
    "print()\n",
    "\n",
    "# all available pieces of information (ignore keys starting with underscore)\n",
    "for k in result.__dict__.keys():\n",
    "    print(k)\n"
   ]
  },
  {
   "cell_type": "markdown",
   "metadata": {},
   "source": [
    " The `parse` function will parse and iterate over several query results."
   ]
  },
  {
   "cell_type": "code",
   "execution_count": null,
   "metadata": {},
   "outputs": [],
   "source": [
    "# parse the results into QueryResult objects\n",
    "with open('blast-results-many.xml') as f:\n",
    "    # one QueryResult per query sequence\n",
    "    for r in BSIO.parse(f, 'blast-xml'):\n",
    "        print(r, end='\\n\\n')"
   ]
  },
  {
   "cell_type": "markdown",
   "metadata": {},
   "source": [
    "#### QueryResult objects behave like lists and dictionaries\n",
    "\n",
    "The hits contained in a QueryResult object can be accessed and sliced by indices (like lists). The hits can also be accessed by their ids (like dictionary)."
   ]
  },
  {
   "cell_type": "code",
   "execution_count": null,
   "metadata": {},
   "outputs": [],
   "source": [
    "# number of hits\n",
    "print(len(result), end='\\n\\n')\n",
    "\n",
    "# select the first three hits\n",
    "# (returns a new QueryResult object)\n",
    "top_result = result[:3]\n",
    "\n",
    "# iterate over hits\n",
    "for hit in top_result:\n",
    "    print(hit, end='\\n\\n')\n"
   ]
  },
  {
   "cell_type": "code",
   "execution_count": null,
   "metadata": {},
   "outputs": [],
   "source": [
    "# iterate over the hit keys (i.e. their ids)\n",
    "for uid in top_result.hit_keys:\n",
    "    print(uid)\n",
    "print()\n",
    "\n",
    "# hit to specific database entry\n",
    "print(top_result['sp|Q64662.1|'], end='\\n\\n')\n",
    "\n",
    "# does entry exist among the hits?\n",
    "print('sp|Q64662.1|' in top_result, end='\\n\\n')"
   ]
  },
  {
   "cell_type": "markdown",
   "metadata": {},
   "source": [
    "The hits can be sorted in-place or into a new QueryResult object. Like with the built-in `sort` function in Python, you can specify the sort order by supplying the sort function. The hits can also be filtered much like the built-in `filter` function in Python."
   ]
  },
  {
   "cell_type": "code",
   "execution_count": null,
   "metadata": {},
   "outputs": [],
   "source": [
    "# function to sort by sequence length\n",
    "fn = lambda hit: hit.seq_len\n",
    "\n",
    "# sort by sequence length in reverse order\n",
    "# and produce a new QueryResult object (in_place=False)\n",
    "sorted_result = result.sort(key=fn, reverse=True, in_place=False)\n",
    "\n",
    "# original top-3 ids\n",
    "print(result.hit_keys[:3], end='\\n\\n')\n",
    "# sorted top-3 ids\n",
    "print(sorted_result.hit_keys[:3], end='\\n\\n')"
   ]
  },
  {
   "cell_type": "code",
   "execution_count": null,
   "metadata": {},
   "outputs": [],
   "source": [
    "# filter function to get hits with sequence length > 500\n",
    "fn = lambda hit: hit.seq_len > 500\n",
    "\n",
    "# filter hits and produce a new QueryResult object\n",
    "filtered_result = result.hit_filter(fn)\n",
    "\n",
    "# number of original hits\n",
    "print(len(result), end='\\n\\n')\n",
    "# number of filtered hits\n",
    "print(len(filtered_result), end='\\n\\n')\n"
   ]
  },
  {
   "cell_type": "markdown",
   "metadata": {},
   "source": [
    "#### Hit objects contain the details of single database entries\n",
    "\n",
    "A `Hit` object represents a single database entry that was matched to the query sequence. It contains the basic information about the entry as well as the HSPs that were found during the search as `HSP` objects. You can access, sort and filter `HSP` objects within `Hit` objects much like `Hit` objects within `QueryResult` objects."
   ]
  },
  {
   "cell_type": "code",
   "execution_count": null,
   "metadata": {},
   "outputs": [],
   "source": [
    "# (use the first hit as an example)\n",
    "hit = result[0]\n",
    "\n",
    "print(hit, end='\\n\\n')\n",
    "\n",
    "# basic information about the query\n",
    "print(hit.query_id)\n",
    "print(hit.query_description)\n",
    "print()\n",
    "\n",
    "# basic information about the hit entry\n",
    "# (these are about the database entry, not the query sequence)\n",
    "print(hit.id)\n",
    "print(hit.description)\n",
    "print(hit.seq_len)\n",
    "print(hit.accession)\n",
    "print()\n",
    "\n",
    "# all available pieces of information (ignore keys starting with underscore)\n",
    "for k in hit.__dict__.keys():\n",
    "    print(k)\n"
   ]
  },
  {
   "cell_type": "code",
   "execution_count": null,
   "metadata": {},
   "outputs": [],
   "source": [
    "# number of HSPs\n",
    "print(len(hit), end='\\n\\n')\n",
    "\n",
    "# select the first three HSPs (there is only one HSP in this case)\n",
    "# (returns a new Hit object)\n",
    "top_hsp = hit[:3]\n",
    "\n",
    "# iterate over HSPs\n",
    "for hsp in hit:\n",
    "    print(hsp, end='\\n\\n')\n",
    "\n",
    "# (notice that, unlike Hits, HSPs do not have keys\n",
    "#  by which you could access them)\n"
   ]
  },
  {
   "cell_type": "code",
   "execution_count": null,
   "metadata": {},
   "outputs": [],
   "source": [
    "# function to sort by E-value\n",
    "fn = lambda hsp: hsp.evalue\n",
    "\n",
    "# sort by E-value in reverse order\n",
    "# and produce a new Hit object (in_place=False)\n",
    "sorted_hit = hit.sort(key=fn, reverse=True, in_place=False)\n",
    "\n",
    "# original HSPs\n",
    "print(hit, end='\\n\\n')\n",
    "# sorted HSPs\n",
    "print(sorted_hit, end='\\n\\n')\n",
    "\n",
    "# filter function to get HSPs with E-value < 10^-6\n",
    "fn = lambda hsp: hsp.evalue < 0.000001\n",
    "\n",
    "# filter HSPs and produce a new Hit object\n",
    "filtered_hit = hit.filter(fn)\n",
    "\n",
    "# number of original hits\n",
    "print(len(hit), end='\\n\\n')\n",
    "# number of filtered hits\n",
    "print(len(filtered_hit), end='\\n\\n')\n"
   ]
  },
  {
   "cell_type": "markdown",
   "metadata": {},
   "source": [
    "`HSP` objects can also be filtered directly from `QueryResult` objects. This is convenient because you may need to filter your hits based on the values within their HSPs."
   ]
  },
  {
   "cell_type": "code",
   "execution_count": null,
   "metadata": {},
   "outputs": [],
   "source": [
    "# filter function to get HSPs with E-value < 10^-6\n",
    "fn = lambda hsp: hsp.evalue < 0.000001\n",
    "\n",
    "# filter hits and produce a new QueryResult object\n",
    "hspfiltered_result = result.hsp_filter(fn)\n",
    "\n",
    "# number of original hits\n",
    "print(len(result), end='\\n\\n')\n",
    "# E-values in original hits\n",
    "for e in sorted([hsp.evalue for hsp in hit]\n",
    "                for hit in result):\n",
    "    print(e)\n",
    "print()\n",
    "\n",
    "# number of filtered hits\n",
    "print(len(hspfiltered_result), end='\\n\\n')\n",
    "# E-values in filtered hits\n",
    "for e in sorted([hsp.evalue for hsp in hit]\n",
    "                for hit in hspfiltered_result):\n",
    "    print(e)\n",
    "print()\n"
   ]
  },
  {
   "cell_type": "markdown",
   "metadata": {},
   "source": [
    "#### HSPs contain the details of the matched segments of sequences\n",
    "\n",
    "An HSP represents a match that was found between the segments of query and database sequences. It contains the basic information about the matched sequences as well as the match itself. The alignment of the matched segments is available along with its statistics.\n",
    "\n",
    "The documentation of [`HSP`](http://biopython.org/DIST/docs/api/Bio.SearchIO._model.hsp.HSP-class.html) contains a list of available pieces of information. Algorithm-specific information may also be available."
   ]
  },
  {
   "cell_type": "code",
   "execution_count": null,
   "metadata": {},
   "outputs": [],
   "source": [
    "# (use the first HSP as an example)\n",
    "hsp = hit[0]\n",
    "\n",
    "print(hsp, end='\\n\\n')\n",
    "\n",
    "# basic information about the query sequence\n",
    "print(hsp.query_id)\n",
    "print(hsp.query_description)\n",
    "print()\n",
    "\n",
    "# basic information about the hit entry\n",
    "print(hsp.hit_id)\n",
    "print(hsp.hit_description)\n",
    "print()\n",
    "\n",
    "# matched query and hit sequence segments as Seq objects\n",
    "print(hsp.query, end='\\n\\n')\n",
    "print(hsp.hit, end='\\n\\n')\n"
   ]
  },
  {
   "cell_type": "code",
   "execution_count": null,
   "metadata": {},
   "outputs": [],
   "source": [
    "# start and end positions of the match within the query sequence\n",
    "print(hsp.query_start)\n",
    "print(hsp.query_end)\n",
    "print()\n",
    "\n",
    "# start and end positions of the match within the hit sequence\n",
    "print(hsp.hit_start)\n",
    "print(hsp.hit_end)\n",
    "print()\n",
    "\n",
    "# the alignment of the matched segments\n",
    "print(hsp.aln)\n"
   ]
  },
  {
   "cell_type": "code",
   "execution_count": null,
   "metadata": {},
   "outputs": [],
   "source": [
    "# basic information about the match\n",
    "# (E-value)\n",
    "print(hsp.evalue)\n",
    "# (bit score)\n",
    "print(hsp.bitscore)\n",
    "# (number of identical residues in alignment)\n",
    "print(hsp.ident_num)\n",
    "# (number of positive residues in alignment)\n",
    "print(hsp.pos_num)\n",
    "# (number of gaps in alignment)\n",
    "print(hsp.gap_num)\n",
    "print()\n"
   ]
  }
 ],
 "metadata": {
  "kernelspec": {
   "display_name": "Python 3",
   "language": "python",
   "name": "python3"
  },
  "language_info": {
   "codemirror_mode": {
    "name": "ipython",
    "version": 3
   },
   "file_extension": ".py",
   "mimetype": "text/x-python",
   "name": "python",
   "nbconvert_exporter": "python",
   "pygments_lexer": "ipython3",
   "version": "3.7.3"
  }
 },
 "nbformat": 4,
 "nbformat_minor": 2
}
