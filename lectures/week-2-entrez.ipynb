{
 "cells": [
  {
   "cell_type": "markdown",
   "metadata": {},
   "source": [
    "# Sequence records, part 1\n",
    "\n",
    "## Instructions\n",
    "\n",
    "Read the chapter 4 and the sections 5.1, 9.3, 9.6, 9.15, and 9.16 of the Biopython tutorial. It is also recommended to read the sections 5.4, 5.5, 9.10, and 9.12, which are touched by this notebook.\n",
    "\n",
    "## Objectives\n",
    "\n",
    "- create and manipulate SeqRecord and SeqFeature objects\n",
    "- search and fetch sequence records from Entrez databases\n",
    "- read sequence records from files\n",
    "\n",
    "## Summary\n",
    "\n",
    "Sequence records are modelled by the `SeqRecord` class in the [`Bio.SeqRecord`](https://biopython.org/DIST/docs/api/Bio.SeqRecord-module.html) module. Sequence records contain a sequence and its associated metadata (such as annotations)."
   ]
  },
  {
   "cell_type": "code",
   "execution_count": null,
   "metadata": {},
   "outputs": [],
   "source": [
    "import Bio.SeqRecord as BSR"
   ]
  },
  {
   "cell_type": "markdown",
   "metadata": {},
   "source": [
    "#### SeqRecord objects contain metadata\n",
    "\n",
    "SeqRecord objects contain the following attributes:\n",
    "\n",
    "- `seq` : sequence, typically a `Seq` object\n",
    "- `id` : primary identifier, string\n",
    "- `name` : common name, string\n",
    "- `description` : short human-readable description, string\n",
    "- `letter_annotations` : metadata pertaining to single letters\n",
    "- `features` : structured metadata as SeqFeature objects\n",
    "- `annotations` : unstructured metadata\n",
    "- `dbxrefs` : cross-references\n",
    "\n",
    "SeqRecord objects can be easily created."
   ]
  },
  {
   "cell_type": "code",
   "execution_count": null,
   "metadata": {},
   "outputs": [],
   "source": [
    "import Bio.Seq as BS\n",
    "import Bio.Alphabet as BA\n",
    "\n",
    "# sequence\n",
    "seq = BS.Seq('MDGEDVQALVIDNGSGMCKA', BA.generic_protein)\n",
    "# sequence record\n",
    "record = BSR.SeqRecord(seq)\n",
    "print(record)"
   ]
  },
  {
   "cell_type": "code",
   "execution_count": null,
   "metadata": {},
   "outputs": [],
   "source": [
    "# get sequence from record\n",
    "print(record.seq)"
   ]
  },
  {
   "cell_type": "markdown",
   "metadata": {},
   "source": [
    "The attributes can be modified as needed."
   ]
  },
  {
   "cell_type": "code",
   "execution_count": null,
   "metadata": {},
   "outputs": [],
   "source": [
    "# add identifier\n",
    "record.id = \"AC500001\"\n",
    "# add name\n",
    "record.name = \"DUMMY\"\n",
    "# add description\n",
    "record.description = \"Dummy sequence\"\n",
    "print(record)"
   ]
  },
  {
   "cell_type": "markdown",
   "metadata": {},
   "source": [
    "Unstructured annotations are organised into a dictionary by their name (dictionary key) and can contain basically anything."
   ]
  },
  {
   "cell_type": "code",
   "execution_count": null,
   "metadata": {},
   "outputs": [],
   "source": [
    "# add annotation named 'source'\n",
    "record.annotations['source'] = \"Imaginary organism\"\n",
    "print(record)"
   ]
  },
  {
   "cell_type": "code",
   "execution_count": null,
   "metadata": {},
   "outputs": [],
   "source": [
    "print(record.annotations['source'])"
   ]
  },
  {
   "cell_type": "markdown",
   "metadata": {},
   "source": [
    "Per-letter annotations are also organised by their name into a dictionary. The annotations must be iterable objects of the same length at the sequence."
   ]
  },
  {
   "cell_type": "code",
   "execution_count": null,
   "metadata": {},
   "outputs": [],
   "source": [
    "# add letter annotation named 'structure'\n",
    "record.letter_annotations['structure'] = '---EEE--EEEEE-EEEEEE'\n",
    "print(record)"
   ]
  },
  {
   "cell_type": "code",
   "execution_count": null,
   "metadata": {},
   "outputs": [],
   "source": [
    "print(record.letter_annotations['structure'])"
   ]
  },
  {
   "cell_type": "markdown",
   "metadata": {},
   "source": [
    "Features are a list of `SeqFeature` objects (see below)."
   ]
  },
  {
   "cell_type": "code",
   "execution_count": null,
   "metadata": {},
   "outputs": [],
   "source": [
    "# no features yet\n",
    "print(record.features)"
   ]
  },
  {
   "cell_type": "markdown",
   "metadata": {},
   "source": [
    "Cross-references are a list of strings."
   ]
  },
  {
   "cell_type": "code",
   "execution_count": null,
   "metadata": {},
   "outputs": [],
   "source": [
    "# add cross-references\n",
    "record.dbxrefs = ['DB:dummy', 'Project:imaginary']\n",
    "print(record)"
   ]
  },
  {
   "cell_type": "markdown",
   "metadata": {},
   "source": [
    "SeqRecord can be modified (slicing, concatenation, etc.) to produce new records. In general, the letter annotations and features are preserved but annotations and cross-references are not. You must add them manually if needed. Remember to change the id, name, and description of the new record, too.\n",
    "\n",
    "See the Biopython tutorial for details."
   ]
  },
  {
   "cell_type": "markdown",
   "metadata": {},
   "source": [
    "#### Features are SeqFeature objects\n",
    "\n",
    "Higher-level information about a sequence is modelled by the `SeqFeature` class in the [`Bio.SeqFeature`](https://biopython.org/DIST/docs/api/Bio.SeqFeature-module.html) module. A SeqFeature object specifies a region of the sequence and associates some information to the region. The objects contain the following attributes:\n",
    "\n",
    "- `type`: feature type as string\n",
    "- `location`: sequence region\n",
    "- `qualifiers`: dictionary of unstructured information"
   ]
  },
  {
   "cell_type": "code",
   "execution_count": null,
   "metadata": {},
   "outputs": [],
   "source": [
    "import Bio.SeqFeature as BSF"
   ]
  },
  {
   "cell_type": "code",
   "execution_count": null,
   "metadata": {},
   "outputs": [],
   "source": [
    "feature = BSF.SeqFeature(BSF.FeatureLocation(0,10), type='domain')\n",
    "feature.qualifiers['evidence'] = 'experimental'\n",
    "print(feature)"
   ]
  },
  {
   "cell_type": "code",
   "execution_count": null,
   "metadata": {},
   "outputs": [],
   "source": [
    "# type\n",
    "print(feature.type)"
   ]
  },
  {
   "cell_type": "code",
   "execution_count": null,
   "metadata": {},
   "outputs": [],
   "source": [
    "# location\n",
    "print(feature.location)"
   ]
  },
  {
   "cell_type": "code",
   "execution_count": null,
   "metadata": {},
   "outputs": [],
   "source": [
    "# qualifiers\n",
    "for key, value in feature.qualifiers.items():\n",
    "    print(key, ':', value)"
   ]
  },
  {
   "cell_type": "markdown",
   "metadata": {},
   "source": [
    "#### Locations can be specified in various ways"
   ]
  },
  {
   "cell_type": "markdown",
   "metadata": {},
   "source": [
    "A single position of a sequence can be described by `ExactPosition` objects (but there are also fuzzy variants). Continuous and discontinuous ranges can be described by `FeatureLocation` and `CompoundLocation` objects, respectively. See the [`Bio.SeqFeature`](https://biopython.org/DIST/docs/api/Bio.SeqFeature-module.html) module for details."
   ]
  },
  {
   "cell_type": "code",
   "execution_count": null,
   "metadata": {},
   "outputs": [],
   "source": [
    "# position 5 of sequence (zero-based indexing)\n",
    "pos = BSF.ExactPosition(5)\n",
    "print(repr(pos))"
   ]
  },
  {
   "cell_type": "code",
   "execution_count": null,
   "metadata": {},
   "outputs": [],
   "source": [
    "# positions can treated as integers\n",
    "print(repr(pos + 1))"
   ]
  },
  {
   "cell_type": "code",
   "execution_count": null,
   "metadata": {},
   "outputs": [],
   "source": [
    "# region 6-10 of sequence (one-based, inclusive)\n",
    "# which is 5:10 in Python-style indexing (zero-based, end exclusive)\n",
    "loc1 = BSF.FeatureLocation(5, 10)\n",
    "print(loc1)"
   ]
  },
  {
   "cell_type": "code",
   "execution_count": null,
   "metadata": {},
   "outputs": [],
   "source": [
    "# region 21-25 (inclusive)\n",
    "loc2 = BSF.FeatureLocation(20, 25)\n",
    "print(loc2)"
   ]
  },
  {
   "cell_type": "code",
   "execution_count": null,
   "metadata": {},
   "outputs": [],
   "source": [
    "# join of two regions (such as gene with two exons)\n",
    "loc3 = BSF.CompoundLocation([loc1, loc2])\n",
    "print(loc3)"
   ]
  },
  {
   "cell_type": "markdown",
   "metadata": {},
   "source": [
    "Locations can be queried for their details."
   ]
  },
  {
   "cell_type": "code",
   "execution_count": null,
   "metadata": {},
   "outputs": [],
   "source": [
    "# start position\n",
    "print(loc3.start)"
   ]
  },
  {
   "cell_type": "code",
   "execution_count": null,
   "metadata": {},
   "outputs": [],
   "source": [
    "# end position\n",
    "print(loc3.end)"
   ]
  },
  {
   "cell_type": "code",
   "execution_count": null,
   "metadata": {},
   "outputs": [],
   "source": [
    "# continuous sub-regions\n",
    "for p in loc3.parts:\n",
    "    print(p)"
   ]
  },
  {
   "cell_type": "code",
   "execution_count": null,
   "metadata": {},
   "outputs": [],
   "source": [
    "# is the position 4 in the region?\n",
    "print(4 in loc3)"
   ]
  },
  {
   "cell_type": "code",
   "execution_count": null,
   "metadata": {},
   "outputs": [],
   "source": [
    "# is the position 8 in the region?\n",
    "print(8 in loc3)"
   ]
  },
  {
   "cell_type": "code",
   "execution_count": null,
   "metadata": {},
   "outputs": [],
   "source": [
    "# is one region within another? (not supported)\n",
    "try:\n",
    "    print(loc1 in loc3)\n",
    "except ValueError as e:\n",
    "    print(e)"
   ]
  },
  {
   "cell_type": "markdown",
   "metadata": {},
   "source": [
    "#### Specified region can be extracted from full sequence"
   ]
  },
  {
   "cell_type": "code",
   "execution_count": null,
   "metadata": {},
   "outputs": [],
   "source": [
    "# full sequence\n",
    "seq = BS.Seq('GGACTCTTAGCGGCTCACGCACTTTCTTCCGAAGACGGAACCCG', BA.generic_dna)\n",
    "# two-exon gene within sequence\n",
    "feature = BSF.SeqFeature(loc3, type='gene', strand=1)"
   ]
  },
  {
   "cell_type": "code",
   "execution_count": null,
   "metadata": {},
   "outputs": [],
   "source": [
    "# the nucleotides specified by the feature\n",
    "print(repr(feature.extract(seq)))"
   ]
  },
  {
   "cell_type": "markdown",
   "metadata": {},
   "source": [
    "Features (or locations, in fact) are also aware of the strand (if applicable)."
   ]
  },
  {
   "cell_type": "code",
   "execution_count": null,
   "metadata": {},
   "outputs": [],
   "source": [
    "# feature in reverse strand\n",
    "loc4 = BSF.FeatureLocation(0, 5, strand=-1)\n",
    "print(loc4)"
   ]
  },
  {
   "cell_type": "code",
   "execution_count": null,
   "metadata": {
    "scrolled": true
   },
   "outputs": [],
   "source": [
    "# strand (1 == forward, -1 == reverse)\n",
    "print(loc4.strand)"
   ]
  },
  {
   "cell_type": "code",
   "execution_count": null,
   "metadata": {},
   "outputs": [],
   "source": [
    "feature = BSF.SeqFeature(loc4, type='gene')\n",
    "# the five nucleotides specified by the feature\n",
    "# (note that the output is a reverse complement)\n",
    "print(repr(feature.extract(seq)))"
   ]
  },
  {
   "cell_type": "markdown",
   "metadata": {},
   "source": [
    "#### Sequence records can be obtained from NCBI's Entrez databases\n",
    "\n",
    "The [`Bio.Entrez`](https://biopython.org/DIST/docs/api/Bio.Entrez-module.html) contains tools to query Entrez databases and fetch sequence records. They make use of the Entrez Programming Utilities (also known as EUtils), described in detail [here](https://www.ncbi.nlm.nih.gov/books/NBK25501/). The output of these tools is usually in the XML format, which can be parsed by the utility functions of the `Bio.Entrez` module.\n",
    "\n",
    "**Important:** Be aware that the Entrez utilities impose usage limits and that you can get yourself blacklisted if you violate them. Biopython takes care of keeping an eye on those for you. You should also fill in a non-fake email address. See the [Frequency, Timing and Registration of E-utility URL Requests](https://www.ncbi.nlm.nih.gov/books/NBK25497/#chapter2\\2e Frequency_Timing_and_Registrati) section of the manual."
   ]
  },
  {
   "cell_type": "code",
   "execution_count": null,
   "metadata": {},
   "outputs": [],
   "source": [
    "import Bio.Entrez as BE\n",
    "\n",
    "# set email globally\n",
    "BE.email = 'your.name@example.com'\n",
    "\n",
    "# remember to set your real email address before continuing to the examples below\n",
    "SET-YOUR-REAL-EMAIL-ADDRESS-BEFORE-COMMENTING-OUT-THIS-LINE"
   ]
  },
  {
   "cell_type": "markdown",
   "metadata": {},
   "source": [
    "#### ESearch for searching databases\n",
    "\n",
    "The `esearch` function can be used to search and retrieve primary IDs of records. It requires the database and the query as input and accepts some optional arguments as well. See the [ESearch documentation](https://www.ncbi.nlm.nih.gov/books/NBK25499/#chapter4.ESearch) for details."
   ]
  },
  {
   "cell_type": "code",
   "execution_count": null,
   "metadata": {},
   "outputs": [],
   "source": [
    "# search \"nucleotide\" database for the \"accD\" gene of \"opuntia\" organism\n",
    "handle = BE.esearch(db=\"nucleotide\",\n",
    "                    term=\"opuntia[ORGN] accD[gene]\",\n",
    "                    # return ID list in XML format\n",
    "                    rettype=\"uilist\",\n",
    "                    retmode=\"xml\")"
   ]
  },
  {
   "cell_type": "markdown",
   "metadata": {},
   "source": [
    "The output can be stored to a file for later use, which is a cost-effective approach for sequences in particular."
   ]
  },
  {
   "cell_type": "code",
   "execution_count": null,
   "metadata": {},
   "outputs": [],
   "source": [
    "# save to file\n",
    "with open('results.xml', 'w') as f:\n",
    "    f.write(handle.read())"
   ]
  },
  {
   "cell_type": "markdown",
   "metadata": {},
   "source": [
    "The `parse` function in `Bio.Entrez` can parse the output of EUtils tools into a dictionary. It expects input that contains exactly one record.\n",
    "\n",
    "In this case, the output is the query result that contains the retrieved IDs (and some other information)."
   ]
  },
  {
   "cell_type": "code",
   "execution_count": null,
   "metadata": {},
   "outputs": [],
   "source": [
    "# load from file and parse\n",
    "with open('results.xml') as f:\n",
    "    results = BE.read(f)\n",
    "# (you could also parse 'handle' directly)\n",
    "\n",
    "# retrieved IDs\n",
    "print(results['IdList'])"
   ]
  },
  {
   "cell_type": "markdown",
   "metadata": {},
   "source": [
    "#### EFetch for retrieving records\n",
    "\n",
    "The `efetch` function can be used to retrieve specific records. It requires the database and the list of IDs as input and accepts some optional arguments as well. See the [EFetch documentation](https://www.ncbi.nlm.nih.gov/books/NBK25499/#chapter4.EFetch) for details.\n",
    "\n",
    "The output format can be specified. The available formats depend on the database."
   ]
  },
  {
   "cell_type": "code",
   "execution_count": null,
   "metadata": {},
   "outputs": [],
   "source": [
    "# the ids of three records from the previous search\n",
    "ids = results['IdList']\n",
    "# fetch records from \"nucleotide\" database\n",
    "handle = BE.efetch(db=\"nucleotide\",\n",
    "                   id=ids,\n",
    "                   # return sequences in FASTA format\n",
    "                   rettype=\"fasta\",\n",
    "                   retmode=\"text\")\n",
    "# save to file\n",
    "with open('sequences.fasta', 'w') as f:\n",
    "    f.write(handle.read())"
   ]
  },
  {
   "cell_type": "code",
   "execution_count": null,
   "metadata": {},
   "outputs": [],
   "source": [
    "# show file content\n",
    "with open('sequences.fasta') as f:\n",
    "    print(f.read())"
   ]
  },
  {
   "cell_type": "markdown",
   "metadata": {},
   "source": [
    "Full records can be obtained in the GenBank format in plain text (and in XML)."
   ]
  },
  {
   "cell_type": "code",
   "execution_count": null,
   "metadata": {},
   "outputs": [],
   "source": [
    "# fetch records from \"nucleotide\" database\n",
    "handle = BE.efetch(db=\"nucleotide\",\n",
    "                   id=ids,\n",
    "                   # return sequences in GenBank plain text format\n",
    "                   rettype=\"gb\",\n",
    "                   retmode=\"text\")\n",
    "# save to file\n",
    "with open('sequences.gb', 'w') as f:\n",
    "    f.write(handle.read())"
   ]
  },
  {
   "cell_type": "code",
   "execution_count": null,
   "metadata": {},
   "outputs": [],
   "source": [
    "# show file content\n",
    "with open('sequences.gb') as f:\n",
    "    print(f.read())"
   ]
  },
  {
   "cell_type": "markdown",
   "metadata": {},
   "source": [
    "#### SeqIO produces SeqRecord objects\n",
    "\n",
    "The [`Bio.SeqIO`](https://biopython.org/DIST/docs/api/Bio.SeqIO-module.html) module contains functions to parse the retrieved sequence records into `SeqRecord` objects. The `read` function parses an input that contains a single record, whereas the `parse` function returns a generator that produces all records from the input sequentially. They require the source (filename or file-like object) and the format as input.\n",
    "\n",
    "(`Bio.Entrez` can parse the XML output of `efetch` but the result is a dictionary rather than `SeqRecord` because `Bio.Entrez` is intended for all Entrez databases and is not specific to sequence data.)"
   ]
  },
  {
   "cell_type": "code",
   "execution_count": null,
   "metadata": {},
   "outputs": [],
   "source": [
    "import Bio.SeqIO as BSIO"
   ]
  },
  {
   "cell_type": "markdown",
   "metadata": {},
   "source": [
    "Since `parse` returns a generator, you can process each record at the time without storing all records in memory simultaneously."
   ]
  },
  {
   "cell_type": "code",
   "execution_count": null,
   "metadata": {},
   "outputs": [],
   "source": [
    "# parse and process FASTA sequences one at the time\n",
    "for record in BSIO.parse('sequences.fasta', 'fasta'):\n",
    "    print(record)\n",
    "    print()"
   ]
  },
  {
   "cell_type": "markdown",
   "metadata": {},
   "source": [
    "The amount of information varies between formats. You should use the format that is the most appropriate for your application."
   ]
  },
  {
   "cell_type": "code",
   "execution_count": null,
   "metadata": {},
   "outputs": [],
   "source": [
    "# parse records in GenBank format, which contains more information than FASTA\n",
    "for record in BSIO.parse('sequences.gb', 'gb'):\n",
    "    print(record)\n",
    "    print()"
   ]
  },
  {
   "cell_type": "markdown",
   "metadata": {},
   "source": [
    "The `SeqRecord` objects can also be written to a file by `Bio.SeqIO`."
   ]
  },
  {
   "cell_type": "code",
   "execution_count": null,
   "metadata": {},
   "outputs": [],
   "source": [
    "# write 'record' to file named 'record.gb' in a GenBank format\n",
    "# (note that the first argument is a list of records)\n",
    "BSIO.write([record], 'record.gb', 'gb')"
   ]
  },
  {
   "cell_type": "markdown",
   "metadata": {},
   "source": [
    "#### Large queries with history server and batch retrieve\n",
    "\n",
    "NCBI expects that large queries are made by using their support for query history because it saves their computational resources. To use the history, add the `usehistory=\"y\"` argument to your function call."
   ]
  },
  {
   "cell_type": "code",
   "execution_count": null,
   "metadata": {},
   "outputs": [],
   "source": [
    "# search \"nucleotide\" database for the \"accD\" gene of \"opuntia\" organism using history\n",
    "handle = BE.esearch(db=\"nucleotide\",\n",
    "                    term=\"opuntia[ORGN] accD[gene]\",\n",
    "                    # use history\n",
    "                    usehistory=\"y\",\n",
    "                    # return ID list in XML format\n",
    "                    rettype=\"uilist\",\n",
    "                    retmode=\"xml\")\n",
    "results = BE.read(handle)"
   ]
  },
  {
   "cell_type": "markdown",
   "metadata": {},
   "source": [
    "The result will contain `WebEnv` and `QueryKey` information, which replace the list of IDs in `efetch`. These pieces of information identify the result set of your search."
   ]
  },
  {
   "cell_type": "code",
   "execution_count": null,
   "metadata": {},
   "outputs": [],
   "source": [
    "webenv = results['WebEnv']\n",
    "print(webenv)"
   ]
  },
  {
   "cell_type": "code",
   "execution_count": null,
   "metadata": {},
   "outputs": [],
   "source": [
    "querykey = results['QueryKey']\n",
    "print(querykey)"
   ]
  },
  {
   "cell_type": "code",
   "execution_count": null,
   "metadata": {},
   "outputs": [],
   "source": [
    "# fetch records from \"nucleotide\" database\n",
    "handle = BE.efetch(db=\"nucleotide\",\n",
    "                   webenv=webenv,\n",
    "                   query_key=querykey,\n",
    "                   rettype=\"gb\",\n",
    "                   retmode=\"text\")\n",
    "# save to file\n",
    "with open('sequences.gb', 'w') as f:\n",
    "    f.write(handle.read())"
   ]
  },
  {
   "cell_type": "markdown",
   "metadata": {},
   "source": [
    "A large number of records should be retrieved in batches, which can be achieved with the `retstart` and `retmax` arguments. The former indicates how many records to skip from the beginning and the latter how many records to retrieve.\n",
    "\n",
    "Note that the example below parses the records directly but, also in this case, the retrieved records could be stored to a file before parsing."
   ]
  },
  {
   "cell_type": "code",
   "execution_count": null,
   "metadata": {},
   "outputs": [],
   "source": [
    "# function to query \"nucleotide\" database and retrieve a specific number of records in batches of a given size\n",
    "def retrieve(query, retrieve_size, batch_size):\n",
    "    # search using history\n",
    "    handle = BE.esearch(db=\"nucleotide\",\n",
    "                        term=query,\n",
    "                        usehistory=\"y\",\n",
    "                        rettype=\"uilist\",\n",
    "                        retmode=\"xml\")\n",
    "    results = BE.read(handle)\n",
    "    # adjust maximum size if less than maximum number of hits available\n",
    "    retrieve_size = min(int(results['Count']), retrieve_size)\n",
    "    # split results into batches\n",
    "    for i in range(0, retrieve_size, batch_size):\n",
    "        # fetch records\n",
    "        handle = BE.efetch(db=\"nucleotide\",\n",
    "                           webenv=webenv,\n",
    "                           query_key=querykey,\n",
    "                           # fetch N records starting from i\n",
    "                           retstart=i,\n",
    "                           retmax=batch_size,\n",
    "                           rettype=\"gb\",\n",
    "                           retmode=\"text\")\n",
    "        for record in BSIO.parse(handle, 'gb'):\n",
    "            # acts as an iterator and give records out as they come\n",
    "            yield record\n",
    "\n",
    "# example call to function\n",
    "# (retrieve 10 records in batches of 5; usually these numbers are much larger)\n",
    "for record in retrieve(\"opuntia[ORGN] accD[gene]\", 10, 5):\n",
    "    print(record)\n",
    "    print()"
   ]
  }
 ],
 "metadata": {
  "kernelspec": {
   "display_name": "Python 3",
   "language": "python",
   "name": "python3"
  },
  "language_info": {
   "codemirror_mode": {
    "name": "ipython",
    "version": 3
   },
   "file_extension": ".py",
   "mimetype": "text/x-python",
   "name": "python",
   "nbconvert_exporter": "python",
   "pygments_lexer": "ipython3",
   "version": "3.6.7"
  }
 },
 "nbformat": 4,
 "nbformat_minor": 2
}
