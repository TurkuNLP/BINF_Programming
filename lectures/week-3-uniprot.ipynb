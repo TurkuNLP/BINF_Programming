{
 "cells": [
  {
   "cell_type": "markdown",
   "metadata": {},
   "source": [
    "# Sequence records, part 2\n",
    "\n",
    "## Instructions\n",
    "\n",
    "This part of the course material does not rely on the Biopython tutorial. Rather, it shows how sequences can be searched and fetched from UniProt databases and how to use other online services.\n",
    "\n",
    "Read the [documentation for programmatic access to UniProt](https://www.uniprot.org/help/api). It is also recommended to read the [Proteins REST API](https://www.ebi.ac.uk/proteins/api/doc/), which is another way to access UniProt data.\n",
    "\n",
    "## Objectives\n",
    "\n",
    "- search and fetch sequence records from UniProt databases\n",
    "- use other online services programmatically\n",
    "- use named tuples to represent structural information\n",
    "\n",
    "## Summary\n",
    "\n",
    "[UniProt](https://www.uniprot.org/) is a resource of protein sequences and their annotations. Biopython does not support the online access to UniProt but can parse the XML format used by UniProt. Fortunately, UniProt has a simple API to search and fetch data.\n",
    "\n",
    "The [`requests`](http://requests.readthedocs.org/en/latest/) module is a simple-to-use module for HTTP-based communication. With this module, the UniProt API can be used in a similar manner as EUtils can be used via Biopython, which makes the approaches used in the previous part of the course relevant. The `requests` module will also be used to communicate with other online services."
   ]
  },
  {
   "cell_type": "code",
   "execution_count": null,
   "metadata": {},
   "outputs": [],
   "source": [
    "import requests as R"
   ]
  },
  {
   "cell_type": "markdown",
   "metadata": {},
   "source": [
    "#### UniProt can supply records in various formats\n",
    "\n",
    "The simplest query is to fetch a single record from UniProt. The web address specifies both the ID of the record and the format of the output."
   ]
  },
  {
   "cell_type": "code",
   "execution_count": null,
   "metadata": {},
   "outputs": [],
   "source": [
    "# API address\n",
    "# (%s are placeholders for user input)\n",
    "base = \"https://www.uniprot.org/uniprot/%s.%s\"\n",
    "\n",
    "# record ID\n",
    "uid = 'P12345'\n",
    "# output format\n",
    "fmt = 'fasta'\n",
    "\n",
    "# replace the first %s with ID and the second %s with format\n",
    "url = base%(uid, fmt)\n",
    "\n",
    "# send query and get response\n",
    "r = R.get(url)"
   ]
  },
  {
   "cell_type": "code",
   "execution_count": null,
   "metadata": {},
   "outputs": [],
   "source": [
    "# web address that was used (you can try and see what it looks like in browser)\n",
    "print(r.url)\n",
    "\n",
    "# (the address 'https://www.uniprot.org/uniprot/P12345' would return HTML that you normally see in the browser)"
   ]
  },
  {
   "cell_type": "code",
   "execution_count": null,
   "metadata": {},
   "outputs": [],
   "source": [
    "# record in FASTA format as requested\n",
    "print(r.text)"
   ]
  },
  {
   "cell_type": "markdown",
   "metadata": {},
   "source": [
    "Full records can be obtained in the XML format."
   ]
  },
  {
   "cell_type": "code",
   "execution_count": null,
   "metadata": {},
   "outputs": [],
   "source": [
    "# API address\n",
    "base = \"https://www.uniprot.org/uniprot/%s.%s\"\n",
    "\n",
    "uid = 'P12345'\n",
    "fmt = 'xml'\n",
    "\n",
    "url = base%(uid, fmt)\n",
    "r = R.get(url)\n",
    "\n",
    "# save record to file\n",
    "with open('P12345.xml', 'w') as f:\n",
    "    f.write(r.text)"
   ]
  },
  {
   "cell_type": "markdown",
   "metadata": {},
   "source": [
    "#### Biopython can parse UniProt XML\n",
    "\n",
    "The UniProt XML can be parsed by the `Bio.SeqIO` module."
   ]
  },
  {
   "cell_type": "code",
   "execution_count": null,
   "metadata": {},
   "outputs": [],
   "source": [
    "import Bio.SeqIO as BSIO\n",
    "\n",
    "# parse a single record in the UniProt XML format to a SeqRecord object\n",
    "r = BSIO.read(\"P12345.xml\", \"uniprot-xml\")\n",
    "\n",
    "# SeqRecord object\n",
    "print(r)"
   ]
  },
  {
   "cell_type": "markdown",
   "metadata": {},
   "source": [
    "### UniProt can be queried for records satisfying specific conditions\n",
    "\n",
    "Queries to UniProt can be made by sending the query (as you would write it into the search box in a browser) to the address `https://www.uniprot.org/uniprot`. The details of the query are supplied as parameters rather than as part of the address.\n",
    "\n",
    "Take a look at the [Query API](https://www.uniprot.org/help/api_queries) for a list of parameters that can be used. Note particularly the `limit` and `offset` parameters, which correspond to the `retstart` and `retmax` arguments of EUtils."
   ]
  },
  {
   "cell_type": "code",
   "execution_count": null,
   "metadata": {},
   "outputs": [],
   "source": [
    "# API address\n",
    "url = \"https://www.uniprot.org/uniprot\"\n",
    "\n",
    "# required parameters as dictionary\n",
    "data = {\n",
    "    # query\n",
    "    # - reviewed:yes == manually annotated\n",
    "    # - name:p53 == proteins with 'p53' in their names\n",
    "    # - organism:\"Homo sapiens (Human) [9606]\" == proteins from human\n",
    "    'query': 'reviewed:yes AND name:p53 AND organism:\"Homo sapiens (Human) [9606]\"',\n",
    "    # output in FASTA format\n",
    "    'format': 'fasta',\n",
    "    # fetch the first three records\n",
    "    'limit': '3',\n",
    "}\n",
    "\n",
    "# send query and get response\n",
    "r = R.get(url, params=data)\n",
    "\n",
    "# save to file\n",
    "with open('sequences.fasta', 'w') as f:\n",
    "    f.write(r.text)"
   ]
  },
  {
   "cell_type": "markdown",
   "metadata": {},
   "source": [
    "The UniProt website uses the same API when it is accessed with a browser. It is therefore possible to first design a query in the browser and then implement it in the code."
   ]
  },
  {
   "cell_type": "code",
   "execution_count": null,
   "metadata": {},
   "outputs": [],
   "source": [
    "# the url of the query\n",
    "# (try it in the browser after removing the \"format=fasta\" parameter)\n",
    "print(r.url)"
   ]
  },
  {
   "cell_type": "code",
   "execution_count": null,
   "metadata": {},
   "outputs": [],
   "source": [
    "# show file content\n",
    "with open('sequences.fasta') as f:\n",
    "    print(f.read())"
   ]
  },
  {
   "cell_type": "markdown",
   "metadata": {},
   "source": [
    "If you only need the list of matching IDs, there is no need to fetch any sequences."
   ]
  },
  {
   "cell_type": "code",
   "execution_count": null,
   "metadata": {},
   "outputs": [],
   "source": [
    "# API address\n",
    "url = \"https://www.uniprot.org/uniprot\"\n",
    "\n",
    "# required parameters as dictionary\n",
    "data = {\n",
    "    'query': 'reviewed:yes AND name:p53 AND organism:\"Homo sapiens (Human) [9606]\"',\n",
    "    # output as list of IDs\n",
    "    'format': 'list',\n",
    "    # fetch the first ten records\n",
    "    'limit': '10',\n",
    "}\n",
    "\n",
    "# send query and get response\n",
    "r = R.get(url, params=data)\n",
    "\n",
    "# store data to variable\n",
    "ids = r.text\n",
    "\n",
    "# raw text output\n",
    "print(ids)"
   ]
  },
  {
   "cell_type": "markdown",
   "metadata": {},
   "source": [
    "The output can be easily parsed into a Python list."
   ]
  },
  {
   "cell_type": "code",
   "execution_count": null,
   "metadata": {},
   "outputs": [],
   "source": [
    "# remove surrounding whitespace and split at newlines\n",
    "ids = ids.strip().split(\"\\n\")\n",
    "\n",
    "# Python list of ids\n",
    "print(ids)"
   ]
  },
  {
   "cell_type": "markdown",
   "metadata": {},
   "source": [
    "It is also possible to fetch specific fields in a tabular format. The `columns` parameter speficies which fields to fetch. See the [Query API](https://www.uniprot.org/help/api_queries) for the details of fields."
   ]
  },
  {
   "cell_type": "code",
   "execution_count": null,
   "metadata": {},
   "outputs": [],
   "source": [
    "# API address\n",
    "url = \"https://www.uniprot.org/uniprot\"\n",
    "\n",
    "# required parameters as dictionary\n",
    "data = {\n",
    "    'query': 'reviewed:yes AND name:p53 AND organism:\"Homo sapiens (Human) [9606]\"',\n",
    "    # output as table\n",
    "    'format': 'tab',\n",
    "    # desired fields as comma-separated list\n",
    "    'columns': 'id,entry name,length',\n",
    "    # fetch the first ten records\n",
    "    'limit': '10',\n",
    "}\n",
    "\n",
    "# send query and get response\n",
    "r = R.get(url, params=data)\n",
    "\n",
    "# store data to variable\n",
    "text = r.text\n",
    "\n",
    "# raw text output\n",
    "print(text)"
   ]
  },
  {
   "cell_type": "markdown",
   "metadata": {},
   "source": [
    "#### Named tuples are convenient for simple data structures\n",
    "\n",
    "The [`collections`](https://docs.python.org/3/library/collections.html) module of Python contains functions for handling and organising data. The `namedtuple` function can be used to create custom classes that are tuples but have named fields. They are convenient in storing simple structured data, like fields from UniProt records."
   ]
  },
  {
   "cell_type": "code",
   "execution_count": null,
   "metadata": {},
   "outputs": [],
   "source": [
    "import collections as C"
   ]
  },
  {
   "cell_type": "code",
   "execution_count": null,
   "metadata": {},
   "outputs": [],
   "source": [
    "# data as tuple\n",
    "record = ('P04637', 'P53_HUMAN', 393)\n",
    "print(record)"
   ]
  },
  {
   "cell_type": "code",
   "execution_count": null,
   "metadata": {},
   "outputs": [],
   "source": [
    "# access via index\n",
    "print(record[1])"
   ]
  },
  {
   "cell_type": "code",
   "execution_count": null,
   "metadata": {},
   "outputs": [],
   "source": [
    "# named tuple class that models some UniProt fields\n",
    "# ('Entry' is the name of the class)\n",
    "Entry = C.namedtuple('Entry', ['id', 'name', 'length'])\n",
    "\n",
    "# data as named tuple\n",
    "record = Entry('P04637', 'P53_HUMAN', 393)\n",
    "print(record)"
   ]
  },
  {
   "cell_type": "code",
   "execution_count": null,
   "metadata": {},
   "outputs": [],
   "source": [
    "# access via index\n",
    "print(record[1])"
   ]
  },
  {
   "cell_type": "code",
   "execution_count": null,
   "metadata": {},
   "outputs": [],
   "source": [
    "# access via name\n",
    "print(record.name)"
   ]
  },
  {
   "cell_type": "code",
   "execution_count": null,
   "metadata": {},
   "outputs": [],
   "source": [
    "# data as tuple\n",
    "data = ['P04637', 'P53_HUMAN', 393]\n",
    "\n",
    "# data as named tuple\n",
    "# (the * operator converts a list into positional arguments)\n",
    "record = Entry(*data)\n",
    "print(record)"
   ]
  },
  {
   "cell_type": "markdown",
   "metadata": {},
   "source": [
    "#### UniProt provides a mapping service between database IDs\n",
    "\n",
    "Each database has its own set of records, but much of the biological information is shared between databases. UniProt can map between database IDs such that a record in one database is paired with the same (or corresponding) record(s) in another database."
   ]
  },
  {
   "cell_type": "code",
   "execution_count": null,
   "metadata": {},
   "outputs": [],
   "source": [
    "# API address\n",
    "url = 'https://www.uniprot.org/uploadlists/'\n",
    "\n",
    "# required parameters as dictionary\n",
    "data = {\n",
    "    # map from this database\n",
    "    'from': 'ACC',\n",
    "    # map to this database\n",
    "    'to': 'PIR',\n",
    "    # output format\n",
    "    'format': 'tab',\n",
    "    # space-separated list of IDs\n",
    "    'query': 'P12345 P12346'\n",
    "}\n",
    "\n",
    "# send query and get response\n",
    "r = R.get(url, params=data)\n",
    "\n",
    "# store data to variable\n",
    "text = r.text\n",
    "\n",
    "# raw text output\n",
    "print(text)"
   ]
  },
  {
   "cell_type": "markdown",
   "metadata": {},
   "source": [
    "If you are mapping from a UniProt record, the cross-references could also be accessed via the `dbxrefs` attribute of the `SeqRecord` object. If you do not have the full record or if you need to map to UniProt from another database, the UniProt mapping service is useful."
   ]
  },
  {
   "cell_type": "code",
   "execution_count": null,
   "metadata": {},
   "outputs": [],
   "source": [
    "# parse a single UniProt record\n",
    "r = BSIO.read(\"P12345.xml\", \"uniprot-xml\")\n",
    "\n",
    "# the PIR ID 'B27103' is listed as a cross-reference for the UniProt record 'P12345'\n",
    "for ref in r.dbxrefs:\n",
    "    if ref.startswith('PIR:'):\n",
    "        print(ref)"
   ]
  },
  {
   "cell_type": "markdown",
   "metadata": {},
   "source": [
    "#### Other online services can be accessed by scraping HTML\n",
    "\n",
    "You should primarily use APIs to access online services because they are intended for programmatic access. Always read the documentation of the service to see how the owners of the service ask you to use their service.\n",
    "\n",
    "Some online services do not have any API. These services can still be used by communicating with the website like a browser would. In these cases, the services respond in the HTML format because that is what browsers except. Since each website has its own HTML structure, there is no simple way to extract the desired information from the HTML response. One must look at the HTML of the website and implement your own solution."
   ]
  },
  {
   "cell_type": "markdown",
   "metadata": {},
   "source": [
    "#### SecretomeP service can be accessed via its website\n",
    "\n",
    "The [SecretomeP](http://www.cbs.dtu.dk/services/SecretomeP/) service by DTU Bioinformatics serves as an example in the course. Look at the source of the website to see how the user input is collected with the online form and send to the server.\n",
    "\n",
    "To simulate the behaviour of the online form in a browser, it is good to first locate the `form` element and then match the visible form elements to their argument names and values. For example, the text area to supply the sequence is provided by\n",
    "\n",
    "`<textarea name=\"SEQPASTE\" rows=3 cols=64>`\n",
    "\n",
    "and the \"Organism group\" radio buttons are provided by\n",
    "\n",
    "- `<input name=\"orgtype\" type=\"radio\" value=\"gram-\" ...>`\n",
    "- `<input name=\"orgtype\" type=\"radio\" value=\"gram+\" ...>`.\n",
    "- `<input name=\"orgtype\" type=\"radio\" value=\"mam\" ...>`\n",
    "\n",
    "The form also contains a hidden field\n",
    "    \n",
    "`<input type=HIDDEN name=configfile value=\"/usr/opt/www/pub/CBS/services/SecretomeP-2.0/SecretomeP.athena.cf\">`,\n",
    "\n",
    "the value of which is sent along the user input. The destination is defined in the element\n",
    "\n",
    "`<form ... action=\"/cgi-bin/webface2.fcgi\" method=\"POST\">`,\n",
    "\n",
    "which indicates that the data is sent to `http://www.cbs.dtu.dk/cgi-bin/webface2.fcgi` as a POST request. Note the relative address in the `action` field."
   ]
  },
  {
   "cell_type": "code",
   "execution_count": null,
   "metadata": {},
   "outputs": [],
   "source": [
    "import Bio.Seq as BS\n",
    "\n",
    "# sequences to use as input\n",
    "# (since the service accepts FASTA format, we can use the file content as such)\n",
    "with open('sequences.fasta') as f:\n",
    "    seqs = f.read()\n",
    "\n",
    "# it seems that the SignalP service expects Windows newlines\n",
    "# (i.e. replace \\n with \\r\\n)\n",
    "seqs = seqs.replace('\\n', '\\r\\n')\n",
    "\n",
    "# service address\n",
    "url = 'http://www.cbs.dtu.dk/cgi-bin/webface2.fcgi'\n",
    "\n",
    "# required parameters as dictionary\n",
    "data = {\n",
    "    # hidden input\n",
    "    'configfile': '/usr/opt/www/pub/CBS/services/SecretomeP-2.0/SecretomeP.athena.cf',\n",
    "    # input from text area\n",
    "    'SEQPASTE': seqs,\n",
    "    # input from radio buttons\n",
    "    'orgtype': 'mam',\n",
    "}\n",
    "\n",
    "# send query as POST and get response\n",
    "r = R.post(url, data=data)\n",
    "\n",
    "# store response to variable\n",
    "html = r.text\n",
    "\n",
    "# raw response as HTML\n",
    "print(html)"
   ]
  },
  {
   "cell_type": "markdown",
   "metadata": {},
   "source": [
    "The SignalP service does not respond with the results but rather gives a job ID, which can be used to fetch the actual results as soon as they are ready. The extraction of the `jobid` value from the HTML response can be achieved with a regular expression, for example.\n",
    "\n",
    "The job ID is mentioned several times in the HTML. The code below extracts it from the line that has the following format:\n",
    "\n",
    "`<!-- jobid: 56B2792F00004B9894F74F8C status: queued -->`"
   ]
  },
  {
   "cell_type": "code",
   "execution_count": null,
   "metadata": {},
   "outputs": [],
   "source": [
    "import re as RE\n",
    "\n",
    "# regular expression to match \"jobid: X status:\" where X is 24 non-whitespace characters\n",
    "# (it will match for \"jobid: XXXXXXXXXXXXXXXXXXXXXXXX status:\" as required)\n",
    "match = RE.search(r\"jobid: (\\S{24}) status:\", html)\n",
    "\n",
    "jobid = \"\"\n",
    "# check if there is a match (there should be...)\n",
    "if match:\n",
    "    # extract the section that was enclosed in the parenthesis\n",
    "    jobid = match.group(1)\n",
    "\n",
    "# extracted job ID\n",
    "print(jobid)"
   ]
  },
  {
   "cell_type": "markdown",
   "metadata": {},
   "source": [
    "Based on the first response, the results can be fetched from the same address to which the job was submitted, but this time the request should be a GET request with `jobid` as a parameter:\n",
    "\n",
    "`http://www.cbs.dtu.dk//cgi-bin/webface2.fcgi?jobid=X`,\n",
    "\n",
    "where X is the job ID. This is a GET request as indicated by the presence of `?`."
   ]
  },
  {
   "cell_type": "code",
   "execution_count": null,
   "metadata": {},
   "outputs": [],
   "source": [
    "# service address\n",
    "url = 'http://www.cbs.dtu.dk/cgi-bin/webface2.fcgi'\n",
    "\n",
    "# request data as dictionary\n",
    "data = {\n",
    "    # job ID\n",
    "    'jobid': jobid,\n",
    "}\n",
    "\n",
    "# fetch the actual results\n",
    "r = R.get(url, params=data)\n",
    "\n",
    "print(r.text)"
   ]
  },
  {
   "cell_type": "markdown",
   "metadata": {},
   "source": [
    "Again, the response is in HTML and the desired information must be extracted from it. Looking at the response, the relevant information is in the `<PRE>` element which contains a few lines in a tabular format.\n",
    "\n",
    "If you get a response that looks like the first response, your job is still queued and not yet ready. Wait for a few seconds (or minutes/hours/days, depending on the service) and try again."
   ]
  }
 ],
 "metadata": {
  "kernelspec": {
   "display_name": "Python 3",
   "language": "python",
   "name": "python3"
  },
  "language_info": {
   "codemirror_mode": {
    "name": "ipython",
    "version": 3
   },
   "file_extension": ".py",
   "mimetype": "text/x-python",
   "name": "python",
   "nbconvert_exporter": "python",
   "pygments_lexer": "ipython3",
   "version": "3.6.7"
  }
 },
 "nbformat": 4,
 "nbformat_minor": 2
}
