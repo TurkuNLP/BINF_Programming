{
 "cells": [
  {
   "cell_type": "markdown",
   "metadata": {},
   "source": [
    "# Sequence Alignment\n",
    "\n",
    "\n",
    "## Pairwise alignment\n",
    "\n",
    "Module pairwise alignment in Biopython uses dynamic programming algorithm. \n",
    "\n",
    "- a global alignment finds the best alignment of all characters between 2 sequences\n",
    "- a local alignment finds the subsequences that align best between 2 sequences \n",
    "\n",
    "Match scores and gap penalties should be specified for any alignment. Compatible elements (not neccessarily the same character) should be given higher score. Gap or incompatibles should be given lower or negative scores, signifying the mismatch, though in some case 0 is used. \n",
    "\n",
    "Bio.pairwise2 contains essentially the same algorithms as `water` for `local alignment` and `needle` for `global alignment` used in EMBOSS.  "
   ]
  },
  {
   "cell_type": "code",
   "execution_count": null,
   "metadata": {},
   "outputs": [],
   "source": [
    "from Bio import pairwise2 \n",
    "## load the module\n",
    "\n",
    "## globalxx\n",
    "## use global alignment function which only score 1 \n",
    "## for each match (0 for both penalty and mismatch)\n",
    "\n",
    "alignments = pairwise2.align.globalxx(\"ACCGT\", \"ACG\")\n",
    "## perform global alignments (xx) between two sequences. \n",
    "\n",
    "\n",
    "for alignment in alignments:\n",
    "    ## Each alignment is a tuple consisting of the two aligned sequences, \n",
    "    ## the score, the start and the end positions of the alignment \n",
    "    ## (in global alignments the start is always 0 and the end the length of the alignment). \n",
    "    print(alignment)\n",
    "    \n",
    "    ## print the alignment in a nicer format\n",
    "    from Bio.pairwise2 import format_alignment\n",
    "    print(format_alignment(*alignment))\n",
    "    print(repr(alignment))\n",
    "    \n"
   ]
  },
  {
   "cell_type": "markdown",
   "metadata": {},
   "source": [
    "### CODE  DESCRIPTION\n",
    "You need to specify the `match parameters` and `gap penalty parameters` to control the scoring output. `globalxx` basically sets only match score = 1 and gap penalty score = 0. Setting scoring parameters is easy using the list below.   \n",
    "\n",
    "##### match parameters\n",
    "* `x`     No parameters. Identical characters have score of 1, otherwise 0.\n",
    "* `m`     A match score is the score of identical chars, otherwise mismatch score.\n",
    "* `d`     A dictionary returns the score of any pair of characters.\n",
    "* `c`     A callback function returns scores.\n",
    "\n",
    "##### gap penalty parameters\n",
    "* `x`     No gap penalties.\n",
    "* `s`     Same open and extend gap penalties for both sequences.\n",
    "* `d`     The sequences have different open and extend gap penalties.\n",
    "* `c`     A callback function returns the gap penalties."
   ]
  },
  {
   "cell_type": "code",
   "execution_count": null,
   "metadata": {},
   "outputs": [],
   "source": [
    "from Bio import pairwise2 \n",
    "from Bio.pairwise2 import format_alignment\n",
    "\n",
    "\n",
    "## m match score = 2, mismatch = 0\n",
    "## x no gap penalty\n",
    "for alignment in pairwise2.align.globalmx(\"ACCGT\", \"ACG\", 2, -1):\n",
    "    print(format_alignment(*alignment))\n",
    "    ## score = 6, since only matching scores\n",
    "\n",
    "    \n",
    "## match score = 2, mismatch = -1\n",
    "## gap opening = 0.5, gap extension = 0.1\n",
    "for a in pairwise2.align.globalms(\"ACCGT\", \"ACG\", 2, -1, -.5, -.1):\n",
    "    print(format_alignment(*a))\n",
    "    ## score = 5, 2*3 (matchings) + 2*-0.5 (gap opening)"
   ]
  },
  {
   "cell_type": "markdown",
   "metadata": {},
   "source": [
    "### Substitution matrices\n",
    "\n",
    "For proteins, scoring only identical amino acids on both sequences as match is biologically incorrect. To score alignments correctly, you need to know what are the compatible amino acids. This can be done by using substitution matrix. The table is stored as dictionary and can be directly given to parameter `d` in **match parameters**. The alignment scores are directly influenced by selected matrix.\n",
    "\n",
    "More details on types, names and scores are described on this following page.\n",
    "https://biopython.org/DIST/docs/api/Bio.SubsMat.MatrixInfo-module.html"
   ]
  },
  {
   "cell_type": "code",
   "execution_count": null,
   "metadata": {},
   "outputs": [],
   "source": [
    "from Bio.SubsMat import MatrixInfo as matlist\n",
    "\n",
    "print(matlist.available_matrices)\n",
    "## print list of available matrices\n",
    "\n",
    "matrix = matlist.blosum62\n",
    "## set the substitution matrix to be used\n",
    "\n",
    "\n",
    "## BLOSUM62 is more stringent than BLOSUM45, \n",
    "## thus the alignment score is lower\n",
    "for a in pairwise2.align.globaldx(\"KEVLA\", \"EVL\", matrix):\n",
    "    print(format_alignment(*a))\n",
    "    \n",
    "    \n",
    "## change to use BLOSUM45 for distantly related sequences\n",
    "## this allows less identical sequence to score above threshold\n",
    "for a in pairwise2.align.globaldx(\"KEVLA\", \"EVL\", matlist.blosum45):\n",
    "    print(format_alignment(*a))"
   ]
  },
  {
   "cell_type": "code",
   "execution_count": null,
   "metadata": {},
   "outputs": [],
   "source": [
    "from Bio import pairwise2\n",
    "from Bio import SeqIO\n",
    "\n",
    "\n",
    "## use SeqIO to read in input files\n",
    "seq1 = SeqIO.read(\"alpha.faa\", \"fasta\")\n",
    "seq2 = SeqIO.read(\"beta.faa\", \"fasta\")\n",
    "\n",
    "\n",
    "alignments = pairwise2.align.globalds(seq1.seq, seq2.seq)\n",
    "## global alignment \n",
    "## d : A dictionary of the score of any pair of characters. \n",
    "## s : Same open and extend gap penalties for both sequences.\n",
    "## should return error since not enough parameters specified \n",
    "## have to specify substitution matrix dictionary (1 parameter)\n",
    "## also 2 parameters for penalties of gap openning and extension"
   ]
  },
  {
   "cell_type": "code",
   "execution_count": null,
   "metadata": {},
   "outputs": [],
   "source": [
    "from Bio.SubsMat.MatrixInfo import blosum62\n",
    "\n",
    "alignments = pairwise2.align.globalds(seq1.seq, seq2.seq, blosum62, -10, -1)\n",
    "## supply enough parameters supplied so the code runs\n",
    "print(format_alignment(*alignments[0]))\n",
    "## have a look at the first alignment\n",
    "## compare with the globalxx below\n",
    "\n",
    "alignments = pairwise2.align.localxx(seq1.seq, seq2.seq)\n",
    "print(format_alignment(*alignments[1]))\n",
    "## globalxx give different scores from global ds \n",
    "## there can be many alignments, just randomly pick the second one here"
   ]
  },
  {
   "cell_type": "code",
   "execution_count": null,
   "metadata": {},
   "outputs": [],
   "source": [
    "alignments = pairwise2.align.localxx(seq1.seq, seq2.seq, one_alignment_only=True)\n",
    "## will return only the best alignment\n",
    "## this takes shorter time\n",
    "print(format_alignment(*alignments[0]))\n",
    "\n",
    "\n",
    "alignments = pairwise2.align.localxx(seq1.seq, seq2.seq, score_only=True)\n",
    "##  speed gain\n",
    "## only print the score\n",
    "print('score of alignment', alignments)"
   ]
  },
  {
   "cell_type": "markdown",
   "metadata": {},
   "source": [
    "## Alignment tools for multiple sequence alignment\n",
    "\n",
    "The implementation or calculation for both pairwise alignments and multiple sequence alignments can be slow. It is thus recommended to use better optimized alignment programs. Unfortunately, the algorithms are not implemented in Biopython directly. So accessing these tools is done by running programs inside python via the command-line wrapper provided by Biopython.  \n",
    "\n",
    "With Biopython, this only takes 4 steps;\n",
    "\n",
    "1. Install the tools you want to use, e.g. MUSCLE, EMBOSS or CLUSTALW.\n",
    "2. Prepare an input file of your unaligned sequences in FASTA format.\n",
    "3. Call the corresponding command line wrapper, different command for each tool, to process this input file.\n",
    "4. Read or process the output from the tool, i.e. your aligned sequences.\n"
   ]
  },
  {
   "cell_type": "code",
   "execution_count": null,
   "metadata": {},
   "outputs": [],
   "source": [
    "import Bio.Align.Applications\n",
    "dir(Bio.Align.Applications)\n",
    "## available tools with command line wrappers "
   ]
  },
  {
   "cell_type": "markdown",
   "metadata": {},
   "source": [
    "### ClustalW\n",
    "\n",
    "The wrapper uses subprocess module to run another program inside python.\n",
    "The program prints text on the screen which is piped via `standard output` and `standard error`. The input file is `standard input`."
   ]
  },
  {
   "cell_type": "code",
   "execution_count": null,
   "metadata": {},
   "outputs": [],
   "source": [
    "import os\n",
    "\n",
    "from Bio.Align.Applications import ClustalwCommandline\n",
    "## help(ClustalwCommandline)\n",
    "## print help \n",
    "\n",
    "clustalw_exe = '/usr/bin/clustalw' \n",
    "## for Windows user, change this to your installed\n",
    "## e.g. r\"C:\\Program Files\\new clustal\\clustalw2.exe\"\n",
    "    \n",
    "clustalw_cline = ClustalwCommandline(clustalw_exe, infile=\"new_opuntia.fasta\")\n",
    "## clustalw_cline = ClustalwCommandline(\"clustalw2\", infile=\"opuntia.fasta\")\n",
    "\n",
    "assert os.path.isfile(clustalw_exe), \"Clustal W executable missing\"\n",
    "stdout, stderr = clustalw_cline()\n"
   ]
  },
  {
   "cell_type": "code",
   "execution_count": null,
   "metadata": {},
   "outputs": [],
   "source": [
    "print(stdout)"
   ]
  },
  {
   "cell_type": "code",
   "execution_count": null,
   "metadata": {},
   "outputs": [],
   "source": [
    "print(stderr)\n",
    "# if there is no error, it should be empty string"
   ]
  },
  {
   "cell_type": "code",
   "execution_count": null,
   "metadata": {},
   "outputs": [],
   "source": [
    "from Bio import AlignIO\n",
    "\n",
    "align = AlignIO.read(\"new_opuntia.aln\", \"clustal\")\n",
    "## specify the format of alignment file\n",
    "\n",
    "print(align)"
   ]
  },
  {
   "cell_type": "code",
   "execution_count": null,
   "metadata": {},
   "outputs": [],
   "source": [
    "from Bio import Phylo\n",
    "tree = Phylo.read(\"new_opuntia.dnd\", \"newick\")\n",
    "Phylo.draw_ascii(tree)\n",
    "## the result from clustal allows the tree view"
   ]
  },
  {
   "cell_type": "markdown",
   "metadata": {},
   "source": [
    "### MUSCLE\n",
    "Input file format is `fasta` and it saves output file in either `fasta` or `clustal` format which are compatible with Biopython, using AlignIO for reading or parsing.\n",
    "\n",
    "It can also output in GCG MSF or HTML format (not covered) as it is not supported by Biopython in parsing it."
   ]
  },
  {
   "cell_type": "code",
   "execution_count": null,
   "metadata": {},
   "outputs": [],
   "source": [
    "from Bio.Align.Applications import MuscleCommandline\n",
    "help(MuscleCommandline)"
   ]
  },
  {
   "cell_type": "code",
   "execution_count": null,
   "metadata": {},
   "outputs": [],
   "source": [
    "from Bio.Align.Applications import MuscleCommandline\n",
    "cline = MuscleCommandline(input=\"opuntia.fasta\", out=\"opuntia.clw\", clw=True)\n",
    "stdout, stderr = cline()\n",
    "\n",
    "print(stderr)\n",
    "\n",
    "\n",
    "## alignment has only one sequence in fasta format\n",
    "## error if try to open in clustal format\n",
    "AlignIO.read(open(\"opuntia.clw\"), \"clustal\")"
   ]
  },
  {
   "cell_type": "code",
   "execution_count": null,
   "metadata": {},
   "outputs": [],
   "source": [
    "from Bio.Align.Applications import MuscleCommandline\n",
    "cline = MuscleCommandline(input=\"opuntia.fasta\", out=\"opuntia.txt\")\n",
    "## default format for MUSCLE is fasta\n",
    "stdout, stderr = cline()\n",
    "\n",
    "## alignment has only one sequence, \n",
    "## no error if read in fasta format\n",
    "print(AlignIO.read(open(\"opuntia.txt\"), \"fasta\"))"
   ]
  },
  {
   "cell_type": "code",
   "execution_count": null,
   "metadata": {},
   "outputs": [],
   "source": [
    "from Bio.Align.Applications import MuscleCommandline\n",
    "\n",
    "try:\n",
    "    from StringIO import StringIO\n",
    "except ImportError:\n",
    "    from io import StringIO\n",
    "    \n",
    "    \n",
    "muscle_cline = MuscleCommandline(input=\"new_opuntia.fasta\")\n",
    "## run command line without writing the output file\n",
    "## default format of MUSCLE is fasta\n",
    "\n",
    "stdout, stderr = muscle_cline()\n",
    "## the result is in stdout\n",
    "\n",
    "\n",
    "try:\n",
    "    align = AlignIO.read(StringIO(stderr), \"fasta\")\n",
    "    ## check if alignment is fine\n",
    "except:\n",
    "    align = AlignIO.read(StringIO(stdout), \"fasta\")\n",
    "    \n",
    "print(align)"
   ]
  },
  {
   "cell_type": "markdown",
   "metadata": {},
   "source": [
    "### EMBOSS program\n",
    "The program includes algorithms for both local (Smith-Waterman) and global (Needleman-Wunch) alignments. "
   ]
  },
  {
   "cell_type": "code",
   "execution_count": null,
   "metadata": {},
   "outputs": [],
   "source": [
    "from Bio.Emboss.Applications import NeedleCommandline\n",
    "\n",
    "## for ubuntu system, giving command \n",
    "## without specifying the installed path of EMBOSS seems to work\n",
    "## both gapopen and gapextend need to be set \n",
    "needle_cline = NeedleCommandline(asequence=\"alpha.faa\", bsequence=\"beta.faa\", \n",
    "                                 gapopen=10, gapextend=0.5, outfile=\"needle.txt\")\n",
    "\n",
    "\n",
    "print(needle_cline)\n",
    "# how the command line looks like\n",
    "\n",
    "stdout, stderr = needle_cline()\n",
    "# run the program and save result in stdout & stderr\n",
    "\n",
    "print(stdout)\n",
    "print(stderr)"
   ]
  },
  {
   "cell_type": "code",
   "execution_count": null,
   "metadata": {},
   "outputs": [],
   "source": [
    "from Bio.Emboss.Applications import NeedleCommandline\n",
    "\n",
    "# specify the location where EMBOSS program is installed\n",
    "needle_cline = NeedleCommandline(r\"C:\\EMBOSS\\needle.exe\",\n",
    "                                 asequence=\"alpha.faa\", bsequence=\"beta.faa\",\n",
    "                                 gapopen=10, gapextend=0.5, outfile=\"needle.txt\")\n",
    "needle_cline()\n",
    "# result in error if the path is incorrect"
   ]
  },
  {
   "cell_type": "code",
   "execution_count": null,
   "metadata": {},
   "outputs": [],
   "source": [
    "from Bio.Emboss.Applications import WaterCommandline\n",
    "\n",
    "needle_cline = WaterCommandline()\n",
    "\n",
    "## provide the file name for each sequence \n",
    "needle_cline.asequence=\"alpha.faa\"\n",
    "needle_cline.bsequence=\"beta.faa\"\n",
    "\n",
    "## specify the gap open and gap extend cost\n",
    "needle_cline.gapopen=10\n",
    "needle_cline.gapextend=0.5\n",
    "\n",
    "## save output file\n",
    "needle_cline.outfile=\"needle.txt\"\n",
    "\n",
    "## how the command line look like\n",
    "print(needle_cline)\n",
    "\n",
    "## run the program and combine output with error\n",
    "stdout, stderr = needle_cline(stdout=True, stderr=True)\n",
    "print(stdout + stderr)\n",
    "\n",
    "\n",
    "\n",
    "from Bio import AlignIO\n",
    "## use alignio to parse the result written in EMBOSS format\n",
    "align = AlignIO.read(\"needle.txt\", \"emboss\")\n",
    "\n",
    "## get alignment length\n",
    "print(align.get_alignment_length())\n"
   ]
  },
  {
   "cell_type": "markdown",
   "metadata": {},
   "source": [
    "### Parse the result of alignments \n",
    "\n",
    "AlignIO module is used for read and write sequence alignment. The functionality of the module is quite similar to SeqIO.\n"
   ]
  },
  {
   "cell_type": "code",
   "execution_count": null,
   "metadata": {},
   "outputs": [],
   "source": [
    "from Bio import AlignIO\n",
    "\n",
    "## use parse here even though there is only one alignment\n",
    "alignment = AlignIO.parse(open(\"PF18225_seed.sth\"), \"stockholm\")\n",
    "\n",
    "\n",
    "## AlignIO allows you to access information of each sequence\n",
    "## similar to SeqIO\n",
    "for i, align in enumerate(alignment):\n",
    "    print('alignment length', align.get_alignment_length())\n",
    "    print('')\n",
    "    for seqi in align:\n",
    "        print(seqi.seq)\n",
    "        print(seqi.name)\n",
    "        print(seqi.dbxrefs)\n",
    "        print(seqi.annotations)\n",
    "        print(seqi.description)"
   ]
  },
  {
   "cell_type": "markdown",
   "metadata": {},
   "source": [
    "### Change file format\n",
    "\n",
    "This is very simple using AlignIO."
   ]
  },
  {
   "cell_type": "code",
   "execution_count": null,
   "metadata": {},
   "outputs": [],
   "source": [
    "from Bio import AlignIO\n",
    "\n",
    "## open input file in read mode\n",
    "input_handle = open(\"PF18225_seed.sth\", \"r\")\n",
    "\n",
    "## open output file in write mode \n",
    "output_handle = open(\"PF18225_seed.phy\", \"w\")\n",
    "\n",
    "## uses parse here if there is more than one alignment\n",
    "## parse will also work if there is only one alignment\n",
    "alignments = AlignIO.parse(input_handle, \"stockholm\")\n",
    "\n",
    "\n",
    "## write out the alignment in phylip format\n",
    "AlignIO.write(alignments, output_handle, \"phylip\")\n",
    "\n",
    "## close both file handles\n",
    "output_handle.close()\n",
    "input_handle.close()\n"
   ]
  }
 ],
 "metadata": {
  "kernelspec": {
   "display_name": "Python 3",
   "language": "python",
   "name": "python3"
  },
  "language_info": {
   "codemirror_mode": {
    "name": "ipython",
    "version": 3
   },
   "file_extension": ".py",
   "mimetype": "text/x-python",
   "name": "python",
   "nbconvert_exporter": "python",
   "pygments_lexer": "ipython3",
   "version": "3.6.9"
  }
 },
 "nbformat": 4,
 "nbformat_minor": 2
}
