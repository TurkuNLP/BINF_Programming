{
 "cells": [
  {
   "cell_type": "markdown",
   "metadata": {},
   "source": [
    "# Some remarks on regular expressions\n",
    "\n",
    "This is a long topic, but I gather here the remarks on what I show during the lectures. You can have a look for example [here](https://docs.python.org/2/howto/regex.html)"
   ]
  },
  {
   "cell_type": "code",
   "execution_count": 2,
   "metadata": {
    "collapsed": false
   },
   "outputs": [
    {
     "name": "stdout",
     "output_type": "stream",
     "text": [
      "ACCT\n",
      "ACGT\n"
     ]
    }
   ],
   "source": [
    "import re #Module with regular expression functionality\n",
    "\n",
    "for match in re.findall(\"AC.T\",\"TACCTACGTT\"): #Look for AC then any character then T\n",
    "    print match\n",
    "    "
   ]
  },
  {
   "cell_type": "code",
   "execution_count": 3,
   "metadata": {
    "collapsed": false
   },
   "outputs": [
    {
     "name": "stdout",
     "output_type": "stream",
     "text": [
      "ACGT\n"
     ]
    }
   ],
   "source": [
    "for match in re.findall(\"AC[GA]T\",\"TACCTACGTT\"): #Look for AC then either G or A then T\n",
    "    print match"
   ]
  },
  {
   "cell_type": "code",
   "execution_count": 5,
   "metadata": {
    "collapsed": false
   },
   "outputs": [
    {
     "name": "stdout",
     "output_type": "stream",
     "text": [
      "match always the longest and I really mean longest\n"
     ]
    }
   ],
   "source": [
    "#look for \"match\" then space then as many characters as possible then space then \"longest\"\n",
    "for match in re.findall(\"match .* longest\", \"match always the longest and I really mean longest string\"):\n",
    "    print match\n",
    "    "
   ]
  },
  {
   "cell_type": "code",
   "execution_count": 6,
   "metadata": {
    "collapsed": false
   },
   "outputs": [
    {
     "name": "stdout",
     "output_type": "stream",
     "text": [
      "A\n",
      "C\n",
      "G\n",
      "T\n",
      "C\n",
      "G\n",
      "T\n"
     ]
    }
   ],
   "source": [
    "for match in re.findall(\"[ACGT]\",\"ACGTYHBCGT\"): #match a single character A, C, G, or T\n",
    "    print match"
   ]
  },
  {
   "cell_type": "code",
   "execution_count": 7,
   "metadata": {
    "collapsed": false
   },
   "outputs": [
    {
     "name": "stdout",
     "output_type": "stream",
     "text": [
      "Y\n",
      "H\n",
      "B\n"
     ]
    }
   ],
   "source": [
    "for match in re.findall(\"[^ACGT]\",\"ACGTYHBCGT\"): #match a single character which is not A, C, G, or T\n",
    "    print match"
   ]
  },
  {
   "cell_type": "code",
   "execution_count": 9,
   "metadata": {
    "collapsed": false
   },
   "outputs": [
    {
     "name": "stdout",
     "output_type": "stream",
     "text": [
      "ACGT???CGT\n",
      "ACGTCGT\n"
     ]
    }
   ],
   "source": [
    "print re.sub(\"[^ACGT]\",\"?\",\"ACGTYHBCGT\") #Replace all characters which are not A,C,G,T with ?\n",
    "print re.sub(\"[^ACGT]\",\"\",\"ACGTYHBCGT\") #Remove all characters which are not A,C,G,T\n"
   ]
  }
 ],
 "metadata": {
  "kernelspec": {
   "display_name": "Python 2",
   "language": "python",
   "name": "python2"
  },
  "language_info": {
   "codemirror_mode": {
    "name": "ipython",
    "version": 2
   },
   "file_extension": ".py",
   "mimetype": "text/x-python",
   "name": "python",
   "nbconvert_exporter": "python",
   "pygments_lexer": "ipython2",
   "version": "2.7.5+"
  }
 },
 "nbformat": 4,
 "nbformat_minor": 0
}
