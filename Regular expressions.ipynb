{
 "cells": [
  {
   "cell_type": "markdown",
   "metadata": {},
   "source": [
    "# Some remarks on regular expressions\n",
    "\n",
    "This is a long topic, but I gather here the remarks on what I show during the lectures. You can have a look for example [here](https://docs.python.org/2/howto/regex.html)"
   ]
  },
  {
   "cell_type": "code",
   "execution_count": null,
   "metadata": {},
   "outputs": [],
   "source": [
    "import re #Module with regular expression functionality\n",
    "\n",
    "for match in re.findall(\"AC.T\",\"TACCTACGTT\"): #Look for AC then any character then T\n",
    "    print(match)"
   ]
  },
  {
   "cell_type": "code",
   "execution_count": null,
   "metadata": {},
   "outputs": [],
   "source": [
    "for match in re.findall(\"AC[GA]T\",\"TACCTACGTT\"): #Look for AC then either G or A then T\n",
    "    print(match)"
   ]
  },
  {
   "cell_type": "code",
   "execution_count": null,
   "metadata": {},
   "outputs": [],
   "source": [
    "#look for \"match\" then space then as many characters as possible then space then \"longest\"\n",
    "for match in re.findall(\"match .* longest\", \"match always the longest and I really mean longest string\"):\n",
    "    print(match)\n",
    "    "
   ]
  },
  {
   "cell_type": "code",
   "execution_count": null,
   "metadata": {},
   "outputs": [],
   "source": [
    "for match in re.findall(\"[ACGT]\",\"ACGTYHBCGT\"): #match a single character A, C, G, or T\n",
    "    print(match)"
   ]
  },
  {
   "cell_type": "code",
   "execution_count": null,
   "metadata": {},
   "outputs": [],
   "source": [
    "for match in re.findall(\"[^ACGT]\",\"ACGTYHBCGT\"): #match a single character which is not A, C, G, or T\n",
    "    print(match)"
   ]
  },
  {
   "cell_type": "code",
   "execution_count": null,
   "metadata": {},
   "outputs": [],
   "source": [
    "print(re.sub(\"[^ACGT]\",\"?\",\"ACGTYHBCGT\")) #Replace all characters which are not A,C,G,T with ?\n",
    "print(re.sub(\"[^ACGT]\",\"\",\"ACGTYHBCGT\")) #Remove all characters which are not A,C,G,T\n"
   ]
  },
  {
   "cell_type": "code",
   "execution_count": null,
   "metadata": {},
   "outputs": [],
   "source": [
    "rexp=r\"jobid: (\\S+)\""
   ]
  }
 ],
 "metadata": {
  "kernelspec": {
   "display_name": "Python 3",
   "language": "python",
   "name": "python3"
  },
  "language_info": {
   "codemirror_mode": {
    "name": "ipython",
    "version": 3
   },
   "file_extension": ".py",
   "mimetype": "text/x-python",
   "name": "python",
   "nbconvert_exporter": "python",
   "pygments_lexer": "ipython3",
   "version": "3.6.7"
  }
 },
 "nbformat": 4,
 "nbformat_minor": 1
}
