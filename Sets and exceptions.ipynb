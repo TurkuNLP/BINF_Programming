{
 "cells": [
  {
   "cell_type": "markdown",
   "metadata": {},
   "source": [
    "# Sets\n",
    "\n",
    "Data structure for storing sets of items."
   ]
  },
  {
   "cell_type": "code",
   "execution_count": null,
   "metadata": {},
   "outputs": [],
   "source": [
    "s=set() #this is how you create a set\n",
    "\n",
    "s.add(5) #this is how you add items to sets\n",
    "s.add(\"hi\")\n",
    "s.add(5)\n",
    "s.add(\"ho\")\n",
    "s.add(\"hi\")\n",
    "\n",
    "s1=set([1,2,3,4,5]) #and you can also create sets from lists or any other iterables\n",
    "s2=set([4,5,6,7])\n",
    "\n",
    "#sets allow basic set operations\n",
    "print(\"s1\",s1)\n",
    "print(\"s2\",s2)\n",
    "print(\"s1&s2\",s1&s2) #intersection\n",
    "print(\"s1-s2\",s1-s2) #difference\n",
    "print(\"s1|s2\",s1|s2) #union\n",
    "\n",
    "print(\"s1 before union update\",s1)\n",
    "s1.update(s2)#union in-place\n",
    "print(\"s1 after union update\",s1)\n"
   ]
  },
  {
   "cell_type": "markdown",
   "metadata": {},
   "source": [
    "Set.remove() causes an error in case the item is not there."
   ]
  },
  {
   "cell_type": "code",
   "execution_count": null,
   "metadata": {},
   "outputs": [],
   "source": [
    "s1.remove(11)"
   ]
  },
  {
   "cell_type": "markdown",
   "metadata": {},
   "source": [
    "# Exceptions and try/except\n",
    "\n",
    "The `try ... except` block can be used to intercept these errors and recover"
   ]
  },
  {
   "cell_type": "code",
   "execution_count": null,
   "metadata": {},
   "outputs": [],
   "source": [
    "import traceback  #needed if we want to print the error\n",
    "\n",
    "try:\n",
    "    #Code to run\n",
    "    s1.remove(11)\n",
    "except KeyError: #react on key errors\n",
    "    #Code to run at the moment when an error happens in between try and except\n",
    "    print(\"Error. Happened. I'm inside except!\")\n",
    "    traceback.print_exc() #print the erorr (note - iPython notebook catches this and turns into the red block seemingly in the wrong place)\n",
    "    #error processed now, program continues\n",
    "    \n",
    "print(\"woohoo made it to the end\")\n",
    "\n"
   ]
  }
 ],
 "metadata": {
  "kernelspec": {
   "display_name": "Python 3",
   "language": "python",
   "name": "python3"
  },
  "language_info": {
   "codemirror_mode": {
    "name": "ipython",
    "version": 3
   },
   "file_extension": ".py",
   "mimetype": "text/x-python",
   "name": "python",
   "nbconvert_exporter": "python",
   "pygments_lexer": "ipython3",
   "version": "3.6.7"
  }
 },
 "nbformat": 4,
 "nbformat_minor": 1
}
