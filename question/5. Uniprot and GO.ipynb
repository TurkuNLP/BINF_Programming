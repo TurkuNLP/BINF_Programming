{
 "cells": [
  {
   "cell_type": "markdown",
   "metadata": {},
   "source": [
    "#### Exercise 5.1 Download 200 longest reviewed human proteins in UniProt\n",
    "\n",
    "Download from UniProt the 200 longest human proteins that have been reviewed. Store them in the file human_200.xml."
   ]
  },
  {
   "cell_type": "code",
   "execution_count": 54,
   "metadata": {},
   "outputs": [],
   "source": []
  },
  {
   "cell_type": "markdown",
   "metadata": {},
   "source": [
    "#### Exercise 5.2 Parse the GO file into a dictionary\n",
    "\n",
    "Download http://purl.obolibrary.org/obo/go.obo and then write a function which will parse this file and return a dictionary with GO term IDs as keys and NamedTuples (id, name, namespace, definition) as values. Check out the materials for UniProt and GO to see how named tuples are made and used."
   ]
  },
  {
   "cell_type": "code",
   "execution_count": null,
   "metadata": {},
   "outputs": [],
   "source": []
  },
  {
   "cell_type": "markdown",
   "metadata": {},
   "source": [
    "#### Exercise 5.3 Protein locations\n",
    "\n",
    "Combine the two first exercises in this round and write a program which will print the cellular component annotation for each of the 200 longest human proteins. The output could look something like this:\n",
    "\n",
    "P35555 FBN1_HUMAN: microfibril, extracellular region, proteinaceous extracellular matrix, basement membrane, extracellular space, extracellular matrix, extracellular exosome<br>\n",
    "P50851 LRBA_HUMAN: lysosome, endoplasmic reticulum, Golgi apparatus, plasma membrane, endomembrane system, membrane, integral component of membrane, cytoplasmic, membrane-bounded vesicle, extrinsic component of membrane<br>\n",
    "Q86YZ3 HORN_HUMAN: cornified envelope, nucleus, cytoplasm, cell envelope, keratohyalin granule, perinuclear region of cytoplasm, extracellular exosome<br>\n",
    "\n",
    "When submitting the exercise, please also paste a reasonably sized part of its output as a comment to your submission. Thanks!\n"
   ]
  },
  {
   "cell_type": "code",
   "execution_count": null,
   "metadata": {},
   "outputs": [],
   "source": []
  },
  {
   "cell_type": "markdown",
   "metadata": {},
   "source": [
    "#### Exercise 5.4 Table into list of named tuples\n",
    "\n",
    "In the UniProt materials is an unfinished program which grabs data from UniProt in a tabular format. Finish it such that the program produces a list of URec named tuples created from the tabular data. Preferably use the csv and StringIO modules.\n",
    "\n",
    "When submitting the exercise please also paste the relevant part of your program's output as a comment."
   ]
  },
  {
   "cell_type": "code",
   "execution_count": null,
   "metadata": {},
   "outputs": [],
   "source": []
  },
  {
   "cell_type": "markdown",
   "metadata": {},
   "source": [
    "#### Exercise 5.5 UniProt IDs to FASTA\n",
    "\n",
    "Below is a list of UniProt IDs. Make a text file with these IDs. Then write a program which will read this text file and produce a FASTA file with their sequences.\n",
    "                                                                            \n",
    "P00915                                                                          \n",
    "P00918                                                                          \n",
    "P43166                                                                          \n",
    "P07451                                                                          \n",
    "Q8N1Q1                                                                          \n",
    "P35219                                                                          \n",
    "P35218                                                                          \n",
    "Q9Y2D0                                                                          \n",
    "P23280                                                                          \n",
    "O75493                                                                          \n",
    "Q9NS85                                                                          \n",
    "Q16790                                                                          \n",
    "O43570                                                                          \n",
    "Q9ULX7                                                                          \n",
    "P22748                                                                          \n",
    "Q99N23\n"
   ]
  },
  {
   "cell_type": "code",
   "execution_count": null,
   "metadata": {},
   "outputs": [],
   "source": []
  },
  {
   "cell_type": "markdown",
   "metadata": {},
   "source": [
    "#### Exercise 5.6 SignalP and TMHMM services\n",
    "\n",
    "Run the sequences from the previous exercise through the SignalP and TMHMM services (preferrably programmatically, but please don't crash that service ;) and gather, for each sequence, its ID and the YES/NO predictions from these two services."
   ]
  },
  {
   "cell_type": "code",
   "execution_count": null,
   "metadata": {},
   "outputs": [],
   "source": []
  },
  {
   "cell_type": "markdown",
   "metadata": {},
   "source": [
    "#### Exercise 5.7 UniProt ID mapping service\n",
    "\n",
    "Below is a list of UniProt protein IDs. Map these to RefSeq protein IDs using the UniProt ID mapping service. Best will be to write a function which takes a list of IDs and returns a dictionary where each protein is a key and the value is a list of RefSeq identifiers.\n",
    "\n",
    "CC106_HUMAN FBX3_HUMAN BTBDA_HUMAN C2C4B_HUMAN FRG2_HUMAN ANR12_HUMAN PP1R7_HUMAN GID8_HUMAN CC110_HUMAN FA50A_HUMAN FA60A_HUMAN CCNJ_HUMAN IN35_HUMAN BRAT1_HUMAN TCP1L_HUMAN NP11_HUMAN NP8_HUMAN NPIL2_HUMAN EP2A2_HUMAN TEX37_HUMAN CYTSB_HUMAN DCNP1_HUMAN RSBNL_HUMAN DET1_HUMAN CROC4_HUMAN SYAP1_HUMAN BTBD8_HUMAN ST3L2_HUMAN FRG2B_HUMAN PTMA_HUMAN F10C1_HUMAN DGCR6_HUMAN AHNK_HUMAN LDOC1_HUMAN SYC2L_HUMAN RNH2C_HUMAN TAC2N_HUMAN CDCA4_HUMAN INT8_HUMAN TDIF1_HUMAN SSF1_HUMAN CK001_HUMAN HESRG_HUMAN UBN2_HUMAN F192A_HUMAN FA50B_HUMAN NEMF_HUMAN FAM9B_HUMAN RED_HUMAN NP12_HUMAN MYCT1_HUMAN NARF_HUMAN SNURF_HUMAN ANKR7_HUMAN PCIF1_HUMAN ACRC_HUMAN F220A_HUMAN INT6_HUMAN C2C4A_HUMAN ST3L3_HUMAN FRG2C_HUMAN NUB1_HUMAN COMD5_HUMAN LUZP4_HUMAN HN1_HUMAN MAGAA_HUMAN CTF8A_HUMAN FA71B_HUMAN CCNJL_HUMAN KLDC2_HUMAN IMUP_HUMAN BUD31_HUMAN NP10_HUMAN TEX35_HUMAN HIRP3_HUMAN RSBN1_HUMAN AKIR1_HUMAN PWP1_HUMAN FA53A_HUMAN FAM9C_HUMAN INT4_HUMAN CA174_HUMAN ST3L1_HUMAN TEX19_HUMAN THYN1_HUMAN NARG2_HUMAN WDR13_HUMAN WDR75_HUMAN DGC6L_HUMAN GPS2_HUMAN AHNK2_HUMAN"
   ]
  },
  {
   "cell_type": "code",
   "execution_count": null,
   "metadata": {},
   "outputs": [],
   "source": []
  }
 ],
 "metadata": {
  "kernelspec": {
   "display_name": "Python 3",
   "language": "python",
   "name": "python3"
  },
  "language_info": {
   "codemirror_mode": {
    "name": "ipython",
    "version": 3
   },
   "file_extension": ".py",
   "mimetype": "text/x-python",
   "name": "python",
   "nbconvert_exporter": "python",
   "pygments_lexer": "ipython3",
   "version": "3.6.7"
  }
 },
 "nbformat": 4,
 "nbformat_minor": 2
}
