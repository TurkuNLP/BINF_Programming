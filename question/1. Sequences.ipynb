{
 "cells": [
  {
   "cell_type": "markdown",
   "metadata": {},
   "source": [
    "#### Exercise 1.1 Trim sequence to multiples of three characters\n",
    "\n",
    "Trim a sequence to a multiple of three characters so that its translation happens without an error."
   ]
  },
  {
   "cell_type": "code",
   "execution_count": 8,
   "metadata": {},
   "outputs": [
    {
     "name": "stdout",
     "output_type": "stream",
     "text": [
      "ACGCGGCGTG\n",
      "Length 10\n"
     ]
    }
   ],
   "source": [
    "from Bio.Seq import Seq                                                         \n",
    "\n",
    "s=Seq(\"ACGCGGCGTG\")\n",
    "print(s)\n",
    "print(\"Length\", len(s))\n",
    "# Below write a piece of code which will\n",
    "# print the translated sequence 'TRR' without\n",
    "# any errors\n",
    "\n"
   ]
  },
  {
   "cell_type": "markdown",
   "metadata": {},
   "source": [
    "#### Exercise 1.2 GC content of a Seq sequence\n",
    "\n",
    "Define a function GC(s) which calculate the GC content of a Seq sequence s and returns it as a real number in the 0-1 range. The GC content is the proportion of \"G\" and \"C\" characters in the sequence. If you want to be fancy, also make sure your function works correctly for lowercased sequences."
   ]
  },
  {
   "cell_type": "code",
   "execution_count": 9,
   "metadata": {},
   "outputs": [
    {
     "name": "stdout",
     "output_type": "stream",
     "text": [
      "None\n"
     ]
    }
   ],
   "source": [
    "from Bio.Seq import Seq                                                         \n",
    "\n",
    "# define here a function GC(s)\n",
    "\n",
    "def GC(seq):\n",
    "    \"\"\"\n",
    "    Calculates the GC content of seq\n",
    "    returns a number between 0.0 and 1.0\n",
    "    \"\"\"\n",
    "    \n",
    "print(GC(Seq(\"ACGATTAA\")))\n"
   ]
  },
  {
   "cell_type": "markdown",
   "metadata": {},
   "source": [
    "#### Exercise 1.3 Hamming distance of two sequences\n",
    "\n",
    "Write a function to calculate the hamming distance of two sequences, ie the number of positions in which these sequences differ."
   ]
  },
  {
   "cell_type": "code",
   "execution_count": 10,
   "metadata": {},
   "outputs": [
    {
     "name": "stdout",
     "output_type": "stream",
     "text": [
      "hamming(s1,s2) None\n",
      "hamming(s1,s3) None\n"
     ]
    }
   ],
   "source": [
    "from Bio.Seq import Seq                                                         \n",
    "\n",
    "# Write a function hamming(s1,s2) which will return the Hamming distance\n",
    "# of s1 and s2, ie the number of positions in which these sequences differ\n",
    "# Have it return None if the sequences are of unequal length\n",
    "#\n",
    "# HERE\n",
    "\n",
    "def hamming(s1,s2):\n",
    "    \"\"\"\n",
    "    \"\"\"\n",
    "    \n",
    "s1=Seq(\"ACGCAGTTGCAGTAG\")\n",
    "s2=Seq(\"ACGCACTTGCAGAAG\")\n",
    "s3=Seq(\"AAAAAAAAAA\")\n",
    "print(\"hamming(s1,s2)\", hamming(s1,s2))\n",
    "print(\"hamming(s1,s3)\", hamming(s1,s3))\n"
   ]
  },
  {
   "cell_type": "markdown",
   "metadata": {},
   "source": [
    "#### Exercise 1.4 Find fitting coding table\n",
    "\n",
    "DNA sequences are translated into protein (amino acid sequences) three letters at a time. So every three letters of the DNA sequence produce a single letter of the protein sequence. The translation is governed by a coding table, of which there are many. https://www.ncbi.nlm.nih.gov/Taxonomy/Utils/wprintgc.cgi\n",
    "\n",
    "Now, let us say you have a DNA sequence and its translation, and you would like to find out which coding table was used out of the many possible tables.\n",
    "\n",
    "The tables are defined in Bio.Data.CodonTable and they are numbered. In particular, generic_by_id has a mapping from these numbers to the tables.\n",
    "\n",
    "So the task is: Given a sequence and its translation, find the coding table(s) which produced it. Print the number of the table, or several numbers, one per line, if there are many possible tables that could have produced the sequence."
   ]
  },
  {
   "cell_type": "code",
   "execution_count": 11,
   "metadata": {},
   "outputs": [],
   "source": [
    "from Bio.Seq import Seq                                                         \n",
    "\n",
    "s=Seq(\"ATGGTCGATGACCTGTGAACTTAA\")                                               \n",
    "s_ref=Seq(\"MVDDLCT*\",IUPAC.protein)                                             \n",
    "                                                                                \n",
    "# Hint: Bio.Data.CodonTable.generic_by_id                                       \n",
    "                                                                                \n",
    "# Print the number of the table which                                           \n",
    "# produced s_ref from s                                                         \n",
    "                                                                         "
   ]
  }
 ],
 "metadata": {
  "kernelspec": {
   "display_name": "Python 3",
   "language": "python",
   "name": "python3"
  },
  "language_info": {
   "codemirror_mode": {
    "name": "ipython",
    "version": 3
   },
   "file_extension": ".py",
   "mimetype": "text/x-python",
   "name": "python",
   "nbconvert_exporter": "python",
   "pygments_lexer": "ipython3",
   "version": "3.6.7"
  }
 },
 "nbformat": 4,
 "nbformat_minor": 2
}
