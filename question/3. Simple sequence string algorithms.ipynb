{
 "cells": [
  {
   "cell_type": "markdown",
   "metadata": {},
   "source": [
    "#### Exercise 3.1 DNA ngram index\n",
    "\n",
    "Write a function ngram2i(ngram) where ngram is a short string with the alphabet ACGT and the function returns its position among all strings of the same length when alphabetically sorted\n"
   ]
  },
  {
   "cell_type": "code",
   "execution_count": 8,
   "metadata": {},
   "outputs": [
    {
     "name": "stdout",
     "output_type": "stream",
     "text": [
      "None\n"
     ]
    }
   ],
   "source": [
    "# for example\n",
    "\n",
    "# ngram2i(\"AAAA\") should return 0\n",
    "# ngram2i(\"AAAC\") should return 1\n",
    "# ngram2i(\"AAAT\") should return 3\n",
    "# ngram2i(\"AACA\") should return 4\n",
    "# ...\n",
    "# ngram2i(\"TTTT\") should return 255\n",
    "#\n",
    "# ...and so on\n",
    "\n",
    "def ngram2i(ngram):\n",
    "    \"\"\"\n",
    "    \"\"\"\n",
    "\n",
    "print(ngram2i('TTAGTTGT'))\n"
   ]
  },
  {
   "cell_type": "markdown",
   "metadata": {},
   "source": [
    "#### Exercise 3.2 String Ngram Spectrum\n",
    "\n",
    "Write a function spectrum(s,N) which calculates the N-gram spectrum of the string s (with alphabet ACGT). The spectrum is a vector (list of numbers) with one position for every possible string of length N sorted alphabetically so eg \"AAAA\" will correspond to position 0, \"TTTT\" will correspond to position 255. For every N-gram, the vector contains the count of the N-gram in s.\n",
    "\n",
    "You should solve the exercise \"DNA Ngram Index\" first, because you can use it in this one."
   ]
  },
  {
   "cell_type": "code",
   "execution_count": 9,
   "metadata": {},
   "outputs": [
    {
     "name": "stdout",
     "output_type": "stream",
     "text": [
      "TTAGTTGT None\n"
     ]
    }
   ],
   "source": [
    "# For example \n",
    "# spectrum(\"AATTT\",2) \n",
    "\n",
    "# should return the following list\n",
    "# [1, 0, 0, 1, 0, 0, 0, 0, 0, 0, 0, 0, 0, 0, 0, 2]\n",
    "\n",
    "# which encodes the counts of the 2-gram AA AT and TT\n",
    "\n",
    "def ngram2i(ngram):\n",
    "    \"\"\"\n",
    "    \"\"\"\n",
    "\n",
    "def spectrum(s,N):\n",
    "    \"\"\"\n",
    "    \"\"\"\n",
    "\n",
    "print('TTAGTTGT', spectrum(s,N))\n"
   ]
  },
  {
   "cell_type": "markdown",
   "metadata": {},
   "source": [
    "#### Exercise 3.3 Normalize vector\n",
    "\n",
    "Write a function to normalize a numerical vector. \n",
    "\n",
    "Write a function normalize(v) which will normalize the vector v (such that its length is 1.0). This means that every element of the vector must be divided by the norm of the vector which is the square root of the sum of the squares of the elements.\n",
    "\n",
    "math.sqrt is a function to calculate the square root\n",
    "x**2  is the operator to calculate power\n",
    "\n",
    "Best see here: http://mathworld.wolfram.com/Norm.html"
   ]
  },
  {
   "cell_type": "code",
   "execution_count": 1,
   "metadata": {},
   "outputs": [
    {
     "name": "stdout",
     "output_type": "stream",
     "text": [
      "normalized vector None\n"
     ]
    }
   ],
   "source": [
    "# for example\n",
    "# normalize([1,1])\n",
    " \n",
    "# should return\n",
    "# [0.7071067811865475, 0.7071067811865475]\n",
    "\n",
    "# where 0.707... is 1/sqrt(2)\n",
    "\n",
    "def normalize(v):\n",
    "    \"\"\"\n",
    "    \"\"\"\n",
    "\n",
    "v = [0.020714291143725916, -8.379238361427067, -0.18751287858813015, -2.4881602270980885, -2.7320543649497653, \n",
    "     -7.740181280855481, 4.109108160846455, 9.704430092894508, 3.545957369876927, -4.0861691661731285]\n",
    "\n",
    "print('normalized vector', normalize(v))\n",
    "    "
   ]
  },
  {
   "cell_type": "markdown",
   "metadata": {},
   "source": [
    "#### Exercise 3.4 Cosine similiarity\n",
    "\n",
    "Write a function cosine_sim(v1,v2) which calculates the cosine similarity of two vectors v1 and v2,\n",
    "\n",
    "The cosine similarity is the dot product of normalized v1 with normalized v2.\n",
    "Dot product is simply the sum x1*y1 + x2*y2 + x3*y3 + ...., i.e. the sum of element-wise products of two vectors\n",
    "\n",
    "The cosine similarity ranges from +1.0 for equal vectors to -1.0 for opposite vectors."
   ]
  },
  {
   "cell_type": "code",
   "execution_count": 18,
   "metadata": {},
   "outputs": [
    {
     "name": "stdout",
     "output_type": "stream",
     "text": [
      "None\n"
     ]
    }
   ],
   "source": [
    "def cosine_sim(v1,v2):\n",
    "    \"\"\"\n",
    "    \"\"\"\n",
    "    \n",
    "    \n",
    "v1 = [0.020714291143725916, -8.379238361427067, -0.18751287858813015, -2.4881602270980885, -2.7320543649497653, \n",
    "     -7.740181280855481, 4.109108160846455, 9.704430092894508, 3.545957369876927, -4.0861691661731285]\n",
    "\n",
    "v2 = [3.41829882308193, -2.487025312374498, -0.42827553123128936, 6.96667733832205, -2.283613683094236, \n",
    "      5.072405006581819, -8.40618141128058, 7.248981248978751, 0.6168217330496937, -9.815195618504273]\n",
    "\n",
    "print(cosine_sim(v1, v2))\n",
    " "
   ]
  },
  {
   "cell_type": "markdown",
   "metadata": {},
   "source": [
    "#### Exercise 3.5 Most similar string\n",
    "\n",
    "Write a function most_sim(target,candidates,N) where target is a sequence string, and candidates is a list of sequence strings.\n",
    "\n",
    "The function uses the spectrum similarity method (controlled by parameter N) to calculate and return the most similar string to target among candidates and its similarity\n"
   ]
  },
  {
   "cell_type": "code",
   "execution_count": 2,
   "metadata": {},
   "outputs": [
    {
     "name": "stdout",
     "output_type": "stream",
     "text": [
      "None\n"
     ]
    }
   ],
   "source": [
    "# for example \n",
    "\n",
    "# print(most_sim(\"ACGTGCAG\",[\"ACGTGCTG\",\"TTGATTGATC\",\"TGTAGGTTGACAGCCACCCCCAGT\",\"TGACCCAGAC\"],2))\n",
    "\n",
    "# would print\n",
    "# ('ACGTGCTG', 0.7559289460184544)\n",
    "\n",
    "def most_sim(target,candidates,N):\n",
    "    \"\"\"\n",
    "    \"\"\"\n",
    "\n",
    "print(most_sim(\"ACGTGCAG\",[\"ACGTGCTG\",\"TTGATTGATC\",\"TGTAGGTTGACAGCCACCCCCAGT\",\"TGACCCAGAC\"],2))\n"
   ]
  },
  {
   "cell_type": "markdown",
   "metadata": {},
   "source": [
    "#### Exercise 3.6 Sequence downloader\n",
    "\n",
    "Write a program to download sequences from Entrez and save them into a genbank file. Use it to download the following sequence IDs. Use \"gbwithparts\" as efetch rettype. \n",
    "\n",
    "NC_018498.1  -> save into m2288.gb<br>\n",
    "NC_018497.1 -> save into m6320.gb<br>\n",
    "BA000007.2 -> save into ecoli_o157.gb<br>\n",
    "CM000272.1 -> save into human_21.gb<br>\n",
    "AP010935.1 -> save into strept.gb<br>\n"
   ]
  },
  {
   "cell_type": "code",
   "execution_count": 12,
   "metadata": {},
   "outputs": [],
   "source": []
  },
  {
   "cell_type": "markdown",
   "metadata": {},
   "source": [
    "#### Exercise 3.7 Gene comparison\n",
    "\n",
    "The genomes m2288.gb and m6320.gb contain each only a handful of genes that have a name. Write a program which will compare all of the named genes in m2288.gb against all of the named genes in m6320.gb using the spectrum similarity method and for each of the m2288.gb genes will print the three most similar genes from m6320.gb. "
   ]
  },
  {
   "cell_type": "code",
   "execution_count": null,
   "metadata": {},
   "outputs": [],
   "source": []
  }
 ],
 "metadata": {
  "kernelspec": {
   "display_name": "Python 3",
   "language": "python",
   "name": "python3"
  },
  "language_info": {
   "codemirror_mode": {
    "name": "ipython",
    "version": 3
   },
   "file_extension": ".py",
   "mimetype": "text/x-python",
   "name": "python",
   "nbconvert_exporter": "python",
   "pygments_lexer": "ipython3",
   "version": "3.6.7"
  }
 },
 "nbformat": 4,
 "nbformat_minor": 2
}
