{
 "cells": [
  {
   "cell_type": "markdown",
   "metadata": {},
   "source": [
    "#### 1. Consensus and Profile (2 points)\n",
    "##### (Source : http://rosalind.info/problems/cons/)"
   ]
  },
  {
   "cell_type": "markdown",
   "metadata": {},
   "source": [
    "#### 2. Locating Restriction Sites (2 points)\n",
    "##### (Source: http://rosalind.info/problems/revp/)"
   ]
  },
  {
   "cell_type": "markdown",
   "metadata": {},
   "source": [
    "#### 3. Creating a Distance Matrix (2 points)\n",
    "##### (Source: http://rosalind.info/problems/pdst/)"
   ]
  },
  {
   "cell_type": "markdown",
   "metadata": {},
   "source": [
    "#### 4. Compute the Probability of a Hidden Path (1 point)\n",
    "##### (Source: http://rosalind.info/problems/ba10a/)"
   ]
  },
  {
   "cell_type": "markdown",
   "metadata": {},
   "source": [
    "#### 5. RNA Splicing (1 point)\n",
    "##### (Source: http://rosalind.info/problems/splc/)"
   ]
  },
  {
   "cell_type": "markdown",
   "metadata": {},
   "source": [
    "#### 6. Find the Shortest Non-Shared Substring of Two Strings (2 points)\n",
    "##### (Source: http://rosalind.info/problems/ba9f/)"
   ]
  },
  {
   "cell_type": "markdown",
   "metadata": {},
   "source": [
    "#### 7. Find the Longest Repeat in a String (1 point)\n",
    "##### (Source: http://rosalind.info/problems/ba9d/)"
   ]
  },
  {
   "cell_type": "markdown",
   "metadata": {},
   "source": [
    "#### 8. Find the Longest Substring Shared by Two Strings (2 points)\n",
    "##### (Source: http://rosalind.info/problems/ba9e/)"
   ]
  },
  {
   "cell_type": "markdown",
   "metadata": {},
   "source": [
    "#### 9. Finding a Shared Motif (2 points)\n",
    "##### (Source: http://rosalind.info/problems/lcsm/)"
   ]
  },
  {
   "cell_type": "markdown",
   "metadata": {},
   "source": [
    "#### 10. Transitions and Transversions (1 point)\n",
    "##### (Source: http://rosalind.info/problems/tran/)"
   ]
  },
  {
   "cell_type": "markdown",
   "metadata": {},
   "source": [
    "#### 11. Find the Most Frequent Words with Mismatches in a String (2 points)\n",
    "##### (Source: http://rosalind.info/problems/ba1i/)"
   ]
  },
  {
   "cell_type": "markdown",
   "metadata": {},
   "source": [
    "#### 12. Identifying Maximal Repeats (2 points)\n",
    "##### (Source: http://rosalind.info/problems/mrep/)"
   ]
  },
  {
   "cell_type": "markdown",
   "metadata": {},
   "source": [
    "#### 13. Creating a Restriction Map (2 point)\n",
    "##### /Source: http://rosalind.info/problems/pdpl/)"
   ]
  },
  {
   "cell_type": "markdown",
   "metadata": {},
   "source": [
    "#### 14. Maximizing the Gap Symbols of an Optimal Alignment (2 points)\n",
    "##### (Source: http://rosalind.info/problems/mgap/)"
   ]
  },
  {
   "cell_type": "markdown",
   "metadata": {},
   "source": [
    "#### 15. Reconstruct a String from its k-mer Composition (2 points)\n",
    "##### (Source: http://rosalind.info/problems/ba3h/)"
   ]
  },
  {
   "cell_type": "markdown",
   "metadata": {},
   "source": [
    "#### 16. Global Multiple Alignment (2 points)\n",
    "##### (Source: http://rosalind.info/problems/clus/)"
   ]
  },
  {
   "cell_type": "markdown",
   "metadata": {},
   "source": [
    "#### 17. Reconstruct a String from its Genome Path (2 point)\n",
    "##### (Source: http://rosalind.info/problems/ba3b/)"
   ]
  },
  {
   "cell_type": "markdown",
   "metadata": {},
   "source": [
    "#### 18. Find Substrings of a Genome Encoding a Given Amino Acid String (1 point)\n",
    "##### (Source: http://rosalind.info/problems/ba4b/)"
   ]
  },
  {
   "cell_type": "markdown",
   "metadata": {},
   "source": [
    "#### 19. Find a Profile-most Probable k-mer in a String (2 points)\n",
    "##### (Source: http://rosalind.info/problems/ba2c/)"
   ]
  },
  {
   "cell_type": "markdown",
   "metadata": {},
   "source": [
    "#### 20. Open Reading Frames (1 point)\n",
    "##### (Source: http://rosalind.info/problems/orf/)"
   ]
  },
  {
   "cell_type": "markdown",
   "metadata": {},
   "source": [
    "#### 21. Genome Assembly Using Reads (2 points)\n",
    "##### (Source: http://rosalind.info/problems/gasm/)"
   ]
  }
 ],
 "metadata": {
  "kernelspec": {
   "display_name": "Python 3",
   "language": "python",
   "name": "python3"
  },
  "language_info": {
   "codemirror_mode": {
    "name": "ipython",
    "version": 3
   },
   "file_extension": ".py",
   "mimetype": "text/x-python",
   "name": "python",
   "nbconvert_exporter": "python",
   "pygments_lexer": "ipython3",
   "version": "3.6.7"
  }
 },
 "nbformat": 4,
 "nbformat_minor": 2
}
