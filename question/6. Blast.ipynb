{
 "cells": [
  {
   "cell_type": "markdown",
   "metadata": {},
   "source": [
    "#### Exercise 6.1 Best BLAST hits\n",
    "\n",
    "Write a function, which given the output of BLAST will, for each query sequence in the output, gather a list of (e-score, SequenceID) tuples, sorted by e-score in ascending order. I leave the details on you - do things the best way you see fit to incorporate the program into the larger task we are building (as discussed on lectures)."
   ]
  },
  {
   "cell_type": "code",
   "execution_count": null,
   "metadata": {},
   "outputs": [],
   "source": []
  },
  {
   "cell_type": "markdown",
   "metadata": {},
   "source": [
    "#### Exercise 6.2 Function transfer\n",
    "\n",
    "Given the output of your solution to the \"Best BLAST hits\" exercise, and a cut-off value of the e-score, use Uniprot GO annotation to assign functions to the query proteins. I.e. for each query protein, calculate the set of GO terms from its near BLAST neighbors (as defined by the e-score cutoff) that belong to the molecular function namespace. Output this information in the best way you see fit."
   ]
  },
  {
   "cell_type": "code",
   "execution_count": null,
   "metadata": {},
   "outputs": [],
   "source": []
  },
  {
   "cell_type": "markdown",
   "metadata": {},
   "source": [
    "#### Exercise 6.3 Fucntion transfer complete\n",
    "\n",
    "Combine all the bits and pieces from the many exercises in UniProt and GO and BLAST into a single program which, given a file with Uniprot identifiers will query Uniprot for their sequences, run them through NCBI Blast, pick the nearest neighbors, and estimate the likely functions of these proteins. Test your program on the identifiers given in the UniProt and GO exercises."
   ]
  },
  {
   "cell_type": "code",
   "execution_count": null,
   "metadata": {},
   "outputs": [],
   "source": []
  }
 ],
 "metadata": {
  "kernelspec": {
   "display_name": "Python 3",
   "language": "python",
   "name": "python3"
  },
  "language_info": {
   "codemirror_mode": {
    "name": "ipython",
    "version": 3
   },
   "file_extension": ".py",
   "mimetype": "text/x-python",
   "name": "python",
   "nbconvert_exporter": "python",
   "pygments_lexer": "ipython3",
   "version": "3.6.7"
  }
 },
 "nbformat": 4,
 "nbformat_minor": 2
}
