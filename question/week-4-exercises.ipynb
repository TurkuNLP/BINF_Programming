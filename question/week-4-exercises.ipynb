{
 "cells": [
  {
   "cell_type": "markdown",
   "metadata": {},
   "source": [
    "#### Exercise 4.1 Parse the GO file into a dictionary\n",
    "\n",
    "Download http://purl.obolibrary.org/obo/go.obo and then write a function which will parse this file and return a dictionary with GO term IDs as keys and NamedTuples (id, name, namespace, definition) as values. Check out the materials for UniProt and GO to see how named tuples are made and used."
   ]
  },
  {
   "cell_type": "code",
   "execution_count": null,
   "metadata": {},
   "outputs": [],
   "source": []
  },
  {
   "cell_type": "markdown",
   "metadata": {},
   "source": [
    "#### Exercise 4.2 Protein locations\n",
    "\n",
    "Combine the two first exercises in this round and write a program which will print the cellular component annotation for each of the 10 longest human proteins. The output could look something like this:\n",
    "\n",
    "P35555 FBN1_HUMAN: microfibril, extracellular region, proteinaceous extracellular matrix, basement membrane, extracellular space, extracellular matrix, extracellular exosome\n",
    "P50851 LRBA_HUMAN: lysosome, endoplasmic reticulum, Golgi apparatus, plasma membrane, endomembrane system, membrane, integral component of membrane, cytoplasmic, membrane-bounded vesicle, extrinsic component of membrane\n",
    "Q86YZ3 HORN_HUMAN: cornified envelope, nucleus, cytoplasm, cell envelope, keratohyalin granule, perinuclear region of cytoplasm, extracellular exosome\n",
    "\n",
    "When submitting the exercise, please also paste a reasonably sized part of its output as a comment to your submission. Thanks!\n"
   ]
  },
  {
   "cell_type": "code",
   "execution_count": null,
   "metadata": {},
   "outputs": [],
   "source": []
  },
  {
   "cell_type": "markdown",
   "metadata": {},
   "source": [
    "#### Exercise 4.3 Best BLAST hits\n",
    "\n",
    "Write a function, which given the output of BLAST will, for each query sequence in the output, gather a list of (e-score, SequenceID) tuples, sorted by e-score in ascending order. I leave the details on you - do things the best way you see fit to incorporate the program into the larger task we are building (as discussed on lectures)."
   ]
  },
  {
   "cell_type": "code",
   "execution_count": null,
   "metadata": {},
   "outputs": [],
   "source": []
  },
  {
   "cell_type": "markdown",
   "metadata": {},
   "source": [
    "#### Exercise 4.4 Function transfer\n",
    "\n",
    "Given the output of your solution to the \"Best BLAST hits\" exercise, and a cut-off value of the e-score, use Uniprot GO annotation to assign functions to the query proteins. I.e. for each query protein, calculate the set of GO terms from its near BLAST neighbors (as defined by the e-score cutoff) that belong to the molecular function namespace. Output this information in the best way you see fit."
   ]
  },
  {
   "cell_type": "code",
   "execution_count": null,
   "metadata": {},
   "outputs": [],
   "source": []
  },
  {
   "cell_type": "markdown",
   "metadata": {},
   "source": [
    "#### Exercise 4.5 Function transfer complete\n",
    "\n",
    "Combine all the bits and pieces from the many exercises in UniProt and GO and BLAST into a single program which, given a file with Uniprot identifiers will query Uniprot for their sequences, run them through NCBI Blast, pick the nearest neighbors, and estimate the likely functions of these proteins. Test your program on the identifiers given in the UniProt and GO exercises."
   ]
  },
  {
   "cell_type": "code",
   "execution_count": null,
   "metadata": {},
   "outputs": [],
   "source": []
  }
 ],
 "metadata": {
  "kernelspec": {
   "display_name": "Python 3",
   "language": "python",
   "name": "python3"
  },
  "language_info": {
   "codemirror_mode": {
    "name": "ipython",
    "version": 3
   },
   "file_extension": ".py",
   "mimetype": "text/x-python",
   "name": "python",
   "nbconvert_exporter": "python",
   "pygments_lexer": "ipython3",
   "version": "3.6.7"
  }
 },
 "nbformat": 4,
 "nbformat_minor": 2
}
