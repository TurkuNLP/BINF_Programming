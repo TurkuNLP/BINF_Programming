{
 "cells": [
  {
   "cell_type": "markdown",
   "metadata": {},
   "source": [
    "#### Exercise 3.1 Download the 10 longest reviewed human proteins in UniProt\n",
    "\n",
    "Download the 10 longest reviewed human proteins from UniProt. Store them in the XML format in the file `human_longest.xml`."
   ]
  },
  {
   "cell_type": "code",
   "execution_count": 54,
   "metadata": {},
   "outputs": [],
   "source": []
  },
  {
   "cell_type": "markdown",
   "metadata": {},
   "source": [
    "#### Exercise 3.2 Table into list of named tuples\n",
    "\n",
    "Fetch all reviewed rat proteins with \"phosphatase\" in their names from UniProt in a tabular format. The table must only contain the entry names, the protein families, and the keywords of the proteins. Parse the table into a dictionary such that the keys are entry names and the values are named tuples containing the fetched data. Remember to parse the list-type fields into Python lists."
   ]
  },
  {
   "cell_type": "code",
   "execution_count": null,
   "metadata": {},
   "outputs": [],
   "source": []
  },
  {
   "cell_type": "markdown",
   "metadata": {},
   "source": [
    "#### Exercise 3.3 UniProt IDs to FASTA\n",
    "\n",
    "Below is a list of UniProt IDs. Make a text file with these IDs. Then write a program which will read this text file and produce a FASTA file with their sequences.\n",
    "                                                                            \n",
    "P00915                                                                          \n",
    "P00918                                                                          \n",
    "P43166                                                                          \n",
    "P07451                                                                          \n",
    "Q8N1Q1                                                                          \n",
    "P35219                                                                          \n",
    "P35218                                                                          \n",
    "Q9Y2D0                                                                          \n",
    "P23280                                                                          \n",
    "O75493                                                                          \n",
    "Q9NS85                                                                          \n",
    "Q16790                                                                          \n",
    "O43570                                                                          \n",
    "Q9ULX7                                                                          \n",
    "P22748                                                                          \n",
    "Q99N23\n",
    "\n"
   ]
  },
  {
   "cell_type": "code",
   "execution_count": null,
   "metadata": {},
   "outputs": [],
   "source": []
  },
  {
   "cell_type": "markdown",
   "metadata": {},
   "source": [
    "#### Exercise 3.4 UniProt ID mapping service\n",
    "\n",
    "Below is a list of UniProt protein IDs. Map these to RefSeq Protein IDs using the UniProt ID mapping service. The best approach will be to write a function which takes a list of IDs and returns a dictionary where each protein is a key and the value is a list of RefSeq identifiers.\n",
    "\n",
    "CC106_HUMAN FBX3_HUMAN BTBDA_HUMAN C2C4B_HUMAN FRG2_HUMAN ANR12_HUMAN PP1R7_HUMAN GID8_HUMAN CC110_HUMAN FA50A_HUMAN FA60A_HUMAN CCNJ_HUMAN IN35_HUMAN BRAT1_HUMAN TCP1L_HUMAN NP11_HUMAN NP8_HUMAN NPIL2_HUMAN EP2A2_HUMAN TEX37_HUMAN CYTSB_HUMAN DCNP1_HUMAN RSBNL_HUMAN DET1_HUMAN CROC4_HUMAN SYAP1_HUMAN BTBD8_HUMAN ST3L2_HUMAN FRG2B_HUMAN PTMA_HUMAN F10C1_HUMAN DGCR6_HUMAN AHNK_HUMAN LDOC1_HUMAN SYC2L_HUMAN RNH2C_HUMAN TAC2N_HUMAN CDCA4_HUMAN INT8_HUMAN TDIF1_HUMAN SSF1_HUMAN CK001_HUMAN HESRG_HUMAN UBN2_HUMAN F192A_HUMAN FA50B_HUMAN NEMF_HUMAN FAM9B_HUMAN RED_HUMAN NP12_HUMAN MYCT1_HUMAN NARF_HUMAN SNURF_HUMAN ANKR7_HUMAN PCIF1_HUMAN ACRC_HUMAN F220A_HUMAN INT6_HUMAN C2C4A_HUMAN ST3L3_HUMAN FRG2C_HUMAN NUB1_HUMAN COMD5_HUMAN LUZP4_HUMAN HN1_HUMAN MAGAA_HUMAN CTF8A_HUMAN FA71B_HUMAN CCNJL_HUMAN KLDC2_HUMAN IMUP_HUMAN BUD31_HUMAN NP10_HUMAN TEX35_HUMAN HIRP3_HUMAN RSBN1_HUMAN AKIR1_HUMAN PWP1_HUMAN FA53A_HUMAN FAM9C_HUMAN INT4_HUMAN CA174_HUMAN ST3L1_HUMAN TEX19_HUMAN THYN1_HUMAN NARG2_HUMAN WDR13_HUMAN WDR75_HUMAN DGC6L_HUMAN GPS2_HUMAN AHNK2_HUMAN"
   ]
  },
  {
   "cell_type": "code",
   "execution_count": null,
   "metadata": {},
   "outputs": [],
   "source": []
  },
  {
   "cell_type": "markdown",
   "metadata": {},
   "source": [
    "#### Exercise 3.5 SignalP and TMHMM services\n",
    "\n",
    "Run the sequences from the previous exercise through the [SignalP](http://www.cbs.dtu.dk/services/SignalP/) and [TMHMM](http://www.cbs.dtu.dk/services/TMHMM/) services (preferrably programmatically, but please don't crash those services). For each sequence, collect the ID and the predictions from these two services into a nicely-structured dictionary.\n"
   ]
  },
  {
   "cell_type": "code",
   "execution_count": null,
   "metadata": {},
   "outputs": [],
   "source": []
  }
 ],
 "metadata": {
  "kernelspec": {
   "display_name": "Python 3",
   "language": "python",
   "name": "python3"
  },
  "language_info": {
   "codemirror_mode": {
    "name": "ipython",
    "version": 3
   },
   "file_extension": ".py",
   "mimetype": "text/x-python",
   "name": "python",
   "nbconvert_exporter": "python",
   "pygments_lexer": "ipython3",
   "version": "3.6.7"
  }
 },
 "nbformat": 4,
 "nbformat_minor": 2
}
