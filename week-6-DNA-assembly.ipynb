{
 "cells": [
  {
   "cell_type": "markdown",
   "metadata": {},
   "source": [
    "### Material sources\n",
    "#### http://betatim.github.io/posts/genome-hackers/ \n",
    "This gives you the idea how to solve DNA assembly problem. The site explains quite good in details just in case you didn't understand the lecture today. \n",
    "\n",
    "#### http://rosalind.info/problems/\n",
    "The lecture follows the problems in Rosalind where you can solve the DNA assembly. The lecture here will follow the tree of solving `Genome assembly with perfect coverage`. The idea is to solve the related problems ordered from easy to difficult level until you can assemble the DNA.\n",
    "\n",
    "#### https://www.pnas.org/content/98/17/9748\n",
    "Paper describes Eulerian's path algorithm in assembling the DNA. "
   ]
  },
  {
   "cell_type": "markdown",
   "metadata": {},
   "source": [
    "#### Transcribing DNA into RNA\n",
    "##### (Source: http://rosalind.info/problems/rna/)"
   ]
  },
  {
   "cell_type": "code",
   "execution_count": 1,
   "metadata": {},
   "outputs": [
    {
     "name": "stdout",
     "output_type": "stream",
     "text": [
      "True\n"
     ]
    }
   ],
   "source": [
    "import re\n",
    "\n",
    "dna = 'GATGGAACTTGACTACGTAAATT'\n",
    "rna = 'GAUGGAACUUGACUACGUAAAUU'\n",
    "\n",
    "def transcribe(dna):\n",
    "    return re.sub(r'T', 'U', dna, flags=re.IGNORECASE)\n",
    "\n",
    "print(transcribe(dna) == rna)"
   ]
  },
  {
   "cell_type": "markdown",
   "metadata": {},
   "source": [
    "#### Complementing a Strand of DNA"
   ]
  },
  {
   "cell_type": "code",
   "execution_count": 2,
   "metadata": {},
   "outputs": [
    {
     "name": "stdout",
     "output_type": "stream",
     "text": [
      "True\n"
     ]
    }
   ],
   "source": [
    "def complementary_dna(dna):\n",
    "    return ''.join([sub_dict[nt] for nt in dna.upper()[::-1]])\n",
    "    \n",
    "dna = 'AAAACCCGGT'\n",
    "compl = 'ACCGGGTTTT'\n",
    "sub_dict = {'A': 'T', 'G': 'C', 'T': 'A', 'C': 'G'}\n",
    "print(complementary_dna(dna) == compl)"
   ]
  },
  {
   "cell_type": "markdown",
   "metadata": {},
   "source": [
    "#### Finding a Motif in DNA\n",
    "##### (Source: http://rosalind.info/problems/subs/, https://docs.python.org/3.6/library/re.html)\n",
    "\n",
    "Finding DNA substring using regular expression by default a 'non-overlapping search'. To use re to search/match text with overlapping enable, you need to create the pattern using `lookahead assertion` -- `(?=(text)`."
   ]
  },
  {
   "cell_type": "code",
   "execution_count": 3,
   "metadata": {},
   "outputs": [
    {
     "name": "stdout",
     "output_type": "stream",
     "text": [
      "1 5\n",
      "3 7\n",
      "5 9\n",
      "11 15\n"
     ]
    }
   ],
   "source": [
    "import re\n",
    "\n",
    "def find_motif(s, t):\n",
    "    \"\"\"\n",
    "    \"\"\"\n",
    "    result = re.finditer(r'(?=({}))'.format(t), s)\n",
    "    for i in result:\n",
    "        print(i.start(1), i.end(1))\n",
    "\n",
    "        \n",
    "s = 'GATATATATGCATATACTT'\n",
    "t = 'ATAT'\n",
    "\n",
    "find_motif(s, t)"
   ]
  },
  {
   "cell_type": "markdown",
   "metadata": {},
   "source": [
    "#### Overlap graph\n",
    "##### (Source: http://rosalind.info/problems/grph/)\n",
    "\n",
    "N.B. the original overlap_suffix function allows the overlapping to occure in the middle of sequence which is incorrect. The new one now works as it should be that overlapping occurs only on the prefix and suffix regions of the sequences."
   ]
  },
  {
   "cell_type": "code",
   "execution_count": 4,
   "metadata": {},
   "outputs": [
    {
     "name": "stdout",
     "output_type": "stream",
     "text": [
      "[['Rosalind_0498', 'Rosalind_2391', 3], ['Rosalind_0498', 'Rosalind_0442', 3], ['Rosalind_2391', 'Rosalind_2323', 3]]\n"
     ]
    }
   ],
   "source": [
    "def read_fasta(fasta_file):\n",
    "    seq_sid = {}\n",
    "    sid_seq = {} \n",
    "    try:\n",
    "        with open(fasta_file, 'rt') as f:\n",
    "            fasta_text = f.read()\n",
    "    except:\n",
    "        fasta_text = fasta_file\n",
    "    for record in fasta_text.split('>')[1:]:\n",
    "        sid, seq, _ = record.split('\\n')\n",
    "        seq_sid.setdefault(seq, sid)\n",
    "        sid_seq.setdefault(sid, seq)\n",
    "    return seq_sid, sid_seq\n",
    "\n",
    "def overlap_suffix(x, y, l):\n",
    "    \"\"\"\n",
    "    locate the length of overlapped strings\n",
    "    \"\"\"\n",
    "    overlap_len = [0]\n",
    "    i = len(x)\n",
    "    while i > max(overlap_len):\n",
    "        j = len(y)\n",
    "        while j > max(overlap_len):\n",
    "            if x[i:] != y[:j]:\n",
    "                overlap_len.append(l)\n",
    "            else:\n",
    "                overlap_len.append(len(x[i:]))\n",
    "            j -= 1\n",
    "        i -= 1\n",
    "    return max(overlap_len)\n",
    "\n",
    "def find_overlap(records, overlap_len):\n",
    "    overlap_pair = []\n",
    "    seqs = list(records.keys())\n",
    "    for i in range(len(seqs)):\n",
    "        for j in range(i+1, len(seqs)):\n",
    "            mi = overlap_suffix(seqs[i], seqs[j], overlap_len) # seq[i] is seq X, seq[j] is seq Y\n",
    "            mj = overlap_suffix(seqs[j], seqs[i], overlap_len) # seq[i] is seq Y, seq[j] is seq X\n",
    "            # pick the max overlap length to determine seq XY order in assembling, whether it is XY or YX \n",
    "            if mi > mj and mi > overlap_len: \n",
    "                overlap_pair.append([records[seqs[i]], records[seqs[j]], mi])\n",
    "            elif mj > mi and mj > overlap_len:          \n",
    "                overlap_pair.append([records[seqs[j]], records[seqs[i]], mj])\n",
    "    return overlap_pair\n",
    "\n",
    "\n",
    "fasta_file = '>Rosalind_0498\\nAAATAAA\\n>Rosalind_2391\\nAAATTTT\\n>Rosalind_2323\\nTTTTCCC\\n>Rosalind_0442\\nAAATCCC\\n>Rosalind_5013\\nGGGTGGG\\n'\n",
    "seq_sid, sid_seq = read_fasta(fasta_file)\n",
    "overlap_len = 1\n",
    "overlap_pair = find_overlap(seq_sid, overlap_len)\n",
    "print(overlap_pair)"
   ]
  },
  {
   "cell_type": "markdown",
   "metadata": {},
   "source": [
    "#### Genome Assembly as Shortest Superstring\n",
    "##### (Source: http://rosalind.info/problems/long/)\n",
    "Then we combine all the overlap pairs into the shortest superstring."
   ]
  },
  {
   "cell_type": "code",
   "execution_count": 5,
   "metadata": {},
   "outputs": [
    {
     "name": "stdout",
     "output_type": "stream",
     "text": [
      "ATTAGACCTGCCGGAATAC\n",
      "True\n",
      "[['Rosalind_56', 'Rosalind_58', 7], ['Rosalind_58', 'Rosalind_57', 7], ['Rosalind_57', 'Rosalind_59', 7], ['Rosalind_56', 'Rosalind_57', 4], ['Rosalind_58', 'Rosalind_59', 4]]\n"
     ]
    }
   ],
   "source": [
    "def shortest_superstring(overlap_pair, sid_seq):\n",
    "    \"\"\"\n",
    "    \"\"\"\n",
    "    overlap_pair.sort(key= lambda x: x[2], reverse=True)\n",
    "    overlap_string = ''\n",
    "    done_set = []  \n",
    "    for item in overlap_pair:\n",
    "        if done_set == []:\n",
    "            overlap_string = sid_seq[item[0]] + sid_seq[item[1]][item[2]:]\n",
    "            done_set.append(item[0])\n",
    "            done_set.append(item[1])\n",
    "        elif item[0] == done_set[-1] and item[1] not in done_set:\n",
    "            overlap_string += sid_seq[item[1]][item[2]:] \n",
    "            done_set.append(item[1])\n",
    "    return overlap_string\n",
    "   \n",
    "fasta_file = '>Rosalind_56\\nATTAGACCTG\\n>Rosalind_57\\nCCTGCCGGAA\\n>Rosalind_58\\nAGACCTGCCG\\n>Rosalind_59\\nGCCGGAATAC\\n'\n",
    "records = read_fasta(fasta_file)\n",
    "overlap_len = 1\n",
    "seq_sid, sid_seq = read_fasta(fasta_file)\n",
    "overlap_pair = find_overlap(seq_sid, overlap_len)\n",
    "sss = shortest_superstring(overlap_pair, sid_seq)\n",
    "\n",
    "print(sss)\n",
    "print(sss == 'ATTAGACCTGCCGGAATAC')\n",
    "print(overlap_pair)"
   ]
  },
  {
   "cell_type": "markdown",
   "metadata": {},
   "source": [
    "#### K-mer composition\n",
    "##### (Source: http://rosalind.info/problems/kmer/)"
   ]
  },
  {
   "cell_type": "code",
   "execution_count": 6,
   "metadata": {},
   "outputs": [
    {
     "name": "stdout",
     "output_type": "stream",
     "text": [
      "True\n",
      "[4, 1, 4, 3, 0, 1, 1, 5, 1, 3, 1, 2, 2, 1, 2, 0, 1, 1, 3, 1, 2, 1, 3, 1, 1, 1, 1, 2, 2, 5, 1, 3, 0, 2, 2, 1, 1, 1, 1, 3, 1, 0, 0, 1, 5, 5, 1, 5, 0, 2, 0, 2, 1, 2, 1, 1, 1, 2, 0, 1, 0, 0, 1, 1, 3, 2, 1, 0, 3, 2, 3, 0, 0, 2, 0, 8, 0, 0, 1, 0, 2, 1, 3, 0, 0, 0, 1, 4, 3, 2, 1, 1, 3, 1, 2, 1, 3, 1, 2, 1, 2, 1, 1, 1, 2, 3, 2, 1, 1, 0, 1, 1, 3, 2, 1, 2, 6, 2, 1, 1, 1, 2, 3, 3, 3, 2, 3, 0, 3, 2, 1, 1, 0, 0, 1, 4, 3, 0, 1, 5, 0, 2, 0, 1, 2, 1, 3, 0, 1, 2, 2, 1, 1, 0, 3, 0, 0, 4, 5, 0, 3, 0, 2, 1, 1, 3, 0, 3, 2, 2, 1, 1, 0, 2, 1, 0, 2, 2, 1, 2, 0, 2, 2, 5, 2, 2, 1, 1, 2, 1, 2, 2, 2, 2, 1, 1, 3, 4, 0, 2, 1, 1, 0, 1, 2, 2, 1, 1, 1, 5, 2, 0, 3, 2, 1, 1, 2, 2, 3, 0, 3, 0, 1, 3, 1, 2, 3, 0, 2, 1, 2, 2, 1, 2, 3, 0, 1, 2, 3, 1, 1, 3, 1, 0, 1, 1, 3, 0, 2, 1, 2, 2, 0, 2, 1, 1]\n"
     ]
    }
   ],
   "source": [
    "import itertools\n",
    "\n",
    "def ngram2index(ngram):\n",
    "    a = [''.join(item) for item in itertools.product('GACT', repeat=ngram)] \n",
    "    # the order of given alphabets is important for itertools.product \n",
    "    # if you want alphabetical order result, then given 'ACGT' should be in alphabetical order\n",
    "    # or to make sure that you use the sort function\n",
    "    a.sort()\n",
    "    print(a == [''.join(item) for item in itertools.product('ACGT', repeat=ngram)])\n",
    "    return [''.join(item) for item in itertools.product('ACGT', repeat=ngram)]\n",
    "\n",
    "                                                        \n",
    "def kmer_composition(dna, k):\n",
    "    \"\"\"\n",
    "    This kmer composition function is the same as geneating the spectrum of DNA ngram\n",
    "    \"\"\"\n",
    "    ngram = ngram2index(k)\n",
    "    kmer = {}\n",
    "    for i in range(len(dna) - k + 1):\n",
    "        kmer[dna[i:i+k]] = kmer.get(dna[i:i+k], 0)+1\n",
    "    return [kmer.get(item, 0) for item in ngram]\n",
    "\n",
    "        \n",
    "my_dna = 'CTTCGAAAGTTTGGGCCGAGTCTTACAGTCGGTCTTGAAGCAAAGTAACGAACTCCACGGCCCTGACTACCGAACCAGTTGTGAGTACTCAACTGGGTGAGAGTGCAGTCCCTATTGAGTTTCCGAGACTCACCGGGATTTTCGATCCAGCCTCAGTCCAGTCTTGTGGCCAACTCACCAAATGACGTTGGAATATCCCTGTCTAGCTCACGCAGTACTTAGTAAGAGGTCGCTGCAGCGGGGCAAGGAGATCGGAAAATGTGCTCTATATGCGACTAAAGCTCCTAACTTACACGTAGACTTGCCCGTGTTAAAAACTCGGCTCACATGCTGTCTGCGGCTGGCTGTATACAGTATCTACCTAATACCCTTCAGTTCGCCGCACAAAAGCTGGGAGTTACCGCGGAAATCACAG'\n",
    "kmer = kmer_composition(my_dna, 4)   \n",
    "print(kmer)"
   ]
  },
  {
   "cell_type": "markdown",
   "metadata": {},
   "source": [
    "#### Constructing De Bruijn Graph\n",
    "##### (Source: http://rosalind.info/problems/dbru/, http://www.langmead-lab.org/teaching-materials/)"
   ]
  },
  {
   "cell_type": "code",
   "execution_count": 7,
   "metadata": {},
   "outputs": [
    {
     "name": "stdout",
     "output_type": "stream",
     "text": [
      "{'TCA': {'CAT'}, 'ATC': {'TCA'}, 'GAT': {'ATG', 'ATC'}, 'TGA': {'GAT'}, 'ATG': {'TGC', 'TGA'}, 'CAT': {'ATG', 'ATC'}}\n"
     ]
    }
   ],
   "source": [
    "def get_kmer(dna):\n",
    "    \"\"\"\n",
    "    from DNA reads, generate all the k-mer \n",
    "    \"\"\"\n",
    "    k = len(dna) - 1\n",
    "    return [dna[i:i+k] for i in range(len(dna) - k + 1)]\n",
    "        \n",
    "def de_bruijn_graph(dna):\n",
    "    \"\"\"\n",
    "    generate de Bruijn graph using dictionary\n",
    "    dict.keys(): node\n",
    "    dict.values(): edges  \n",
    "    \"\"\"\n",
    "    edges = {}\n",
    "    all_kmer = set([kmer for item in dna for kmer in get_kmer(item)]) # get all the kmers\n",
    "    for i in all_kmer:\n",
    "        for j in all_kmer:\n",
    "            if i[1:] == j[:len(j)-1]:\n",
    "                edges.setdefault(i, set([])).add(j)\n",
    "            elif j[1:] == i[:len(j)-1]:\n",
    "                edges.setdefault(j, set([])).add(i)\n",
    "    return edges\n",
    "\n",
    "dna = 'TGAT\\nCATG\\nTCAT\\nATGC\\nCATC\\nCATC'\n",
    "paths = de_bruijn_graph(dna.split('\\n'))\n",
    "print(paths)"
   ]
  },
  {
   "cell_type": "markdown",
   "metadata": {},
   "source": [
    "#### Genome assembly with perfect coverage\n",
    "##### (Source: http://rosalind.info/problems/pcov/)"
   ]
  },
  {
   "cell_type": "code",
   "execution_count": 8,
   "metadata": {},
   "outputs": [
    {
     "name": "stdout",
     "output_type": "stream",
     "text": [
      "ACAGATT\n",
      "False : might not be True when compared while using linear representation for cyclic DNA\n"
     ]
    }
   ],
   "source": [
    "def cyclic_superstring(edges):\n",
    "    cyclic_string = ''\n",
    "    all_edges = list(edges.keys())\n",
    "    stack = []\n",
    "    while set(stack) != set(all_edges): # make sure that we have visit all nodes\n",
    "        for k in edges.keys():\n",
    "            if stack == []: # beginning of string, add both nodes \n",
    "                cyclic_string += k\n",
    "                stack.append(k) # keep tracking which node we have already visited\n",
    "                nodes = list(edges[k])\n",
    "                cyclic_string += nodes[0][-1]\n",
    "                stack.append(nodes[0]) # keep tracking which node we have already visited\n",
    "            elif k in stack:\n",
    "                nodes = list(edges[k])\n",
    "                if nodes[0] not in stack:\n",
    "                    cyclic_string += nodes[0][-1]\n",
    "                    stack.append(nodes[0]) # keep tracking which node we have already visited\n",
    "    return cyclic_string[len(all_edges[0])-1:] # remove the beginning of string of k-1 mer\n",
    "\n",
    "\n",
    "dna = 'ATTAC\\nTACAG\\nGATTA\\nACAGA\\nCAGAT\\nTTACA\\nAGATT'\n",
    "paths = de_bruijn_graph(dna.split('\\n'))\n",
    "\n",
    "cyclic_dna = cyclic_superstring(paths)\n",
    "print(cyclic_dna)\n",
    "answer = 'GATTACA'\n",
    "print(answer == cyclic_dna, ': might not be True when compared while using linear representation for cyclic DNA')"
   ]
  },
  {
   "cell_type": "markdown",
   "metadata": {},
   "source": [
    "#### Practical strategies for applying de Bruijn graphs\n",
    "##### (Source: https://www.ncbi.nlm.nih.gov/pmc/articles/PMC5531759/)\n",
    "##### (Source: https://en.wikipedia.org/wiki/Scaffolding_(bioinformatics))\n",
    "\n",
    "There are key assumptions in assembling the genome using de Bruijn graph method which are not a part of the lecture. Most developed tools have implemented remedies for these key issues in practice. \n",
    "\n",
    "1. Generate all k-mers present in the genome sequencing by breaking the reads into shorter k-mers, e.g. 100-nucleotide reads to 46 overlapping 55-mer.\n",
    "2. Apply error correcting algorithms before aseembling the genomes to handle errors in reads.\n",
    "3. Increase the number of edges connecting between prefixes and suffixes following the number of multiplicity.\n",
    "4. Deal with linear and multiple chromosomes. (No extra algorithm needed as Eulerian's algorithm can handle.)\n",
    "5. Use scaffolding to determine the correct order and orientation of the contigs and approximate the size of the gaps. Gap-filling algorithms can be also used t reduce the size of gaps between contigs. "
   ]
  }
 ],
 "metadata": {
  "kernelspec": {
   "display_name": "Python 3",
   "language": "python",
   "name": "python3"
  },
  "language_info": {
   "codemirror_mode": {
    "name": "ipython",
    "version": 3
   },
   "file_extension": ".py",
   "mimetype": "text/x-python",
   "name": "python",
   "nbconvert_exporter": "python",
   "pygments_lexer": "ipython3",
   "version": "3.6.7"
  }
 },
 "nbformat": 4,
 "nbformat_minor": 2
}
