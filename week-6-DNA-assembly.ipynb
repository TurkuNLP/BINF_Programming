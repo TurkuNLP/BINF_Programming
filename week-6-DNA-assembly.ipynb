{
 "cells": [
  {
   "cell_type": "markdown",
   "metadata": {},
   "source": [
    "### Material sources\n",
    "#### http://betatim.github.io/posts/genome-hackers/\n",
    "\n",
    "\n",
    "#### http://rosalind.info/problems/\n",
    "#### https://www.pnas.org/content/98/17/9748"
   ]
  },
  {
   "cell_type": "markdown",
   "metadata": {},
   "source": [
    "#### Transcribing DNA into RNA"
   ]
  },
  {
   "cell_type": "code",
   "execution_count": null,
   "metadata": {},
   "outputs": [],
   "source": [
    "import re\n",
    "\n",
    "dna = 'GATGGAACTTGACTACGTAAATT'\n",
    "rna = 'GAUGGAACUUGACUACGUAAAUU'\n",
    "\n",
    "def transcribe(dna):\n",
    "    return re.sub(r'T', 'U', dna, flags=re.IGNORECASE)\n",
    "\n",
    "print(transcribe(dna) == rna)"
   ]
  },
  {
   "cell_type": "markdown",
   "metadata": {},
   "source": [
    "#### Complementing a Strand of DNA"
   ]
  },
  {
   "cell_type": "code",
   "execution_count": null,
   "metadata": {},
   "outputs": [],
   "source": [
    "dna = 'AAAACCCGGT'\n",
    "compl = 'ACCGGGTTTT'\n",
    "sub_dict = {'A': 'T', 'G': 'C', 'T': 'A', 'C': 'G'}\n",
    "\n",
    "def complementary_dna(dna):\n",
    "    return ''.join([sub_dict[nt] for nt in dna.upper()[::-1]])\n",
    "    \n",
    "print(complementary_dna(dna) == compl)"
   ]
  },
  {
   "cell_type": "markdown",
   "metadata": {},
   "source": [
    "#### Finding a Motif in DNA"
   ]
  },
  {
   "cell_type": "code",
   "execution_count": null,
   "metadata": {},
   "outputs": [],
   "source": [
    "import re\n",
    "s = 'GATATATATGCATATACTT'\n",
    "t = 'ATAT'\n",
    "\n",
    "def find_overlapping(s, t):\n",
    "    result = re.finditer(r'(?=({}))'.format(t), s)\n",
    "    for i in result:\n",
    "        print(i.start(1), i.end(1))\n",
    "\n",
    "find_overlapping(s, t)"
   ]
  },
  {
   "cell_type": "markdown",
   "metadata": {},
   "source": [
    "#### Overlap graph"
   ]
  },
  {
   "cell_type": "code",
   "execution_count": null,
   "metadata": {},
   "outputs": [],
   "source": [
    "def read_fasta(fasta_file):\n",
    "    seq_sid = {}\n",
    "    sid_seq = {} \n",
    "    try:\n",
    "        with open(fasta_file, 'rt') as f:\n",
    "            fasta_text = f.read()\n",
    "    except:\n",
    "        fasta_text = fasta_file\n",
    "    for record in fasta_text.split('>')[1:]:\n",
    "        sid, seq, _ = record.split('\\n')\n",
    "        seq_sid.setdefault(seq, sid)\n",
    "        sid_seq.setdefault(sid, seq)\n",
    "    return seq_sid, sid_seq\n",
    "\n",
    "def overlap_suffix(x, y, l):\n",
    "    \"\"\"\n",
    "    locate the length of overlapped strings\n",
    "    \"\"\"\n",
    "    overlap_len = [0]\n",
    "    i = len(x)\n",
    "    while i > max(overlap_len):\n",
    "        j = len(y)\n",
    "        while j > max(overlap_len):\n",
    "            while x[i-l:] == y[j-l:j]:\n",
    "                overlap_len.append(l)\n",
    "                l += 1\n",
    "            j -= 1\n",
    "        i -= 1\n",
    "    return max(overlap_len)\n",
    "\n",
    "def find_overlap(records, overlap):\n",
    "    overlap_pair = []\n",
    "    seqs = list(records.keys())\n",
    "    for i in range(len(seqs)):\n",
    "        for j in range(i+1, len(seqs)):\n",
    "            mi = overlap_suffix(seqs[i], seqs[j], overlap)\n",
    "            mj = overlap_suffix(seqs[j], seqs[i], overlap)\n",
    "            if mi > mj and mi > overlap:\n",
    "                overlap_pair.append([records[seqs[i]], records[seqs[j]], mi])\n",
    "            elif mj > mi and mj > overlap:          \n",
    "                overlap_pair.append([records[seqs[j]], records[seqs[i]], mj])\n",
    "    return overlap_pair\n",
    "\n",
    "\n",
    "fasta_file = '>Rosalind_0498\\nAAATAAA\\n>Rosalind_2391\\nAAATTTT\\n>Rosalind_2323\\nTTTTCCC\\n>Rosalind_0442\\nAAATCCC\\n>Rosalind_5013\\nGGGTGGG\\n'\n",
    "overlap_len = 1\n",
    "seq_sid, sid_seq = read_fasta(fasta_file)\n",
    "overlap_pair = find_overlap(seq_sid, overlap_len)\n",
    "print(overlap_pair)"
   ]
  },
  {
   "cell_type": "markdown",
   "metadata": {},
   "source": [
    "#### Genome Assembly as Shortest Superstring"
   ]
  },
  {
   "cell_type": "code",
   "execution_count": null,
   "metadata": {},
   "outputs": [],
   "source": [
    "def shortest_superstring(overlap_pair, sid_seq):\n",
    "    overlap_pair.sort(key= lambda x: x[2], reverse=True)\n",
    "    overlap_string = ''\n",
    "    done_set = []  \n",
    "    for item in overlap_pair:\n",
    "        if done_set == []:\n",
    "            overlap_string = sid_seq[item[0]] + sid_seq[item[1]][item[2]:]\n",
    "            done_set.append(item[0])\n",
    "            done_set.append(item[1])\n",
    "        elif item[0] == done_set[-1] and item[1] not in done_set:\n",
    "            overlap_string += sid_seq[item[1]][item[2]:] \n",
    "            done_set.append(item[1])\n",
    "    return overlap_string\n",
    "   \n",
    "\n",
    "fasta_file = '>Rosalind_56\\nATTAGACCTG\\n>Rosalind_57\\nCCTGCCGGAA\\n>Rosalind_58\\nAGACCTGCCG\\n>Rosalind_59\\nGCCGGAATAC\\n'\n",
    "records = read_fasta(fasta_file)\n",
    "overlap_len = 1\n",
    "seq_sid, sid_seq = read_fasta(fasta_file)\n",
    "overlap_pair = find_overlap(seq_sid, overlap_len)\n",
    "sss = shortest_superstring(overlap_pair, sid_seq)\n",
    "print(sss == 'ATTAGACCTGCCGGAATAC')\n",
    "print(overlap_pair)"
   ]
  },
  {
   "cell_type": "markdown",
   "metadata": {},
   "source": [
    "#### K-mer composition"
   ]
  },
  {
   "cell_type": "code",
   "execution_count": null,
   "metadata": {},
   "outputs": [],
   "source": [
    "import itertools\n",
    "\n",
    "def ngram2index(ngram):\n",
    "    return [''.join(item) for item in itertools.product('ACGT', repeat=ngram)]\n",
    "\n",
    "                                                        \n",
    "def kmer_composition(dna, k):\n",
    "    ngram = ngram2index(k)\n",
    "    kmer = {}\n",
    "    for i in range(len(dna) - k + 1):\n",
    "        kmer[dna[i:i+k]] = kmer.get(dna[i:i+k], 0)+1\n",
    "    return [kmer.get(item, 0) for item in ngram]\n",
    "\n",
    "        \n",
    "my_dna = 'CTTCGAAAGTTTGGGCCGAGTCTTACAGTCGGTCTTGAAGCAAAGTAACGAACTCCACGGCCCTGACTACCGAACCAGTTGTGAGTACTCAACTGGGTGAGAGTGCAGTCCCTATTGAGTTTCCGAGACTCACCGGGATTTTCGATCCAGCCTCAGTCCAGTCTTGTGGCCAACTCACCAAATGACGTTGGAATATCCCTGTCTAGCTCACGCAGTACTTAGTAAGAGGTCGCTGCAGCGGGGCAAGGAGATCGGAAAATGTGCTCTATATGCGACTAAAGCTCCTAACTTACACGTAGACTTGCCCGTGTTAAAAACTCGGCTCACATGCTGTCTGCGGCTGGCTGTATACAGTATCTACCTAATACCCTTCAGTTCGCCGCACAAAAGCTGGGAGTTACCGCGGAAATCACAG'\n",
    "kmer = kmer_composition(my_dna, 4)   \n",
    "print(kmer)"
   ]
  },
  {
   "cell_type": "markdown",
   "metadata": {},
   "source": [
    "#### Constructing De Bruijn Graph\n"
   ]
  },
  {
   "cell_type": "code",
   "execution_count": null,
   "metadata": {},
   "outputs": [],
   "source": [
    "def get_kmer(dna):\n",
    "    k = len(dna) - 1\n",
    "    return [dna[i:i+k] for i in range(len(dna) - k + 1)]\n",
    "        \n",
    "def de_bruijn_graph(dna):\n",
    "    edges = {}\n",
    "    all_kmer = set([kmer for item in dna for kmer in get_kmer(item) ])\n",
    "    for i in all_kmer:\n",
    "        for j in all_kmer:\n",
    "            if i[1:] == j[:len(j)-1]:\n",
    "                edges.setdefault(i, set([])).add(j)\n",
    "            elif j[1:] == i[:len(j)-1]:\n",
    "                edges.setdefault(j, set([])).add(i)\n",
    "    return edges\n",
    "\n",
    "dna = 'TGAT\\nCATG\\nTCAT\\nATGC\\nCATC\\nCATC'\n",
    "paths = de_bruijn_graph(dna.split('\\n'))\n",
    "print(paths)"
   ]
  },
  {
   "cell_type": "markdown",
   "metadata": {},
   "source": [
    "#### Genome assembly with perfect coverage"
   ]
  },
  {
   "cell_type": "code",
   "execution_count": null,
   "metadata": {},
   "outputs": [],
   "source": [
    "def cyclic_superstring(edges):\n",
    "    cyclic_string = ''\n",
    "    all_edges = list(edges.keys())\n",
    "    stack = []\n",
    "    while set(stack) != set(all_edges):\n",
    "        for k in edges.keys():\n",
    "            if stack == []:\n",
    "                cyclic_string += k\n",
    "                stack.append(k)\n",
    "                nodes = list(edges[k])\n",
    "                cyclic_string += nodes[0][-1]\n",
    "                stack.append(nodes[0])\n",
    "            elif k in stack:\n",
    "                nodes = list(edges[k])\n",
    "                if nodes[0] not in stack:\n",
    "                    cyclic_string += nodes[0][-1]\n",
    "                    stack.append(nodes[0])\n",
    "    return cyclic_string[len(all_edges[0])-1:]\n",
    "\n",
    "\n",
    "dna = 'ATTAC\\nTACAG\\nGATTA\\nACAGA\\nCAGAT\\nTTACA\\nAGATT'\n",
    "paths = de_bruijn_graph(dna.split('\\n'))\n",
    "\n",
    "cyclic_dna = cyclic_superstring(paths)\n",
    "print(cyclic_dna)\n",
    "answer = 'GATTACA'\n",
    "print(answer)"
   ]
  },
  {
   "cell_type": "markdown",
   "metadata": {},
   "source": [
    "#### Practical strategies for applying de Bruijn graphs\n",
    "##### (Source: https://www.ncbi.nlm.nih.gov/pmc/articles/PMC5531759/)\n",
    "##### (Source: https://en.wikipedia.org/wiki/Scaffolding_(bioinformatics))\n",
    "\n",
    "There are key assumptions in assembling the genome using de Bruijn graph method which are not a part of the lecture. Most developed tools have implemented remedies for these key issues in practice. \n",
    "\n",
    "1. Generate all k-mers present in the genome sequencing by breaking the reads into shorter k-mers, e.g. 100-nucleotide reads to 46 overlapping 55-mer.\n",
    "2. Apply error correcting algorithms before aseembling the genomes to handle errors in reads.\n",
    "3. Increase the number of edges connecting between prefixes and suffixes following the number of multiplicity.\n",
    "4. Deal with linear and multiple chromosomes. (No extra algorithm needed as Eulerian's algorithm can handle.)\n",
    "5. Use scaffolding to determine the correct order and orientation of the contigs and approximate the size of the gaps. Gap-filling algorithms can be also used t reduce the size of gaps between contigs. "
   ]
  }
 ],
 "metadata": {
  "kernelspec": {
   "display_name": "Python 3",
   "language": "python",
   "name": "python3"
  },
  "language_info": {
   "codemirror_mode": {
    "name": "ipython",
    "version": 3
   },
   "file_extension": ".py",
   "mimetype": "text/x-python",
   "name": "python",
   "nbconvert_exporter": "python",
   "pygments_lexer": "ipython3",
   "version": "3.6.7"
  }
 },
 "nbformat": 4,
 "nbformat_minor": 2
}
